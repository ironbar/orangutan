{
 "cells": [
  {
   "cell_type": "markdown",
   "metadata": {
    "toc": true
   },
   "source": [
    "<h1>Table of Contents<span class=\"tocSkip\"></span></h1>\n",
    "<div class=\"toc\"><ul class=\"toc-item\"><li><span><a href=\"#Imitation-learning\" data-toc-modified-id=\"Imitation-learning-1\">Imitation learning</a></span><ul class=\"toc-item\"><li><span><a href=\"#Imports\" data-toc-modified-id=\"Imports-1.1\">Imports</a></span></li><li><span><a href=\"#Preparing-the-data\" data-toc-modified-id=\"Preparing-the-data-1.2\">Preparing the data</a></span><ul class=\"toc-item\"><li><span><a href=\"#Code\" data-toc-modified-id=\"Code-1.2.1\">Code</a></span></li><li><span><a href=\"#Loading\" data-toc-modified-id=\"Loading-1.2.2\">Loading</a></span></li></ul></li><li><span><a href=\"#Creating-the-model\" data-toc-modified-id=\"Creating-the-model-1.3\">Creating the model</a></span><ul class=\"toc-item\"><li><span><a href=\"#Building-the-model\" data-toc-modified-id=\"Building-the-model-1.3.1\">Building the model</a></span></li></ul></li><li><span><a href=\"#Train\" data-toc-modified-id=\"Train-1.4\">Train</a></span><ul class=\"toc-item\"><li><span><a href=\"#Trainings\" data-toc-modified-id=\"Trainings-1.4.1\">Trainings</a></span></li></ul></li><li><span><a href=\"#Summary-of-first-improvements\" data-toc-modified-id=\"Summary-of-first-improvements-1.5\">Summary of first improvements</a></span></li><li><span><a href=\"#Summary-of-second-improvements\" data-toc-modified-id=\"Summary-of-second-improvements-1.6\">Summary of second improvements</a></span></li></ul></li></ul></div>"
   ]
  },
  {
   "cell_type": "markdown",
   "metadata": {
    "ExecuteTime": {
     "end_time": "2019-07-16T17:26:51.726063Z",
     "start_time": "2019-07-16T17:26:51.723185Z"
    }
   },
   "source": [
    "# Imitation learning"
   ]
  },
  {
   "cell_type": "markdown",
   "metadata": {
    "ExecuteTime": {
     "end_time": "2019-07-16T17:28:38.234552Z",
     "start_time": "2019-07-16T17:28:38.223048Z"
    }
   },
   "source": [
    "On this notebook I will try to improve the agent using the ideas of the second iteration."
   ]
  },
  {
   "cell_type": "markdown",
   "metadata": {
    "heading_collapsed": true
   },
   "source": [
    "## Imports"
   ]
  },
  {
   "cell_type": "code",
   "execution_count": 1,
   "metadata": {
    "ExecuteTime": {
     "end_time": "2019-07-22T16:40:29.039267Z",
     "start_time": "2019-07-22T16:40:25.912007Z"
    },
    "hidden": true
   },
   "outputs": [],
   "source": [
    "import matplotlib.pyplot as plt\n",
    "import cv2\n",
    "import numpy as np\n",
    "from tqdm import tqdm_notebook as tqdm\n",
    "import glob\n",
    "import os\n",
    "from sklearn.preprocessing import OneHotEncoder\n",
    "\n",
    "import tensorflow.keras as keras\n",
    "from tensorflow.keras.models import Model, load_model\n",
    "from tensorflow.keras.layers import Conv2D, MaxPool2D, Dense, Input, Concatenate, Flatten\n",
    "from tensorflow.keras.utils import plot_model\n",
    "from tensorflow.keras.optimizers import Adam\n",
    "from tensorflow.keras.callbacks import EarlyStopping, ReduceLROnPlateau\n",
    "\n",
    "from animalai.envs import UnityEnvironment\n",
    "from animalai.envs.arena_config import ArenaConfig"
   ]
  },
  {
   "cell_type": "markdown",
   "metadata": {},
   "source": [
    "## Preparing the data"
   ]
  },
  {
   "cell_type": "markdown",
   "metadata": {
    "heading_collapsed": true
   },
   "source": [
    "### Code"
   ]
  },
  {
   "cell_type": "code",
   "execution_count": 2,
   "metadata": {
    "ExecuteTime": {
     "end_time": "2019-07-22T16:40:29.045972Z",
     "start_time": "2019-07-22T16:40:29.040743Z"
    },
    "hidden": true
   },
   "outputs": [],
   "source": [
    "def load_games_data(game_filepaths):\n",
    "    data = [np.load(game_filepath) for game_filepath in tqdm(game_filepaths, desc='Loading recorded games')]\n",
    "    ohe = OneHotEncoder(categories=[range(3)], sparse=False)\n",
    "    previous_action = np.concatenate([game['previous_action'] for game in data], axis=0)[:, 0]\n",
    "    ohe.fit(previous_action[:, 1:2])\n",
    "    previous_action = [ohe.transform(previous_action[:, 0:1]), ohe.transform(previous_action[:, 1:2])]\n",
    "    previous_action = np.concatenate(previous_action, axis=1)\n",
    "    model_input = {\n",
    "        'frame': np.concatenate([game['frame'] for game in data], axis=0),\n",
    "        'speed': np.concatenate([game['speed'] for game in data], axis=0)[:, 0]/10,\n",
    "        'previous_action': previous_action,\n",
    "    }\n",
    "    action = np.concatenate([game['action'] for game in data], axis=0)\n",
    "    model_output = {\n",
    "        'action_move': ohe.transform(action[:, 0:1]),\n",
    "        'action_rotate': ohe.transform(action[:, 1:2]),\n",
    "    }\n",
    "    return model_input, model_output"
   ]
  },
  {
   "cell_type": "code",
   "execution_count": 3,
   "metadata": {
    "ExecuteTime": {
     "end_time": "2019-07-22T16:40:29.055507Z",
     "start_time": "2019-07-22T16:40:29.047801Z"
    },
    "hidden": true
   },
   "outputs": [],
   "source": [
    "def mirror_game(game_data):\n",
    "    return _mirror_input_data(game_data[0]), _mirror_output_data(game_data[1])\n",
    "    \n",
    "def _mirror_input_data(input_data):\n",
    "    mirror_input_data = input_data.copy()\n",
    "    mirror_input_data['frame'] = np.flip(mirror_input_data['frame'], axis=2)\n",
    "    mirror_input_data['previous_action'] = mirror_input_data['previous_action'][:, [0, 1, 2, 3, 5, 4]]\n",
    "    return mirror_input_data\n",
    "\n",
    "def _mirror_output_data(output_data):\n",
    "    mirror_output_data = output_data.copy()\n",
    "    mirror_output_data['action_rotate'] = mirror_output_data['action_rotate'][:, [0, 2, 1]]\n",
    "    return mirror_output_data"
   ]
  },
  {
   "cell_type": "code",
   "execution_count": 4,
   "metadata": {
    "ExecuteTime": {
     "end_time": "2019-07-22T16:40:29.065299Z",
     "start_time": "2019-07-22T16:40:29.056640Z"
    },
    "hidden": true
   },
   "outputs": [],
   "source": [
    "def duplicate_games(game_data):\n",
    "    mirror_game_data = mirror_game(game_data)\n",
    "    input_data, output_data = {}, {}\n",
    "    for key in game_data[0]:\n",
    "        input_data[key] = np.concatenate([game_data[0][key], mirror_game_data[0][key]], axis=0)\n",
    "    for key in game_data[1]:\n",
    "        output_data[key] = np.concatenate([game_data[1][key], mirror_game_data[1][key]], axis=0)\n",
    "    return input_data, output_data"
   ]
  },
  {
   "cell_type": "markdown",
   "metadata": {},
   "source": [
    "### Loading"
   ]
  },
  {
   "cell_type": "code",
   "execution_count": 5,
   "metadata": {
    "ExecuteTime": {
     "end_time": "2019-07-22T16:40:29.098693Z",
     "start_time": "2019-07-22T16:40:29.066513Z"
    }
   },
   "outputs": [
    {
     "data": {
      "text/plain": [
       "223"
      ]
     },
     "execution_count": 5,
     "metadata": {},
     "output_type": "execute_result"
    }
   ],
   "source": [
    "game_filepaths = glob.glob(os.path.join('/media/guillermo/Data/Kaggle/animalai/gameplay', '*', '*.npz'))\n",
    "\n",
    "game_filepaths = sorted(game_filepaths)\n",
    "np.random.seed(7)\n",
    "np.random.shuffle(game_filepaths)\n",
    "len(game_filepaths)"
   ]
  },
  {
   "cell_type": "code",
   "execution_count": 6,
   "metadata": {
    "ExecuteTime": {
     "end_time": "2019-07-22T16:40:54.059007Z",
     "start_time": "2019-07-22T16:40:29.100690Z"
    }
   },
   "outputs": [
    {
     "data": {
      "application/vnd.jupyter.widget-view+json": {
       "model_id": "5f0fad76a4604273b19cc6afe775a6f9",
       "version_major": 2,
       "version_minor": 0
      },
      "text/plain": [
       "HBox(children=(IntProgress(value=0, description='Loading recorded games', max=178, style=ProgressStyle(descrip…"
      ]
     },
     "metadata": {},
     "output_type": "display_data"
    },
    {
     "name": "stdout",
     "output_type": "stream",
     "text": [
      "\n"
     ]
    },
    {
     "data": {
      "application/vnd.jupyter.widget-view+json": {
       "model_id": "f26191264219447c819d4832f37371ef",
       "version_major": 2,
       "version_minor": 0
      },
      "text/plain": [
       "HBox(children=(IntProgress(value=0, description='Loading recorded games', max=45, style=ProgressStyle(descript…"
      ]
     },
     "metadata": {},
     "output_type": "display_data"
    },
    {
     "name": "stdout",
     "output_type": "stream",
     "text": [
      "\n",
      "Number of train samples: 23140\n",
      "Number of validation samples: 6700\n"
     ]
    }
   ],
   "source": [
    "val_idx = 1\n",
    "val_filepaths = game_filepaths[val_idx::5]\n",
    "train_filepaths = [game for game in game_filepaths if game not in val_filepaths]\n",
    "train = load_games_data(train_filepaths)\n",
    "val = load_games_data(val_filepaths)\n",
    "\n",
    "train = duplicate_games(train)\n",
    "val = duplicate_games(val)\n",
    "\n",
    "print('Number of train samples: %i' % len(train[0]['frame']))\n",
    "print('Number of validation samples: %i' % len(val[0]['frame']))"
   ]
  },
  {
   "cell_type": "markdown",
   "metadata": {
    "heading_collapsed": true
   },
   "source": [
    "## Creating the model"
   ]
  },
  {
   "cell_type": "markdown",
   "metadata": {
    "hidden": true
   },
   "source": [
    "The idea is to process the frame using a lenet like network and merge it later with speed and previous move to take a decision over the actions.\n",
    "\n",
    "![](https://miro.medium.com/max/2625/1*1TI1aGBZ4dybR6__DI9dzA.png)"
   ]
  },
  {
   "cell_type": "markdown",
   "metadata": {
    "hidden": true
   },
   "source": [
    "### Building the model"
   ]
  },
  {
   "cell_type": "code",
   "execution_count": 7,
   "metadata": {
    "ExecuteTime": {
     "end_time": "2019-07-22T16:40:54.065655Z",
     "start_time": "2019-07-22T16:40:54.060680Z"
    },
    "code_folding": [],
    "hidden": true
   },
   "outputs": [],
   "source": [
    "def build_model(conv_filters, mlp_units):\n",
    "    frame = Input(shape=(84, 84, 3), name='frame')\n",
    "    output = frame\n",
    "    for n_filters in conv_filters:\n",
    "        output = Conv2D(filters=n_filters, kernel_size=(3, 3), activation='relu')(output)\n",
    "        if int(output.get_shape()[1]) >= 2:\n",
    "            output = MaxPool2D()(output)\n",
    "    output = Flatten()(output)\n",
    "    \n",
    "    speed = Input(shape=(3), name='speed')\n",
    "    previous_action = Input(shape=(6), name='previous_action')\n",
    "    \n",
    "    output = Concatenate()([output, speed, previous_action])\n",
    "    \n",
    "    for n_units in mlp_units:\n",
    "        output = Dense(n_units, activation='relu')(output)\n",
    "    \n",
    "    action_move = Dense(3, activation='softmax', name='action_move')(output)\n",
    "    action_rotate = Dense(3, activation='softmax', name='action_rotate')(output)\n",
    "    \n",
    "    model = Model(inputs=dict(frame=frame, speed=speed, previous_action=previous_action), outputs=[action_move, action_rotate])\n",
    "    return model"
   ]
  },
  {
   "cell_type": "markdown",
   "metadata": {},
   "source": [
    "## Train"
   ]
  },
  {
   "cell_type": "code",
   "execution_count": 8,
   "metadata": {
    "ExecuteTime": {
     "end_time": "2019-07-22T16:40:54.079275Z",
     "start_time": "2019-07-22T16:40:54.067015Z"
    }
   },
   "outputs": [],
   "source": [
    "def train_model(conv_filters, mlp_units):\n",
    "    model = build_model(conv_filters, mlp_units)\n",
    "    model.summary()\n",
    "    model.compile(Adam(learning_rate=1e-3), loss='categorical_crossentropy', metrics=['accuracy'])\n",
    "    callbacks = [\n",
    "        EarlyStopping(monitor='val_loss', patience=20, restore_best_weights=True, verbose=1),\n",
    "        ReduceLROnPlateau(monitor='loss', patience=2, factor=0.7, verbose=1)\n",
    "    ]\n",
    "    hist = model.fit(x=train[0], y=train[1], epochs=500, validation_data=val, callbacks=callbacks)\n",
    "    plot_hist(hist.history)\n",
    "    return model\n",
    "    \n",
    "def plot_hist(hist):\n",
    "    plt.figure(figsize=(25, 5))\n",
    "    keys = ['loss']\n",
    "    for key in keys:\n",
    "        prefix = ''\n",
    "        label = '%s%s' % (prefix, key)\n",
    "        best_score = np.min(hist[label])\n",
    "        plt.plot(hist[label], label='%s %.4f' % (label, best_score))\n",
    "        print('%s %.4f' % (label, best_score))\n",
    "        \n",
    "        plt.twinx()\n",
    "        prefix = 'val_'\n",
    "        label = '%s%s' % (prefix, key)\n",
    "        best_score = np.min(hist[label])\n",
    "        plt.plot(hist[label], label='%s %.4f' % (label, best_score), color='orange')\n",
    "        print('%s %.4f' % (label, best_score))\n",
    "    plt.legend(loc=0)"
   ]
  },
  {
   "cell_type": "markdown",
   "metadata": {},
   "source": [
    "### Trainings"
   ]
  },
  {
   "cell_type": "code",
   "execution_count": 9,
   "metadata": {
    "ExecuteTime": {
     "end_time": "2019-07-22T16:44:12.396840Z",
     "start_time": "2019-07-22T16:40:54.080669Z"
    }
   },
   "outputs": [
    {
     "name": "stderr",
     "output_type": "stream",
     "text": [
      "WARNING: Logging before flag parsing goes to stderr.\n",
      "W0722 18:40:54.130225 139863416227648 deprecation.py:506] From /home/guillermo/miniconda3/envs/animal/lib/python3.6/site-packages/tensorflow/python/ops/init_ops.py:1251: calling VarianceScaling.__init__ (from tensorflow.python.ops.init_ops) with dtype is deprecated and will be removed in a future version.\n",
      "Instructions for updating:\n",
      "Call initializer instance with the dtype argument instead of passing it to the constructor\n"
     ]
    },
    {
     "name": "stdout",
     "output_type": "stream",
     "text": [
      "Model: \"model\"\n",
      "__________________________________________________________________________________________________\n",
      "Layer (type)                    Output Shape         Param #     Connected to                     \n",
      "==================================================================================================\n",
      "frame (InputLayer)              [(None, 84, 84, 3)]  0                                            \n",
      "__________________________________________________________________________________________________\n",
      "conv2d (Conv2D)                 (None, 82, 82, 8)    224         frame[0][0]                      \n",
      "__________________________________________________________________________________________________\n",
      "max_pooling2d (MaxPooling2D)    (None, 41, 41, 8)    0           conv2d[0][0]                     \n",
      "__________________________________________________________________________________________________\n",
      "conv2d_1 (Conv2D)               (None, 39, 39, 8)    584         max_pooling2d[0][0]              \n",
      "__________________________________________________________________________________________________\n",
      "max_pooling2d_1 (MaxPooling2D)  (None, 19, 19, 8)    0           conv2d_1[0][0]                   \n",
      "__________________________________________________________________________________________________\n",
      "conv2d_2 (Conv2D)               (None, 17, 17, 16)   1168        max_pooling2d_1[0][0]            \n",
      "__________________________________________________________________________________________________\n",
      "max_pooling2d_2 (MaxPooling2D)  (None, 8, 8, 16)     0           conv2d_2[0][0]                   \n",
      "__________________________________________________________________________________________________\n",
      "conv2d_3 (Conv2D)               (None, 6, 6, 16)     2320        max_pooling2d_2[0][0]            \n",
      "__________________________________________________________________________________________________\n",
      "max_pooling2d_3 (MaxPooling2D)  (None, 3, 3, 16)     0           conv2d_3[0][0]                   \n",
      "__________________________________________________________________________________________________\n",
      "flatten (Flatten)               (None, 144)          0           max_pooling2d_3[0][0]            \n",
      "__________________________________________________________________________________________________\n",
      "speed (InputLayer)              [(None, 3)]          0                                            \n",
      "__________________________________________________________________________________________________\n",
      "previous_action (InputLayer)    [(None, 6)]          0                                            \n",
      "__________________________________________________________________________________________________\n",
      "concatenate (Concatenate)       (None, 153)          0           flatten[0][0]                    \n",
      "                                                                 speed[0][0]                      \n",
      "                                                                 previous_action[0][0]            \n",
      "__________________________________________________________________________________________________\n",
      "dense (Dense)                   (None, 16)           2464        concatenate[0][0]                \n",
      "__________________________________________________________________________________________________\n",
      "action_move (Dense)             (None, 3)            51          dense[0][0]                      \n",
      "__________________________________________________________________________________________________\n",
      "action_rotate (Dense)           (None, 3)            51          dense[0][0]                      \n",
      "==================================================================================================\n",
      "Total params: 6,862\n",
      "Trainable params: 6,862\n",
      "Non-trainable params: 0\n",
      "__________________________________________________________________________________________________\n",
      "Train on 23140 samples, validate on 6700 samples\n",
      "Epoch 1/500\n",
      "23140/23140 [==============================] - 7s 302us/sample - loss: 1.0951 - action_move_loss: 0.4857 - action_rotate_loss: 0.6085 - action_move_acc: 0.8125 - action_rotate_acc: 0.7703 - val_loss: 0.8321 - val_action_move_loss: 0.4138 - val_action_rotate_loss: 0.4190 - val_action_move_acc: 0.8619 - val_action_rotate_acc: 0.8649\n",
      "Epoch 2/500\n",
      "23140/23140 [==============================] - 5s 224us/sample - loss: 0.7508 - action_move_loss: 0.3684 - action_rotate_loss: 0.3819 - action_move_acc: 0.8650 - action_rotate_acc: 0.8743 - val_loss: 0.7490 - val_action_move_loss: 0.3703 - val_action_rotate_loss: 0.3771 - val_action_move_acc: 0.8706 - val_action_rotate_acc: 0.8734\n",
      "Epoch 3/500\n",
      "23140/23140 [==============================] - 5s 224us/sample - loss: 0.6646 - action_move_loss: 0.3202 - action_rotate_loss: 0.3441 - action_move_acc: 0.8801 - action_rotate_acc: 0.8815 - val_loss: 0.7155 - val_action_move_loss: 0.3515 - val_action_rotate_loss: 0.3644 - val_action_move_acc: 0.8793 - val_action_rotate_acc: 0.8761\n",
      "Epoch 4/500\n",
      "23140/23140 [==============================] - 5s 226us/sample - loss: 0.6298 - action_move_loss: 0.3034 - action_rotate_loss: 0.3274 - action_move_acc: 0.8846 - action_rotate_acc: 0.8860 - val_loss: 0.6983 - val_action_move_loss: 0.3438 - val_action_rotate_loss: 0.3535 - val_action_move_acc: 0.8807 - val_action_rotate_acc: 0.8809\n",
      "Epoch 5/500\n",
      "23140/23140 [==============================] - 5s 225us/sample - loss: 0.6055 - action_move_loss: 0.2910 - action_rotate_loss: 0.3144 - action_move_acc: 0.8904 - action_rotate_acc: 0.8885 - val_loss: 0.6633 - val_action_move_loss: 0.3265 - val_action_rotate_loss: 0.3364 - val_action_move_acc: 0.8884 - val_action_rotate_acc: 0.8849\n",
      "Epoch 6/500\n",
      "23140/23140 [==============================] - 5s 225us/sample - loss: 0.5811 - action_move_loss: 0.2800 - action_rotate_loss: 0.3025 - action_move_acc: 0.8927 - action_rotate_acc: 0.8918 - val_loss: 0.6341 - val_action_move_loss: 0.3156 - val_action_rotate_loss: 0.3189 - val_action_move_acc: 0.8904 - val_action_rotate_acc: 0.8904\n",
      "Epoch 7/500\n",
      "23140/23140 [==============================] - 5s 224us/sample - loss: 0.5683 - action_move_loss: 0.2729 - action_rotate_loss: 0.2948 - action_move_acc: 0.8965 - action_rotate_acc: 0.8927 - val_loss: 0.6351 - val_action_move_loss: 0.3176 - val_action_rotate_loss: 0.3159 - val_action_move_acc: 0.8875 - val_action_rotate_acc: 0.8919\n",
      "Epoch 8/500\n",
      "23140/23140 [==============================] - 5s 225us/sample - loss: 0.5550 - action_move_loss: 0.2664 - action_rotate_loss: 0.2887 - action_move_acc: 0.8998 - action_rotate_acc: 0.8953 - val_loss: 0.6182 - val_action_move_loss: 0.3085 - val_action_rotate_loss: 0.3094 - val_action_move_acc: 0.8870 - val_action_rotate_acc: 0.8882\n",
      "Epoch 9/500\n",
      "23140/23140 [==============================] - 5s 226us/sample - loss: 0.5469 - action_move_loss: 0.2626 - action_rotate_loss: 0.2850 - action_move_acc: 0.9010 - action_rotate_acc: 0.8969 - val_loss: 0.6530 - val_action_move_loss: 0.3282 - val_action_rotate_loss: 0.3250 - val_action_move_acc: 0.8884 - val_action_rotate_acc: 0.8854\n",
      "Epoch 10/500\n",
      "23140/23140 [==============================] - 5s 224us/sample - loss: 0.5353 - action_move_loss: 0.2567 - action_rotate_loss: 0.2781 - action_move_acc: 0.9013 - action_rotate_acc: 0.8983 - val_loss: 0.6153 - val_action_move_loss: 0.3078 - val_action_rotate_loss: 0.3069 - val_action_move_acc: 0.8918 - val_action_rotate_acc: 0.8913\n",
      "Epoch 11/500\n",
      "23140/23140 [==============================] - 5s 225us/sample - loss: 0.5255 - action_move_loss: 0.2520 - action_rotate_loss: 0.2740 - action_move_acc: 0.9038 - action_rotate_acc: 0.8994 - val_loss: 0.6213 - val_action_move_loss: 0.3177 - val_action_rotate_loss: 0.3024 - val_action_move_acc: 0.8896 - val_action_rotate_acc: 0.8937\n",
      "Epoch 12/500\n",
      "23140/23140 [==============================] - 5s 225us/sample - loss: 0.5224 - action_move_loss: 0.2503 - action_rotate_loss: 0.2716 - action_move_acc: 0.9034 - action_rotate_acc: 0.9003 - val_loss: 0.6133 - val_action_move_loss: 0.3076 - val_action_rotate_loss: 0.3041 - val_action_move_acc: 0.8933 - val_action_rotate_acc: 0.8903\n",
      "Epoch 13/500\n"
     ]
    },
    {
     "name": "stdout",
     "output_type": "stream",
     "text": [
      "23140/23140 [==============================] - 5s 223us/sample - loss: 0.5167 - action_move_loss: 0.2481 - action_rotate_loss: 0.2695 - action_move_acc: 0.9030 - action_rotate_acc: 0.9003 - val_loss: 0.5913 - val_action_move_loss: 0.2941 - val_action_rotate_loss: 0.2966 - val_action_move_acc: 0.8912 - val_action_rotate_acc: 0.8927\n",
      "Epoch 14/500\n",
      "23140/23140 [==============================] - 5s 223us/sample - loss: 0.5099 - action_move_loss: 0.2437 - action_rotate_loss: 0.2657 - action_move_acc: 0.9052 - action_rotate_acc: 0.9008 - val_loss: 0.6012 - val_action_move_loss: 0.2996 - val_action_rotate_loss: 0.3016 - val_action_move_acc: 0.8887 - val_action_rotate_acc: 0.8876\n",
      "Epoch 15/500\n",
      "23140/23140 [==============================] - 5s 225us/sample - loss: 0.5056 - action_move_loss: 0.2418 - action_rotate_loss: 0.2636 - action_move_acc: 0.9042 - action_rotate_acc: 0.9010 - val_loss: 0.5978 - val_action_move_loss: 0.2977 - val_action_rotate_loss: 0.2997 - val_action_move_acc: 0.8872 - val_action_rotate_acc: 0.8857\n",
      "Epoch 16/500\n",
      "23140/23140 [==============================] - 5s 225us/sample - loss: 0.4974 - action_move_loss: 0.2378 - action_rotate_loss: 0.2593 - action_move_acc: 0.9074 - action_rotate_acc: 0.9041 - val_loss: 0.5821 - val_action_move_loss: 0.2891 - val_action_rotate_loss: 0.2920 - val_action_move_acc: 0.8955 - val_action_rotate_acc: 0.8922\n",
      "Epoch 17/500\n",
      "23140/23140 [==============================] - 5s 224us/sample - loss: 0.4985 - action_move_loss: 0.2386 - action_rotate_loss: 0.2594 - action_move_acc: 0.9053 - action_rotate_acc: 0.9021 - val_loss: 0.5758 - val_action_move_loss: 0.2863 - val_action_rotate_loss: 0.2905 - val_action_move_acc: 0.8939 - val_action_rotate_acc: 0.8900\n",
      "Epoch 18/500\n",
      "23140/23140 [==============================] - 5s 225us/sample - loss: 0.4937 - action_move_loss: 0.2361 - action_rotate_loss: 0.2570 - action_move_acc: 0.9085 - action_rotate_acc: 0.9031 - val_loss: 0.5817 - val_action_move_loss: 0.2911 - val_action_rotate_loss: 0.2908 - val_action_move_acc: 0.8987 - val_action_rotate_acc: 0.8943\n",
      "Epoch 19/500\n",
      "23140/23140 [==============================] - 5s 225us/sample - loss: 0.4907 - action_move_loss: 0.2346 - action_rotate_loss: 0.2558 - action_move_acc: 0.9083 - action_rotate_acc: 0.9045 - val_loss: 0.5777 - val_action_move_loss: 0.2873 - val_action_rotate_loss: 0.2905 - val_action_move_acc: 0.8981 - val_action_rotate_acc: 0.8907\n",
      "Epoch 20/500\n",
      "23140/23140 [==============================] - 5s 225us/sample - loss: 0.4861 - action_move_loss: 0.2322 - action_rotate_loss: 0.2534 - action_move_acc: 0.9083 - action_rotate_acc: 0.9040 - val_loss: 0.5927 - val_action_move_loss: 0.2968 - val_action_rotate_loss: 0.2959 - val_action_move_acc: 0.8933 - val_action_rotate_acc: 0.8893\n",
      "Epoch 21/500\n",
      "23140/23140 [==============================] - 5s 229us/sample - loss: 0.4812 - action_move_loss: 0.2300 - action_rotate_loss: 0.2508 - action_move_acc: 0.9080 - action_rotate_acc: 0.9042 - val_loss: 0.5839 - val_action_move_loss: 0.2931 - val_action_rotate_loss: 0.2919 - val_action_move_acc: 0.8918 - val_action_rotate_acc: 0.8891\n",
      "Epoch 22/500\n",
      "23140/23140 [==============================] - 5s 225us/sample - loss: 0.4775 - action_move_loss: 0.2291 - action_rotate_loss: 0.2488 - action_move_acc: 0.9093 - action_rotate_acc: 0.9054 - val_loss: 0.5976 - val_action_move_loss: 0.3026 - val_action_rotate_loss: 0.2954 - val_action_move_acc: 0.8946 - val_action_rotate_acc: 0.8934\n",
      "Epoch 23/500\n",
      "23140/23140 [==============================] - 5s 225us/sample - loss: 0.4739 - action_move_loss: 0.2274 - action_rotate_loss: 0.2483 - action_move_acc: 0.9102 - action_rotate_acc: 0.9066 - val_loss: 0.5985 - val_action_move_loss: 0.3037 - val_action_rotate_loss: 0.2949 - val_action_move_acc: 0.8924 - val_action_rotate_acc: 0.8924\n",
      "Epoch 24/500\n",
      "23140/23140 [==============================] - 5s 225us/sample - loss: 0.4733 - action_move_loss: 0.2272 - action_rotate_loss: 0.2463 - action_move_acc: 0.9102 - action_rotate_acc: 0.9058 - val_loss: 0.5821 - val_action_move_loss: 0.2940 - val_action_rotate_loss: 0.2886 - val_action_move_acc: 0.8967 - val_action_rotate_acc: 0.8919\n",
      "Epoch 25/500\n",
      "23140/23140 [==============================] - 5s 225us/sample - loss: 0.4703 - action_move_loss: 0.2254 - action_rotate_loss: 0.2444 - action_move_acc: 0.9111 - action_rotate_acc: 0.9065 - val_loss: 0.5847 - val_action_move_loss: 0.2918 - val_action_rotate_loss: 0.2942 - val_action_move_acc: 0.8948 - val_action_rotate_acc: 0.8890\n",
      "Epoch 26/500\n",
      "23140/23140 [==============================] - 5s 226us/sample - loss: 0.4677 - action_move_loss: 0.2242 - action_rotate_loss: 0.2430 - action_move_acc: 0.9109 - action_rotate_acc: 0.9078 - val_loss: 0.5884 - val_action_move_loss: 0.2961 - val_action_rotate_loss: 0.2921 - val_action_move_acc: 0.8949 - val_action_rotate_acc: 0.8910\n",
      "Epoch 27/500\n",
      "23140/23140 [==============================] - 5s 228us/sample - loss: 0.4644 - action_move_loss: 0.2236 - action_rotate_loss: 0.2425 - action_move_acc: 0.9123 - action_rotate_acc: 0.9075 - val_loss: 0.5959 - val_action_move_loss: 0.2993 - val_action_rotate_loss: 0.2990 - val_action_move_acc: 0.8951 - val_action_rotate_acc: 0.8937\n",
      "Epoch 28/500\n",
      "23140/23140 [==============================] - 5s 224us/sample - loss: 0.4603 - action_move_loss: 0.2213 - action_rotate_loss: 0.2387 - action_move_acc: 0.9116 - action_rotate_acc: 0.9073 - val_loss: 0.6315 - val_action_move_loss: 0.3150 - val_action_rotate_loss: 0.3151 - val_action_move_acc: 0.8885 - val_action_rotate_acc: 0.8846\n",
      "Epoch 29/500\n",
      "23140/23140 [==============================] - 5s 227us/sample - loss: 0.4564 - action_move_loss: 0.2189 - action_rotate_loss: 0.2372 - action_move_acc: 0.9124 - action_rotate_acc: 0.9082 - val_loss: 0.6009 - val_action_move_loss: 0.3077 - val_action_rotate_loss: 0.2983 - val_action_move_acc: 0.8943 - val_action_rotate_acc: 0.8891\n",
      "Epoch 30/500\n",
      "23140/23140 [==============================] - 5s 227us/sample - loss: 0.4526 - action_move_loss: 0.2191 - action_rotate_loss: 0.2368 - action_move_acc: 0.9128 - action_rotate_acc: 0.9103 - val_loss: 0.6170 - val_action_move_loss: 0.3096 - val_action_rotate_loss: 0.3081 - val_action_move_acc: 0.8951 - val_action_rotate_acc: 0.8884\n",
      "Epoch 31/500\n",
      "23140/23140 [==============================] - 5s 226us/sample - loss: 0.4531 - action_move_loss: 0.2176 - action_rotate_loss: 0.2354 - action_move_acc: 0.9131 - action_rotate_acc: 0.9099 - val_loss: 0.5875 - val_action_move_loss: 0.2962 - val_action_rotate_loss: 0.2909 - val_action_move_acc: 0.8963 - val_action_rotate_acc: 0.8900\n",
      "Epoch 32/500\n",
      "23140/23140 [==============================] - 5s 225us/sample - loss: 0.4462 - action_move_loss: 0.2145 - action_rotate_loss: 0.2312 - action_move_acc: 0.9149 - action_rotate_acc: 0.9115 - val_loss: 0.6003 - val_action_move_loss: 0.3033 - val_action_rotate_loss: 0.2972 - val_action_move_acc: 0.8961 - val_action_rotate_acc: 0.8904\n",
      "Epoch 33/500\n",
      "23140/23140 [==============================] - 5s 229us/sample - loss: 0.4459 - action_move_loss: 0.2145 - action_rotate_loss: 0.2312 - action_move_acc: 0.9145 - action_rotate_acc: 0.9104 - val_loss: 0.5905 - val_action_move_loss: 0.2956 - val_action_rotate_loss: 0.2965 - val_action_move_acc: 0.8960 - val_action_rotate_acc: 0.8906\n",
      "Epoch 34/500\n",
      "23140/23140 [==============================] - 5s 227us/sample - loss: 0.4397 - action_move_loss: 0.2115 - action_rotate_loss: 0.2285 - action_move_acc: 0.9155 - action_rotate_acc: 0.9108 - val_loss: 0.6267 - val_action_move_loss: 0.3154 - val_action_rotate_loss: 0.3118 - val_action_move_acc: 0.8930 - val_action_rotate_acc: 0.8884\n",
      "Epoch 35/500\n",
      "23140/23140 [==============================] - 5s 227us/sample - loss: 0.4395 - action_move_loss: 0.2124 - action_rotate_loss: 0.2294 - action_move_acc: 0.9146 - action_rotate_acc: 0.9098 - val_loss: 0.6388 - val_action_move_loss: 0.3272 - val_action_rotate_loss: 0.3127 - val_action_move_acc: 0.8933 - val_action_rotate_acc: 0.8833\n",
      "Epoch 36/500\n",
      "23140/23140 [==============================] - 5s 228us/sample - loss: 0.4366 - action_move_loss: 0.2099 - action_rotate_loss: 0.2266 - action_move_acc: 0.9152 - action_rotate_acc: 0.9109 - val_loss: 0.6327 - val_action_move_loss: 0.3226 - val_action_rotate_loss: 0.3106 - val_action_move_acc: 0.8921 - val_action_rotate_acc: 0.8869\n"
     ]
    },
    {
     "name": "stdout",
     "output_type": "stream",
     "text": [
      "Epoch 37/500\n",
      "23136/23140 [============================>.] - ETA: 0s - loss: 0.4357 - action_move_loss: 0.2093 - action_rotate_loss: 0.2263 - action_move_acc: 0.9170 - action_rotate_acc: 0.9137Restoring model weights from the end of the best epoch.\n",
      "23140/23140 [==============================] - 5s 230us/sample - loss: 0.4356 - action_move_loss: 0.2091 - action_rotate_loss: 0.2261 - action_move_acc: 0.9170 - action_rotate_acc: 0.9137 - val_loss: 0.6515 - val_action_move_loss: 0.3347 - val_action_rotate_loss: 0.3167 - val_action_move_acc: 0.8921 - val_action_rotate_acc: 0.8870\n",
      "Epoch 00037: early stopping\n",
      "loss 0.4356\n",
      "val_loss 0.5758\n"
     ]
    },
    {
     "data": {
      "image/png": "[encoded data removed]",
      "text/plain": [
       "<Figure size 1800x360 with 2 Axes>"
      ]
     },
     "metadata": {
      "needs_background": "light"
     },
     "output_type": "display_data"
    }
   ],
   "source": [
    "args = [8, 8, 16, 16], [16]\n",
    "model = train_model(*args)\n",
    "#model.save('/media/guillermo/Data/Kaggle/animalai/agents/004_better_agent/data/model.hdf')\n",
    "model.save('/media/guillermo/Data/Kaggle/animalai/agents/005_avoid_and_navigation/data/model.hdf')"
   ]
  },
  {
   "cell_type": "code",
   "execution_count": 10,
   "metadata": {
    "ExecuteTime": {
     "end_time": "2019-07-22T16:44:12.564933Z",
     "start_time": "2019-07-22T16:44:12.398070Z"
    }
   },
   "outputs": [
    {
     "data": {
      "text/plain": [
       "0"
      ]
     },
     "execution_count": 10,
     "metadata": {},
     "output_type": "execute_result"
    }
   ],
   "source": [
    "os.system('spd-say End')"
   ]
  },
  {
   "cell_type": "markdown",
   "metadata": {
    "heading_collapsed": true
   },
   "source": [
    "## Summary of first improvements"
   ]
  },
  {
   "cell_type": "markdown",
   "metadata": {
    "hidden": true
   },
   "source": [
    "1. I have trained a model just on static and moving green food and the accuracy of the models seems to be much better. It is surprising that with a few games it is able to achieve the best score on the evaluation levels.\n",
    "2. I have added yellow food, static and moving, the score improves a lot, from 0.74 to 0.97.\n",
    "3. Remove condition for stopped agent. The results are not conclusive but worse\n",
    "4. Fix bug in rotation stop condition. The results are not conclusive but worse\n",
    "5. Improve lights off, I simply don't move when the lights are off. This improves the score\n",
    "6. Advanced stop rotation condition, move forward n_steps.\n",
    "\n",
    "I have made a submission and the result is worse than the previous model. This is indicating that the score that I'm getting from evaluation is not well correlated with the leaderboard."
   ]
  },
  {
   "cell_type": "raw",
   "metadata": {
    "hidden": true
   },
   "source": [
    "name,elapsed_time,level_1-Food,level_2-Preferences,level_3-Obstacles,level_4-Avoidance,level_5-SpatialReasoning,level_6-Generalization,level_7-InternalMemory,level_allObjectsRandom,level_forcedChoice,level_movingFood,level_objectManipulation,mean_score\n",
    "001_simple_food_SL,299.0144,2.22,2.8664,-0.0919,-0.187,-0.2564,-0.4686,0.9251,-0.8723,0.871,1.6776,0.4514,0.6487\n",
    "002_more_games,372.5268,2.2252,3.4143,0.1129,-0.1604,-0.3354,-0.2937,1.6986,0.6251,-0.5352,1.278,0.0775,0.737\n",
    "003_less_games,321.6844,2.2158,3.0042,-0.0986,-0.1861,0.1861,-0.2537,1.0106,-0.3391,0.691,1.6138,0.3823,0.7478\n",
    "004_better_agent,298.7868,2.2420,2.3551,-0.0342,-0.0875,-0.5019,-0.5352,1.8837,0.1091,0.6950,1.9973,0.1117,0.7486\n",
    "004_better_agent,269.4151,2.2296,3.3351,-0.0901,-0.1817,-0.0441,-0.3760,1.4467,0.5751,0.8611,2.6740,0.3273,0.9779\n",
    "004_better_agent,283.8522,2.2296,3.4214,-0.1168,-0.1831,-0.0422,-0.2304,1.6860,0.2753,0.8611,2.2429,0.2710,0.9468\n",
    "004_better_agent,307.5581,2.2296,3.2601,-0.1152,-0.1107,-0.0308,-0.3021,1.8151,0.7094,0.8611,1.9990,-0.0393,0.9342\n",
    "004_better_agent,293.7277,2.2296,3.2601,-0.1152,-0.1107,-0.0308,-0.3021,2.6044,0.5935,0.8611,2.5128,0.1488,1.0592\n",
    "004_better_agent 10 steps,290.3162,2.2296,3.3343,-0.0901,-0.1817,-0.0439,-0.376,2.7929,0.3496,0.8611,1.3673,0.3729,0.9651\n",
    "004_better_agent,275.6832,2.2296,3.3898,-0.0901,-0.2457,-0.181,-0.402,2.3921,0.3405,0.8611,2.0758,0.2218,0.9629\n",
    "004_better_agent,294.2032,2.2212,3.3203,-0.1135,-0.1105,-0.0951,-0.3354,2.5975,0.3624,0.8611,1.6468,0.2872,0.9675\n",
    "004_better_agent,273.0712,2.2214,3.384,-0.1135,-0.1105,-0.0951,-0.3354,2.7032,0.6884,0.8611,1.5934,0.033,0.9846"
   ]
  },
  {
   "cell_type": "markdown",
   "metadata": {},
   "source": [
    "## Summary of second improvements"
   ]
  },
  {
   "cell_type": "markdown",
   "metadata": {},
   "source": [
    "Now the goal is to improve navigation and learn to avoid dead objects.\n",
    "\n",
    "The agent should rotate if the space is empty and head to the goal if there is clear path. If there is a dead zone it should navigate and try to circle it."
   ]
  },
  {
   "cell_type": "markdown",
   "metadata": {},
   "source": [
    "Dead zones are always located in the floor, so I cannot avoid goals or agents falling into them."
   ]
  },
  {
   "cell_type": "markdown",
   "metadata": {},
   "source": [
    "1. Play some games on 4-Avoidance (seed=1)\n",
    "2. Play more gameson 4-Avoidance (seed=2)\n",
    "3. Learn to escape from looking to the border, by playing food and restarting until I start playing looking to the border. I have also created a new level were the agent starts at the border so it's easier to gather memories.\n",
    "4. Remove avoidance levels\n",
    "5. Add spatial navigation, improves on that level but worsen on others for example chasing red food\n",
    "6. Add more spatial navigation, I think that navigation is a hard problem and should probably be learned better by RL\n",
    "7. More playing on border\n",
    "8. Play on moving food\n",
    "9. Add avoidance levels again\n",
    "\n",
    "The problem with the 9th version is that it has some degenerations like going to the border and staying there. I'm goint to try to modify the index assigned to validation to see if we can escape those behaviours. It improves, so I'm going to make a submission and see how it does. \n",
    "\n",
    "This is like trying to keep balance, I improve on one category and suddlenly worsen on other. I think the solution to this is reinforcement learning. That way the model could learn not only what it has to do but also what it does not have to do."
   ]
  },
  {
   "cell_type": "raw",
   "metadata": {},
   "source": [
    "name,elapsed_time,level_1-Food,level_2-Preferences,level_3-Obstacles,level_4-Avoidance,level_5-SpatialReasoning,level_6-Generalization,level_7-InternalMemory,level_allObjectsRandom,level_forcedChoice,level_movingFood,level_objectManipulation,mean_score\n",
    "001_simple_food_SL,299.0144,2.22,2.8664,-0.0919,-0.187,-0.2564,-0.4686,0.9251,-0.8723,0.871,1.6776,0.4514,0.6487\n",
    "002_more_games,372.5268,2.2252,3.4143,0.1129,-0.1604,-0.3354,-0.2937,1.6986,0.6251,-0.5352,1.278,0.0775,0.737\n",
    "003_less_games,321.6844,2.2158,3.0042,-0.0986,-0.1861,0.1861,-0.2537,1.0106,-0.3391,0.691,1.6138,0.3823,0.7478\n",
    "004_better_agent,273.0712,2.2214,3.384,-0.1135,-0.1105,-0.0951,-0.3354,2.7032,0.6884,0.8611,1.5934,0.033,0.9846\n",
    "005_avoid_and_navigation_1,330.1635,2.196,2.2393,0.0047,0.0911,-0.0142,-0.2501,2.5497,0.2873,0.687,1.8787,0.0094,0.8799\n",
    "005_avoid_and_navigation_2,308.3056,2.0871,1.7763,0.0145,-0.1718,-0.1566,-0.1625,2.392,0.425,0.695,1.0907,0.3701,0.76\n",
    "005_avoid_and_navigation_3,364.6908,2.2424,3.2748,0.0037,-0.1868,-0.0236,-0.0217,2.7507,0.5062,0.059,1.6964,-0.0841,0.9288\n",
    "005_avoid_and_navigation_4,291.1851,2.2476,3.2358,-0.029,-0.0972,0.0509,0.0052,2.3417,0.3556,0.691,2.5449,0.2334,1.0527\n",
    "005_avoid_and_navigation_5,313.3635,2.0906,3.1316,-0.0458,-0.0742,0.2239,-0.2938,2.4784,0.6546,0.543,0.9262,0.115,0.8863\n",
    "005_avoid_and_navigation_6,285.8019,2.2498,1.9034,-0.0002,-0.0109,-0.1842,-0.1851,2.6562,-0.5056,0.695,2.0981,0.3633,0.8254\n",
    "005_avoid_and_navigation_7,297.34,2.0328,1.5868,-0.1306,-0.195,-0.1164,-0.1827,2.5993,0.2427,0.6631,0.7076,0.0494,0.6597\n",
    "005_avoid_and_navigation_8,303.4386,2.232,3.1946,0.1637,-0.1562,-0.1425,-0.2143,2.752,-0.4781,0.5026,1.9366,0.2517,0.9129\n",
    "005_avoid_and_navigation_9,306.8554,1.9342,1.6306,-0.0195,-0.0139,-0.2432,-0.3021,2.3238,-0.3622,0.695,0.567,0.302,0.592\n",
    "005_avoid_and_navigation_10,309.8982,2.2274,3.0915,0.0176,-0.1507,-0.3762,-0.2422,2.7075,0.0857,0.699,1.7349,0.3576,0.9229"
   ]
  }
 ],
 "metadata": {
  "hide_input": false,
  "kernelspec": {
   "display_name": "Python (animal)",
   "language": "python",
   "name": "animal"
  },
  "language_info": {
   "codemirror_mode": {
    "name": "ipython",
    "version": 3
   },
   "file_extension": ".py",
   "mimetype": "text/x-python",
   "name": "python",
   "nbconvert_exporter": "python",
   "pygments_lexer": "ipython3",
   "version": "3.6.8"
  },
  "toc": {
   "base_numbering": 1,
   "nav_menu": {},
   "number_sections": false,
   "sideBar": true,
   "skip_h1_title": false,
   "title_cell": "Table of Contents",
   "title_sidebar": "Contents",
   "toc_cell": true,
   "toc_position": {},
   "toc_section_display": true,
   "toc_window_display": false
  },
  "varInspector": {
   "cols": {
    "lenName": 16,
    "lenType": 16,
    "lenVar": 40
   },
   "kernels_config": {
    "python": {
     "delete_cmd_postfix": "",
     "delete_cmd_prefix": "del ",
     "library": "var_list.py",
     "varRefreshCmd": "print(var_dic_list())"
    },
    "r": {
     "delete_cmd_postfix": ") ",
     "delete_cmd_prefix": "rm(",
     "library": "var_list.r",
     "varRefreshCmd": "cat(var_dic_list()) "
    }
   },
   "types_to_exclude": [
    "module",
    "function",
    "builtin_function_or_method",
    "instance",
    "_Feature"
   ],
   "window_display": false
  }
 },
 "nbformat": 4,
 "nbformat_minor": 2
}
