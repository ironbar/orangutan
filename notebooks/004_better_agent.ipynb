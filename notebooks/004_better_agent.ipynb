{
 "cells": [
  {
   "cell_type": "markdown",
   "metadata": {
    "toc": true
   },
   "source": [
    "<h1>Table of Contents<span class=\"tocSkip\"></span></h1>\n",
    "<div class=\"toc\"><ul class=\"toc-item\"><li><span><a href=\"#Imitation-learning\" data-toc-modified-id=\"Imitation-learning-1\">Imitation learning</a></span><ul class=\"toc-item\"><li><span><a href=\"#Imports\" data-toc-modified-id=\"Imports-1.1\">Imports</a></span></li><li><span><a href=\"#Preparing-the-data\" data-toc-modified-id=\"Preparing-the-data-1.2\">Preparing the data</a></span></li><li><span><a href=\"#Creating-the-model\" data-toc-modified-id=\"Creating-the-model-1.3\">Creating the model</a></span><ul class=\"toc-item\"><li><span><a href=\"#Building-the-model\" data-toc-modified-id=\"Building-the-model-1.3.1\">Building the model</a></span></li></ul></li><li><span><a href=\"#Train\" data-toc-modified-id=\"Train-1.4\">Train</a></span><ul class=\"toc-item\"><li><span><a href=\"#Trainings\" data-toc-modified-id=\"Trainings-1.4.1\">Trainings</a></span></li></ul></li><li><span><a href=\"#Summary\" data-toc-modified-id=\"Summary-1.5\">Summary</a></span></li></ul></li></ul></div>"
   ]
  },
  {
   "cell_type": "markdown",
   "metadata": {
    "ExecuteTime": {
     "end_time": "2019-07-16T17:26:51.726063Z",
     "start_time": "2019-07-16T17:26:51.723185Z"
    }
   },
   "source": [
    "# Imitation learning"
   ]
  },
  {
   "cell_type": "markdown",
   "metadata": {
    "ExecuteTime": {
     "end_time": "2019-07-16T17:28:38.234552Z",
     "start_time": "2019-07-16T17:28:38.223048Z"
    }
   },
   "source": [
    "On this notebook I will try to improve the agent using the ideas of the second iteration."
   ]
  },
  {
   "cell_type": "markdown",
   "metadata": {},
   "source": [
    "## Imports"
   ]
  },
  {
   "cell_type": "code",
   "execution_count": 1,
   "metadata": {
    "ExecuteTime": {
     "end_time": "2019-07-21T09:02:17.477370Z",
     "start_time": "2019-07-21T09:02:16.030545Z"
    }
   },
   "outputs": [],
   "source": [
    "import matplotlib.pyplot as plt\n",
    "import cv2\n",
    "import numpy as np\n",
    "from tqdm import tqdm_notebook as tqdm\n",
    "import glob\n",
    "import os\n",
    "from sklearn.preprocessing import OneHotEncoder\n",
    "\n",
    "import tensorflow.keras as keras\n",
    "from tensorflow.keras.models import Model, load_model\n",
    "from tensorflow.keras.layers import Conv2D, MaxPool2D, Dense, Input, Concatenate, Flatten\n",
    "from tensorflow.keras.utils import plot_model\n",
    "from tensorflow.keras.optimizers import Adam\n",
    "from tensorflow.keras.callbacks import EarlyStopping, ReduceLROnPlateau\n",
    "\n",
    "from animalai.envs import UnityEnvironment\n",
    "from animalai.envs.arena_config import ArenaConfig"
   ]
  },
  {
   "cell_type": "markdown",
   "metadata": {
    "heading_collapsed": true
   },
   "source": [
    "## Preparing the data"
   ]
  },
  {
   "cell_type": "code",
   "execution_count": 2,
   "metadata": {
    "ExecuteTime": {
     "end_time": "2019-07-21T09:02:17.484611Z",
     "start_time": "2019-07-21T09:02:17.478973Z"
    },
    "hidden": true
   },
   "outputs": [],
   "source": [
    "def load_games_data(game_filepaths):\n",
    "    data = [np.load(game_filepath) for game_filepath in tqdm(game_filepaths, desc='Loading recorded games')]\n",
    "    ohe = OneHotEncoder(categories=[range(3)], sparse=False)\n",
    "    previous_action = np.concatenate([game['previous_action'] for game in data], axis=0)[:, 0]\n",
    "    ohe.fit(previous_action[:, 1:2])\n",
    "    previous_action = [ohe.transform(previous_action[:, 0:1]), ohe.transform(previous_action[:, 1:2])]\n",
    "    previous_action = np.concatenate(previous_action, axis=1)\n",
    "    model_input = {\n",
    "        'frame': np.concatenate([game['frame'] for game in data], axis=0),\n",
    "        'speed': np.concatenate([game['speed'] for game in data], axis=0)[:, 0]/10,\n",
    "        'previous_action': previous_action,\n",
    "    }\n",
    "    action = np.concatenate([game['action'] for game in data], axis=0)\n",
    "    model_output = {\n",
    "        'action_move': ohe.transform(action[:, 0:1]),\n",
    "        'action_rotate': ohe.transform(action[:, 1:2]),\n",
    "    }\n",
    "    return model_input, model_output"
   ]
  },
  {
   "cell_type": "code",
   "execution_count": 3,
   "metadata": {
    "ExecuteTime": {
     "end_time": "2019-07-21T09:02:17.494660Z",
     "start_time": "2019-07-21T09:02:17.486575Z"
    },
    "hidden": true
   },
   "outputs": [],
   "source": [
    "def mirror_game(game_data):\n",
    "    return _mirror_input_data(game_data[0]), _mirror_output_data(game_data[1])\n",
    "    \n",
    "def _mirror_input_data(input_data):\n",
    "    mirror_input_data = input_data.copy()\n",
    "    mirror_input_data['frame'] = np.flip(mirror_input_data['frame'], axis=2)\n",
    "    mirror_input_data['previous_action'] = mirror_input_data['previous_action'][:, [0, 1, 2, 3, 5, 4]]\n",
    "    return mirror_input_data\n",
    "\n",
    "def _mirror_output_data(output_data):\n",
    "    mirror_output_data = output_data.copy()\n",
    "    mirror_output_data['action_rotate'] = mirror_output_data['action_rotate'][:, [0, 2, 1]]\n",
    "    return mirror_output_data"
   ]
  },
  {
   "cell_type": "code",
   "execution_count": 4,
   "metadata": {
    "ExecuteTime": {
     "end_time": "2019-07-21T09:02:17.511144Z",
     "start_time": "2019-07-21T09:02:17.496082Z"
    },
    "hidden": true
   },
   "outputs": [],
   "source": [
    "def duplicate_games(game_data):\n",
    "    mirror_game_data = mirror_game(game_data)\n",
    "    input_data, output_data = {}, {}\n",
    "    for key in game_data[0]:\n",
    "        input_data[key] = np.concatenate([game_data[0][key], mirror_game_data[0][key]], axis=0)\n",
    "    for key in game_data[1]:\n",
    "        output_data[key] = np.concatenate([game_data[1][key], mirror_game_data[1][key]], axis=0)\n",
    "    return input_data, output_data"
   ]
  },
  {
   "cell_type": "code",
   "execution_count": 5,
   "metadata": {
    "ExecuteTime": {
     "end_time": "2019-07-21T09:02:17.522685Z",
     "start_time": "2019-07-21T09:02:17.512513Z"
    },
    "hidden": true
   },
   "outputs": [
    {
     "data": {
      "text/plain": [
       "101"
      ]
     },
     "execution_count": 5,
     "metadata": {},
     "output_type": "execute_result"
    }
   ],
   "source": [
    "game_filepaths = glob.glob(os.path.join('/media/guillermo/Data/Kaggle/animalai/gameplay', '*', '*.npz'))\n",
    "\n",
    "game_filepaths = sorted(game_filepaths)\n",
    "np.random.seed(7)\n",
    "np.random.shuffle(game_filepaths)\n",
    "len(game_filepaths)"
   ]
  },
  {
   "cell_type": "code",
   "execution_count": 6,
   "metadata": {
    "ExecuteTime": {
     "end_time": "2019-07-21T09:02:19.619819Z",
     "start_time": "2019-07-21T09:02:17.524154Z"
    },
    "hidden": true
   },
   "outputs": [
    {
     "data": {
      "application/vnd.jupyter.widget-view+json": {
       "model_id": "de5c560811e44983b8ba02880a0aed3f",
       "version_major": 2,
       "version_minor": 0
      },
      "text/plain": [
       "HBox(children=(IntProgress(value=0, description='Loading recorded games', max=81, style=ProgressStyle(descript…"
      ]
     },
     "metadata": {},
     "output_type": "display_data"
    },
    {
     "name": "stdout",
     "output_type": "stream",
     "text": [
      "\n"
     ]
    },
    {
     "data": {
      "application/vnd.jupyter.widget-view+json": {
       "model_id": "c194576dc6224f4c89f93b6fffb415d2",
       "version_major": 2,
       "version_minor": 0
      },
      "text/plain": [
       "HBox(children=(IntProgress(value=0, description='Loading recorded games', max=20, style=ProgressStyle(descript…"
      ]
     },
     "metadata": {},
     "output_type": "display_data"
    },
    {
     "name": "stdout",
     "output_type": "stream",
     "text": [
      "\n",
      "Number of train samples: 7894\n",
      "Number of validation samples: 1660\n"
     ]
    }
   ],
   "source": [
    "train = load_games_data(game_filepaths[:-int(len(game_filepaths)//5)])\n",
    "val = load_games_data(game_filepaths[-int(len(game_filepaths)//5):])\n",
    "\n",
    "train = duplicate_games(train)\n",
    "val = duplicate_games(val)\n",
    "\n",
    "print('Number of train samples: %i' % len(train[0]['frame']))\n",
    "print('Number of validation samples: %i' % len(val[0]['frame']))"
   ]
  },
  {
   "cell_type": "markdown",
   "metadata": {
    "heading_collapsed": true
   },
   "source": [
    "## Creating the model"
   ]
  },
  {
   "cell_type": "markdown",
   "metadata": {
    "hidden": true
   },
   "source": [
    "The idea is to process the frame using a lenet like network and merge it later with speed and previous move to take a decision over the actions.\n",
    "\n",
    "![](https://miro.medium.com/max/2625/1*1TI1aGBZ4dybR6__DI9dzA.png)"
   ]
  },
  {
   "cell_type": "markdown",
   "metadata": {
    "hidden": true
   },
   "source": [
    "### Building the model"
   ]
  },
  {
   "cell_type": "code",
   "execution_count": 7,
   "metadata": {
    "ExecuteTime": {
     "end_time": "2019-07-21T09:02:19.626530Z",
     "start_time": "2019-07-21T09:02:19.621601Z"
    },
    "code_folding": [],
    "hidden": true
   },
   "outputs": [],
   "source": [
    "def build_model(conv_filters, mlp_units):\n",
    "    frame = Input(shape=(84, 84, 3), name='frame')\n",
    "    output = frame\n",
    "    for n_filters in conv_filters:\n",
    "        output = Conv2D(filters=n_filters, kernel_size=(3, 3), activation='relu')(output)\n",
    "        if int(output.get_shape()[1]) >= 2:\n",
    "            output = MaxPool2D()(output)\n",
    "    output = Flatten()(output)\n",
    "    \n",
    "    speed = Input(shape=(3), name='speed')\n",
    "    previous_action = Input(shape=(6), name='previous_action')\n",
    "    \n",
    "    output = Concatenate()([output, speed, previous_action])\n",
    "    \n",
    "    for n_units in mlp_units:\n",
    "        output = Dense(n_units, activation='relu')(output)\n",
    "    \n",
    "    action_move = Dense(3, activation='softmax', name='action_move')(output)\n",
    "    action_rotate = Dense(3, activation='softmax', name='action_rotate')(output)\n",
    "    \n",
    "    model = Model(inputs=dict(frame=frame, speed=speed, previous_action=previous_action), outputs=[action_move, action_rotate])\n",
    "    return model"
   ]
  },
  {
   "cell_type": "markdown",
   "metadata": {},
   "source": [
    "## Train"
   ]
  },
  {
   "cell_type": "code",
   "execution_count": 8,
   "metadata": {
    "ExecuteTime": {
     "end_time": "2019-07-21T09:02:19.638062Z",
     "start_time": "2019-07-21T09:02:19.628107Z"
    }
   },
   "outputs": [],
   "source": [
    "def train_model(conv_filters, mlp_units):\n",
    "    model = build_model(conv_filters, mlp_units)\n",
    "    model.summary()\n",
    "    model.compile(Adam(learning_rate=1e-3), loss='categorical_crossentropy', metrics=['accuracy'])\n",
    "    callbacks = [\n",
    "        EarlyStopping(monitor='val_loss', patience=20, restore_best_weights=True, verbose=1),\n",
    "        ReduceLROnPlateau(monitor='loss', patience=2, factor=0.7, verbose=1)\n",
    "    ]\n",
    "    hist = model.fit(x=train[0], y=train[1], epochs=500, validation_data=val, callbacks=callbacks)\n",
    "    plot_hist(hist.history)\n",
    "    return model\n",
    "    \n",
    "def plot_hist(hist):\n",
    "    plt.figure(figsize=(25, 5))\n",
    "    keys = ['loss']\n",
    "    for key in keys:\n",
    "        prefix = ''\n",
    "        label = '%s%s' % (prefix, key)\n",
    "        best_score = np.min(hist[label])\n",
    "        plt.plot(hist[label], label='%s %.4f' % (label, best_score))\n",
    "        print('%s %.4f' % (label, best_score))\n",
    "        \n",
    "        plt.twinx()\n",
    "        prefix = 'val_'\n",
    "        label = '%s%s' % (prefix, key)\n",
    "        best_score = np.min(hist[label])\n",
    "        plt.plot(hist[label], label='%s %.4f' % (label, best_score), color='orange')\n",
    "        print('%s %.4f' % (label, best_score))\n",
    "    plt.legend(loc=0)"
   ]
  },
  {
   "cell_type": "markdown",
   "metadata": {},
   "source": [
    "### Trainings"
   ]
  },
  {
   "cell_type": "code",
   "execution_count": 9,
   "metadata": {
    "ExecuteTime": {
     "end_time": "2019-07-21T09:03:34.902741Z",
     "start_time": "2019-07-21T09:02:19.639888Z"
    }
   },
   "outputs": [
    {
     "name": "stderr",
     "output_type": "stream",
     "text": [
      "WARNING: Logging before flag parsing goes to stderr.\n",
      "W0721 11:02:19.657679 139811613792064 deprecation.py:506] From /home/guillermo/miniconda3/envs/animal/lib/python3.6/site-packages/tensorflow/python/ops/init_ops.py:1251: calling VarianceScaling.__init__ (from tensorflow.python.ops.init_ops) with dtype is deprecated and will be removed in a future version.\n",
      "Instructions for updating:\n",
      "Call initializer instance with the dtype argument instead of passing it to the constructor\n"
     ]
    },
    {
     "name": "stdout",
     "output_type": "stream",
     "text": [
      "Model: \"model\"\n",
      "__________________________________________________________________________________________________\n",
      "Layer (type)                    Output Shape         Param #     Connected to                     \n",
      "==================================================================================================\n",
      "frame (InputLayer)              [(None, 84, 84, 3)]  0                                            \n",
      "__________________________________________________________________________________________________\n",
      "conv2d (Conv2D)                 (None, 82, 82, 8)    224         frame[0][0]                      \n",
      "__________________________________________________________________________________________________\n",
      "max_pooling2d (MaxPooling2D)    (None, 41, 41, 8)    0           conv2d[0][0]                     \n",
      "__________________________________________________________________________________________________\n",
      "conv2d_1 (Conv2D)               (None, 39, 39, 8)    584         max_pooling2d[0][0]              \n",
      "__________________________________________________________________________________________________\n",
      "max_pooling2d_1 (MaxPooling2D)  (None, 19, 19, 8)    0           conv2d_1[0][0]                   \n",
      "__________________________________________________________________________________________________\n",
      "conv2d_2 (Conv2D)               (None, 17, 17, 16)   1168        max_pooling2d_1[0][0]            \n",
      "__________________________________________________________________________________________________\n",
      "max_pooling2d_2 (MaxPooling2D)  (None, 8, 8, 16)     0           conv2d_2[0][0]                   \n",
      "__________________________________________________________________________________________________\n",
      "conv2d_3 (Conv2D)               (None, 6, 6, 16)     2320        max_pooling2d_2[0][0]            \n",
      "__________________________________________________________________________________________________\n",
      "max_pooling2d_3 (MaxPooling2D)  (None, 3, 3, 16)     0           conv2d_3[0][0]                   \n",
      "__________________________________________________________________________________________________\n",
      "flatten (Flatten)               (None, 144)          0           max_pooling2d_3[0][0]            \n",
      "__________________________________________________________________________________________________\n",
      "speed (InputLayer)              [(None, 3)]          0                                            \n",
      "__________________________________________________________________________________________________\n",
      "previous_action (InputLayer)    [(None, 6)]          0                                            \n",
      "__________________________________________________________________________________________________\n",
      "concatenate (Concatenate)       (None, 153)          0           flatten[0][0]                    \n",
      "                                                                 speed[0][0]                      \n",
      "                                                                 previous_action[0][0]            \n",
      "__________________________________________________________________________________________________\n",
      "dense (Dense)                   (None, 16)           2464        concatenate[0][0]                \n",
      "__________________________________________________________________________________________________\n",
      "action_move (Dense)             (None, 3)            51          dense[0][0]                      \n",
      "__________________________________________________________________________________________________\n",
      "action_rotate (Dense)           (None, 3)            51          dense[0][0]                      \n",
      "==================================================================================================\n",
      "Total params: 6,862\n",
      "Trainable params: 6,862\n",
      "Non-trainable params: 0\n",
      "__________________________________________________________________________________________________\n",
      "Train on 7894 samples, validate on 1660 samples\n",
      "Epoch 1/500\n",
      "7894/7894 [==============================] - 3s 337us/sample - loss: 1.2086 - action_move_loss: 0.4727 - action_rotate_loss: 0.7353 - action_move_acc: 0.8173 - action_rotate_acc: 0.7517 - val_loss: 0.8552 - val_action_move_loss: 0.3593 - val_action_rotate_loss: 0.4963 - val_action_move_acc: 0.8693 - val_action_rotate_acc: 0.8735\n",
      "Epoch 2/500\n",
      "7894/7894 [==============================] - 2s 225us/sample - loss: 0.7392 - action_move_loss: 0.3208 - action_rotate_loss: 0.4187 - action_move_acc: 0.8767 - action_rotate_acc: 0.8770 - val_loss: 0.6553 - val_action_move_loss: 0.2936 - val_action_rotate_loss: 0.3614 - val_action_move_acc: 0.8795 - val_action_rotate_acc: 0.8789\n",
      "Epoch 3/500\n",
      "7894/7894 [==============================] - 2s 222us/sample - loss: 0.6105 - action_move_loss: 0.2831 - action_rotate_loss: 0.3277 - action_move_acc: 0.8897 - action_rotate_acc: 0.8905 - val_loss: 0.5560 - val_action_move_loss: 0.2537 - val_action_rotate_loss: 0.3016 - val_action_move_acc: 0.9042 - val_action_rotate_acc: 0.8970\n",
      "Epoch 4/500\n",
      "7894/7894 [==============================] - 2s 228us/sample - loss: 0.5553 - action_move_loss: 0.2594 - action_rotate_loss: 0.2957 - action_move_acc: 0.8983 - action_rotate_acc: 0.8960 - val_loss: 0.5395 - val_action_move_loss: 0.2478 - val_action_rotate_loss: 0.2913 - val_action_move_acc: 0.9042 - val_action_rotate_acc: 0.8940\n",
      "Epoch 5/500\n",
      "7894/7894 [==============================] - 2s 227us/sample - loss: 0.5203 - action_move_loss: 0.2484 - action_rotate_loss: 0.2715 - action_move_acc: 0.9014 - action_rotate_acc: 0.8987 - val_loss: 0.5396 - val_action_move_loss: 0.2454 - val_action_rotate_loss: 0.2950 - val_action_move_acc: 0.9108 - val_action_rotate_acc: 0.8958\n",
      "Epoch 6/500\n",
      "7894/7894 [==============================] - 2s 213us/sample - loss: 0.4985 - action_move_loss: 0.2387 - action_rotate_loss: 0.2601 - action_move_acc: 0.9093 - action_rotate_acc: 0.9032 - val_loss: 0.5031 - val_action_move_loss: 0.2340 - val_action_rotate_loss: 0.2694 - val_action_move_acc: 0.9102 - val_action_rotate_acc: 0.9006\n",
      "Epoch 7/500\n",
      "7894/7894 [==============================] - 2s 219us/sample - loss: 0.4771 - action_move_loss: 0.2306 - action_rotate_loss: 0.2465 - action_move_acc: 0.9087 - action_rotate_acc: 0.9078 - val_loss: 0.5073 - val_action_move_loss: 0.2335 - val_action_rotate_loss: 0.2745 - val_action_move_acc: 0.9133 - val_action_rotate_acc: 0.9072\n",
      "Epoch 8/500\n",
      "7894/7894 [==============================] - 2s 223us/sample - loss: 0.4681 - action_move_loss: 0.2255 - action_rotate_loss: 0.2424 - action_move_acc: 0.9118 - action_rotate_acc: 0.9061 - val_loss: 0.5214 - val_action_move_loss: 0.2401 - val_action_rotate_loss: 0.2807 - val_action_move_acc: 0.9066 - val_action_rotate_acc: 0.8958\n",
      "Epoch 9/500\n",
      "7894/7894 [==============================] - 2s 224us/sample - loss: 0.4514 - action_move_loss: 0.2180 - action_rotate_loss: 0.2329 - action_move_acc: 0.9137 - action_rotate_acc: 0.9109 - val_loss: 0.5226 - val_action_move_loss: 0.2443 - val_action_rotate_loss: 0.2789 - val_action_move_acc: 0.9096 - val_action_rotate_acc: 0.9042\n",
      "Epoch 10/500\n",
      "7894/7894 [==============================] - 2s 227us/sample - loss: 0.4482 - action_move_loss: 0.2167 - action_rotate_loss: 0.2315 - action_move_acc: 0.9132 - action_rotate_acc: 0.9099 - val_loss: 0.5264 - val_action_move_loss: 0.2405 - val_action_rotate_loss: 0.2866 - val_action_move_acc: 0.9066 - val_action_rotate_acc: 0.8958\n",
      "Epoch 11/500\n",
      "7894/7894 [==============================] - 2s 225us/sample - loss: 0.4496 - action_move_loss: 0.2163 - action_rotate_loss: 0.2338 - action_move_acc: 0.9142 - action_rotate_acc: 0.9082 - val_loss: 0.4841 - val_action_move_loss: 0.2267 - val_action_rotate_loss: 0.2578 - val_action_move_acc: 0.9199 - val_action_rotate_acc: 0.9072\n",
      "Epoch 12/500\n",
      "7894/7894 [==============================] - 2s 224us/sample - loss: 0.4329 - action_move_loss: 0.2089 - action_rotate_loss: 0.2237 - action_move_acc: 0.9173 - action_rotate_acc: 0.9136 - val_loss: 0.5000 - val_action_move_loss: 0.2390 - val_action_rotate_loss: 0.2611 - val_action_move_acc: 0.8988 - val_action_rotate_acc: 0.9030\n",
      "Epoch 13/500\n"
     ]
    },
    {
     "name": "stdout",
     "output_type": "stream",
     "text": [
      "7894/7894 [==============================] - 2s 214us/sample - loss: 0.4247 - action_move_loss: 0.2056 - action_rotate_loss: 0.2187 - action_move_acc: 0.9182 - action_rotate_acc: 0.9144 - val_loss: 0.4656 - val_action_move_loss: 0.2188 - val_action_rotate_loss: 0.2462 - val_action_move_acc: 0.9151 - val_action_rotate_acc: 0.9133\n",
      "Epoch 14/500\n",
      "7894/7894 [==============================] - 2s 213us/sample - loss: 0.4253 - action_move_loss: 0.2047 - action_rotate_loss: 0.2210 - action_move_acc: 0.9206 - action_rotate_acc: 0.9154 - val_loss: 0.4773 - val_action_move_loss: 0.2256 - val_action_rotate_loss: 0.2512 - val_action_move_acc: 0.9108 - val_action_rotate_acc: 0.9048\n",
      "Epoch 15/500\n",
      "7894/7894 [==============================] - 2s 220us/sample - loss: 0.4141 - action_move_loss: 0.2009 - action_rotate_loss: 0.2137 - action_move_acc: 0.9213 - action_rotate_acc: 0.9183 - val_loss: 0.4699 - val_action_move_loss: 0.2187 - val_action_rotate_loss: 0.2504 - val_action_move_acc: 0.9145 - val_action_rotate_acc: 0.9108\n",
      "Epoch 16/500\n",
      "7894/7894 [==============================] - 2s 232us/sample - loss: 0.4073 - action_move_loss: 0.1973 - action_rotate_loss: 0.2100 - action_move_acc: 0.9201 - action_rotate_acc: 0.9173 - val_loss: 0.5059 - val_action_move_loss: 0.2383 - val_action_rotate_loss: 0.2675 - val_action_move_acc: 0.9048 - val_action_rotate_acc: 0.8946\n",
      "Epoch 17/500\n",
      "7894/7894 [==============================] - 2s 220us/sample - loss: 0.4064 - action_move_loss: 0.1975 - action_rotate_loss: 0.2089 - action_move_acc: 0.9232 - action_rotate_acc: 0.9188 - val_loss: 0.6072 - val_action_move_loss: 0.2873 - val_action_rotate_loss: 0.3201 - val_action_move_acc: 0.8633 - val_action_rotate_acc: 0.8470\n",
      "Epoch 18/500\n",
      "7894/7894 [==============================] - 2s 221us/sample - loss: 0.4054 - action_move_loss: 0.1957 - action_rotate_loss: 0.2096 - action_move_acc: 0.9217 - action_rotate_acc: 0.9203 - val_loss: 0.4571 - val_action_move_loss: 0.2194 - val_action_rotate_loss: 0.2378 - val_action_move_acc: 0.9151 - val_action_rotate_acc: 0.9157\n",
      "Epoch 19/500\n",
      "7894/7894 [==============================] - 2s 225us/sample - loss: 0.3959 - action_move_loss: 0.1912 - action_rotate_loss: 0.2047 - action_move_acc: 0.9250 - action_rotate_acc: 0.9201 - val_loss: 0.4664 - val_action_move_loss: 0.2195 - val_action_rotate_loss: 0.2474 - val_action_move_acc: 0.9102 - val_action_rotate_acc: 0.9000\n",
      "Epoch 20/500\n",
      "7894/7894 [==============================] - 2s 230us/sample - loss: 0.3978 - action_move_loss: 0.1927 - action_rotate_loss: 0.2049 - action_move_acc: 0.9235 - action_rotate_acc: 0.9212 - val_loss: 0.4862 - val_action_move_loss: 0.2267 - val_action_rotate_loss: 0.2596 - val_action_move_acc: 0.9042 - val_action_rotate_acc: 0.8970\n",
      "Epoch 21/500\n",
      "7894/7894 [==============================] - 2s 226us/sample - loss: 0.3856 - action_move_loss: 0.1869 - action_rotate_loss: 0.1990 - action_move_acc: 0.9244 - action_rotate_acc: 0.9215 - val_loss: 0.4453 - val_action_move_loss: 0.2109 - val_action_rotate_loss: 0.2347 - val_action_move_acc: 0.9157 - val_action_rotate_acc: 0.9108\n",
      "Epoch 22/500\n",
      "7894/7894 [==============================] - 2s 231us/sample - loss: 0.3861 - action_move_loss: 0.1871 - action_rotate_loss: 0.1988 - action_move_acc: 0.9251 - action_rotate_acc: 0.9220 - val_loss: 0.4526 - val_action_move_loss: 0.2122 - val_action_rotate_loss: 0.2405 - val_action_move_acc: 0.9157 - val_action_rotate_acc: 0.9120\n",
      "Epoch 23/500\n",
      "7894/7894 [==============================] - 2s 248us/sample - loss: 0.3793 - action_move_loss: 0.1843 - action_rotate_loss: 0.1948 - action_move_acc: 0.9267 - action_rotate_acc: 0.9244 - val_loss: 0.4690 - val_action_move_loss: 0.2155 - val_action_rotate_loss: 0.2536 - val_action_move_acc: 0.9145 - val_action_rotate_acc: 0.9090\n",
      "Epoch 24/500\n",
      "7894/7894 [==============================] - 2s 245us/sample - loss: 0.3810 - action_move_loss: 0.1845 - action_rotate_loss: 0.1962 - action_move_acc: 0.9251 - action_rotate_acc: 0.9222 - val_loss: 0.4727 - val_action_move_loss: 0.2222 - val_action_rotate_loss: 0.2509 - val_action_move_acc: 0.9030 - val_action_rotate_acc: 0.9024\n",
      "Epoch 25/500\n",
      "7894/7894 [==============================] - 2s 229us/sample - loss: 0.3779 - action_move_loss: 0.1844 - action_rotate_loss: 0.1934 - action_move_acc: 0.9240 - action_rotate_acc: 0.9222 - val_loss: 0.4534 - val_action_move_loss: 0.2123 - val_action_rotate_loss: 0.2413 - val_action_move_acc: 0.9151 - val_action_rotate_acc: 0.9024\n",
      "Epoch 26/500\n",
      "7894/7894 [==============================] - 2s 238us/sample - loss: 0.3792 - action_move_loss: 0.1843 - action_rotate_loss: 0.1949 - action_move_acc: 0.9263 - action_rotate_acc: 0.9234 - val_loss: 0.4516 - val_action_move_loss: 0.2125 - val_action_rotate_loss: 0.2397 - val_action_move_acc: 0.9127 - val_action_rotate_acc: 0.9036\n",
      "Epoch 27/500\n",
      "7894/7894 [==============================] - 2s 228us/sample - loss: 0.3684 - action_move_loss: 0.1797 - action_rotate_loss: 0.1889 - action_move_acc: 0.9260 - action_rotate_acc: 0.9236 - val_loss: 0.4731 - val_action_move_loss: 0.2178 - val_action_rotate_loss: 0.2561 - val_action_move_acc: 0.9108 - val_action_rotate_acc: 0.9060\n",
      "Epoch 28/500\n",
      "7894/7894 [==============================] - 2s 231us/sample - loss: 0.3732 - action_move_loss: 0.1816 - action_rotate_loss: 0.1915 - action_move_acc: 0.9279 - action_rotate_acc: 0.9231 - val_loss: 0.4617 - val_action_move_loss: 0.2220 - val_action_rotate_loss: 0.2393 - val_action_move_acc: 0.9048 - val_action_rotate_acc: 0.9042\n",
      "Epoch 29/500\n",
      "7894/7894 [==============================] - 2s 235us/sample - loss: 0.3674 - action_move_loss: 0.1792 - action_rotate_loss: 0.1881 - action_move_acc: 0.9294 - action_rotate_acc: 0.9242 - val_loss: 0.4498 - val_action_move_loss: 0.2109 - val_action_rotate_loss: 0.2386 - val_action_move_acc: 0.9139 - val_action_rotate_acc: 0.9066\n",
      "Epoch 30/500\n",
      "7894/7894 [==============================] - 2s 235us/sample - loss: 0.3607 - action_move_loss: 0.1762 - action_rotate_loss: 0.1846 - action_move_acc: 0.9289 - action_rotate_acc: 0.9260 - val_loss: 0.4936 - val_action_move_loss: 0.2324 - val_action_rotate_loss: 0.2615 - val_action_move_acc: 0.9012 - val_action_rotate_acc: 0.8946\n",
      "Epoch 31/500\n",
      "7894/7894 [==============================] - 2s 219us/sample - loss: 0.3526 - action_move_loss: 0.1728 - action_rotate_loss: 0.1799 - action_move_acc: 0.9313 - action_rotate_acc: 0.9308 - val_loss: 0.4660 - val_action_move_loss: 0.2175 - val_action_rotate_loss: 0.2489 - val_action_move_acc: 0.9187 - val_action_rotate_acc: 0.9145\n",
      "Epoch 32/500\n",
      "7894/7894 [==============================] - 2s 219us/sample - loss: 0.3567 - action_move_loss: 0.1741 - action_rotate_loss: 0.1828 - action_move_acc: 0.9317 - action_rotate_acc: 0.9286 - val_loss: 0.4641 - val_action_move_loss: 0.2192 - val_action_rotate_loss: 0.2450 - val_action_move_acc: 0.9042 - val_action_rotate_acc: 0.8994\n",
      "Epoch 33/500\n",
      "7894/7894 [==============================] - 2s 219us/sample - loss: 0.3462 - action_move_loss: 0.1695 - action_rotate_loss: 0.1766 - action_move_acc: 0.9322 - action_rotate_acc: 0.9305 - val_loss: 0.4536 - val_action_move_loss: 0.2147 - val_action_rotate_loss: 0.2385 - val_action_move_acc: 0.9114 - val_action_rotate_acc: 0.9024\n",
      "Epoch 34/500\n",
      "7894/7894 [==============================] - 2s 218us/sample - loss: 0.3486 - action_move_loss: 0.1695 - action_rotate_loss: 0.1788 - action_move_acc: 0.9324 - action_rotate_acc: 0.9294 - val_loss: 0.4723 - val_action_move_loss: 0.2214 - val_action_rotate_loss: 0.2513 - val_action_move_acc: 0.9127 - val_action_rotate_acc: 0.9072\n",
      "Epoch 35/500\n",
      "7808/7894 [============================>.] - ETA: 0s - loss: 0.3468 - action_move_loss: 0.1690 - action_rotate_loss: 0.1778 - action_move_acc: 0.9330 - action_rotate_acc: 0.9301\n",
      "Epoch 00035: ReduceLROnPlateau reducing learning rate to 0.0007000000332482159.\n",
      "7894/7894 [==============================] - 2s 222us/sample - loss: 0.3473 - action_move_loss: 0.1693 - action_rotate_loss: 0.1784 - action_move_acc: 0.9332 - action_rotate_acc: 0.9303 - val_loss: 0.4877 - val_action_move_loss: 0.2319 - val_action_rotate_loss: 0.2560 - val_action_move_acc: 0.8958 - val_action_rotate_acc: 0.8934\n",
      "Epoch 36/500\n"
     ]
    },
    {
     "name": "stdout",
     "output_type": "stream",
     "text": [
      "7894/7894 [==============================] - 2s 211us/sample - loss: 0.3341 - action_move_loss: 0.1637 - action_rotate_loss: 0.1701 - action_move_acc: 0.9355 - action_rotate_acc: 0.9344 - val_loss: 0.4564 - val_action_move_loss: 0.2150 - val_action_rotate_loss: 0.2415 - val_action_move_acc: 0.9139 - val_action_rotate_acc: 0.9048\n",
      "Epoch 37/500\n",
      "7894/7894 [==============================] - 2s 215us/sample - loss: 0.3269 - action_move_loss: 0.1606 - action_rotate_loss: 0.1663 - action_move_acc: 0.9356 - action_rotate_acc: 0.9353 - val_loss: 0.4622 - val_action_move_loss: 0.2178 - val_action_rotate_loss: 0.2438 - val_action_move_acc: 0.9054 - val_action_rotate_acc: 0.9018\n",
      "Epoch 38/500\n",
      "7894/7894 [==============================] - 2s 229us/sample - loss: 0.3295 - action_move_loss: 0.1618 - action_rotate_loss: 0.1677 - action_move_acc: 0.9351 - action_rotate_acc: 0.9340 - val_loss: 0.4851 - val_action_move_loss: 0.2338 - val_action_rotate_loss: 0.2518 - val_action_move_acc: 0.8880 - val_action_rotate_acc: 0.8898\n",
      "Epoch 39/500\n",
      "7894/7894 [==============================] - 2s 213us/sample - loss: 0.3214 - action_move_loss: 0.1583 - action_rotate_loss: 0.1629 - action_move_acc: 0.9398 - action_rotate_acc: 0.9372 - val_loss: 0.4803 - val_action_move_loss: 0.2268 - val_action_rotate_loss: 0.2536 - val_action_move_acc: 0.9006 - val_action_rotate_acc: 0.8982\n",
      "Epoch 40/500\n",
      "7894/7894 [==============================] - 2s 212us/sample - loss: 0.3187 - action_move_loss: 0.1568 - action_rotate_loss: 0.1618 - action_move_acc: 0.9367 - action_rotate_acc: 0.9350 - val_loss: 0.4725 - val_action_move_loss: 0.2223 - val_action_rotate_loss: 0.2504 - val_action_move_acc: 0.9181 - val_action_rotate_acc: 0.9139\n",
      "Epoch 41/500\n",
      "7712/7894 [============================>.] - ETA: 0s - loss: 0.3158 - action_move_loss: 0.1553 - action_rotate_loss: 0.1605 - action_move_acc: 0.9391 - action_rotate_acc: 0.9363Restoring model weights from the end of the best epoch.\n",
      "7894/7894 [==============================] - 2s 221us/sample - loss: 0.3154 - action_move_loss: 0.1547 - action_rotate_loss: 0.1604 - action_move_acc: 0.9393 - action_rotate_acc: 0.9364 - val_loss: 0.4869 - val_action_move_loss: 0.2279 - val_action_rotate_loss: 0.2586 - val_action_move_acc: 0.9012 - val_action_rotate_acc: 0.8976\n",
      "Epoch 00041: early stopping\n",
      "loss 0.3154\n",
      "val_loss 0.4453\n"
     ]
    },
    {
     "data": {
      "image/png": "[encoded data removed]",
      "text/plain": [
       "<Figure size 1800x360 with 2 Axes>"
      ]
     },
     "metadata": {
      "needs_background": "light"
     },
     "output_type": "display_data"
    }
   ],
   "source": [
    "args = [8, 8, 16, 16], [16]\n",
    "model = train_model(*args)\n",
    "model.save('/media/guillermo/Data/Kaggle/animalai/agents/004_better_agent/data/model.hdf')"
   ]
  },
  {
   "cell_type": "markdown",
   "metadata": {},
   "source": [
    "## Summary"
   ]
  },
  {
   "cell_type": "markdown",
   "metadata": {},
   "source": [
    "1. I have trained a model just on static and moving green food and the accuracy of the models seems to be much better. It is surprising that with a few games it is able to achieve the best score on the evaluation levels.\n",
    "2. I have added yellow food, static and moving, the score improves a lot, from 0.74 to 0.97.\n",
    "3. Improve lights off."
   ]
  },
  {
   "cell_type": "raw",
   "metadata": {},
   "source": [
    "name,elapsed_time,level_1-Food,level_2-Preferences,level_3-Obstacles,level_4-Avoidance,level_5-SpatialReasoning,level_6-Generalization,level_7-InternalMemory,level_allObjectsRandom,level_forcedChoice,level_movingFood,level_objectManipulation,mean_score\n",
    "001_simple_food_SL,299.0144066810608,2.219983142303924,2.8664068183551232,-0.09193331049755216,-0.1870333465747535,-0.2563999627716839,-0.46859996281564237,0.9251155134911339,-0.8723167478106916,0.8710000133141875,1.6776416652215025,0.45139999883249404,0.6486603473680037\n",
    "002_more_games,372.52679681777954,2.2251831220773357,3.414261980013301,0.112866685166955,-0.1603999730820457,-0.33539996221661567,-0.2936999646325906,1.698622934644421,0.6250909208630522,-0.5351999631151557,1.2779550629357497,0.07750002338240544,0.7369800787306193\n",
    "003_less_games,321.6843502521515,2.215849793360879,3.0042245450119176,-0.09859997074430188,-0.18610001727938652,0.18610002460579078,-0.2537333022492627,1.0105551505771777,-0.33913749773055313,0.6909999661147594,1.6137953052297234,0.3823333389125764,0.7478443032553928\n",
    "004_better_agent,298.78680419921875,2.2419831229063374,2.355063035649558,-0.034233312029391526,-0.08750000440826018,-0.5018999629653991,-0.5351999631151557,1.8836846036526065,0.10906105553731323,0.6950000254437327,1.9973315364060302,0.11170002790167928,0.7486354695435501\n",
    "004_better_agent,269.4151020050049,2.2295831575368843,3.3351360017744205,-0.09006663799906771,-0.18166666822507976,-0.04406663139040271,-0.3759999682816366,1.4467046762661389,0.5751003221919139,0.8611332877228658,2.6739902144297956,0.3273333437740803,0.9779255543454466\n"
   ]
  }
 ],
 "metadata": {
  "hide_input": false,
  "kernelspec": {
   "display_name": "Python (animal)",
   "language": "python",
   "name": "animal"
  },
  "language_info": {
   "codemirror_mode": {
    "name": "ipython",
    "version": 3
   },
   "file_extension": ".py",
   "mimetype": "text/x-python",
   "name": "python",
   "nbconvert_exporter": "python",
   "pygments_lexer": "ipython3",
   "version": "3.6.8"
  },
  "toc": {
   "base_numbering": 1,
   "nav_menu": {},
   "number_sections": false,
   "sideBar": true,
   "skip_h1_title": false,
   "title_cell": "Table of Contents",
   "title_sidebar": "Contents",
   "toc_cell": true,
   "toc_position": {},
   "toc_section_display": true,
   "toc_window_display": false
  },
  "varInspector": {
   "cols": {
    "lenName": 16,
    "lenType": 16,
    "lenVar": 40
   },
   "kernels_config": {
    "python": {
     "delete_cmd_postfix": "",
     "delete_cmd_prefix": "del ",
     "library": "var_list.py",
     "varRefreshCmd": "print(var_dic_list())"
    },
    "r": {
     "delete_cmd_postfix": ") ",
     "delete_cmd_prefix": "rm(",
     "library": "var_list.r",
     "varRefreshCmd": "cat(var_dic_list()) "
    }
   },
   "types_to_exclude": [
    "module",
    "function",
    "builtin_function_or_method",
    "instance",
    "_Feature"
   ],
   "window_display": false
  }
 },
 "nbformat": 4,
 "nbformat_minor": 2
}
