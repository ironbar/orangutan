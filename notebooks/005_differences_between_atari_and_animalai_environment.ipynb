{
 "cells": [
  {
   "cell_type": "markdown",
   "metadata": {
    "toc": true
   },
   "source": [
    "<h1>Table of Contents<span class=\"tocSkip\"></span></h1>\n",
    "<div class=\"toc\"><ul class=\"toc-item\"><li><span><a href=\"#Differences-between-atari-and-animalai-environment\" data-toc-modified-id=\"Differences-between-atari-and-animalai-environment-1\">Differences between atari and animalai environment</a></span><ul class=\"toc-item\"><li><span><a href=\"#Imports\" data-toc-modified-id=\"Imports-1.1\">Imports</a></span></li><li><span><a href=\"#Environment-creation\" data-toc-modified-id=\"Environment-creation-1.2\">Environment creation</a></span></li><li><span><a href=\"#Checking-atari-output\" data-toc-modified-id=\"Checking-atari-output-1.3\">Checking atari output</a></span><ul class=\"toc-item\"><li><span><a href=\"#Reset\" data-toc-modified-id=\"Reset-1.3.1\">Reset</a></span></li><li><span><a href=\"#Step\" data-toc-modified-id=\"Step-1.3.2\">Step</a></span></li></ul></li><li><span><a href=\"#Verifying-the-same-on-AnimalAI\" data-toc-modified-id=\"Verifying-the-same-on-AnimalAI-1.4\">Verifying the same on AnimalAI</a></span><ul class=\"toc-item\"><li><span><a href=\"#Reset\" data-toc-modified-id=\"Reset-1.4.1\">Reset</a></span></li><li><span><a href=\"#Step\" data-toc-modified-id=\"Step-1.4.2\">Step</a></span></li></ul></li><li><span><a href=\"#Wrapper\" data-toc-modified-id=\"Wrapper-1.5\">Wrapper</a></span></li><li><span><a href=\"#Old\" data-toc-modified-id=\"Old-1.6\">Old</a></span></li></ul></li></ul></div>"
   ]
  },
  {
   "cell_type": "markdown",
   "metadata": {},
   "source": [
    "# Differences between atari and animalai environment"
   ]
  },
  {
   "cell_type": "markdown",
   "metadata": {},
   "source": [
    "On this notebook I want to try to fix the differences between atari and animalai environment."
   ]
  },
  {
   "cell_type": "markdown",
   "metadata": {},
   "source": [
    "## Imports"
   ]
  },
  {
   "cell_type": "code",
   "execution_count": 15,
   "metadata": {
    "ExecuteTime": {
     "end_time": "2019-09-10T15:59:18.015381Z",
     "start_time": "2019-09-10T15:59:17.986214Z"
    }
   },
   "outputs": [],
   "source": [
    "import time\n",
    "import gym\n",
    "import os\n",
    "import sys\n",
    "import matplotlib.pyplot as plt\n",
    "\n",
    "from animalai.envs import UnityEnvironment\n",
    "from animalai.envs.arena_config import ArenaConfig\n",
    "from animalai.envs.exception import UnityWorkerInUseException\n",
    "\n",
    "from animalai.envs.gym.environment import AnimalAIEnv\n",
    "\n",
    "%matplotlib inline"
   ]
  },
  {
   "cell_type": "code",
   "execution_count": 6,
   "metadata": {
    "ExecuteTime": {
     "end_time": "2019-09-10T15:45:12.059137Z",
     "start_time": "2019-09-10T15:45:09.195933Z"
    }
   },
   "outputs": [
    {
     "name": "stdout",
     "output_type": "stream",
     "text": [
      "\n",
      "WARNING: The TensorFlow contrib module will not be included in TensorFlow 2.0.\n",
      "For more information, please see:\n",
      "  * https://github.com/tensorflow/community/blob/master/rfcs/20180907-contrib-sunset.md\n",
      "  * https://github.com/tensorflow/addons\n",
      "If you depend on functionality not listed there, please file an issue.\n",
      "\n"
     ]
    }
   ],
   "source": [
    "sys.path.append('/media/guillermo/Data/Dropbox/02 Inteligencia Artificial/31_animalai/piojanu_planet')\n",
    "import planet\n",
    "from planet import control"
   ]
  },
  {
   "cell_type": "markdown",
   "metadata": {},
   "source": [
    "## Environment creation"
   ]
  },
  {
   "cell_type": "code",
   "execution_count": 23,
   "metadata": {
    "ExecuteTime": {
     "end_time": "2019-09-10T16:02:17.874456Z",
     "start_time": "2019-09-10T16:02:17.868122Z"
    }
   },
   "outputs": [],
   "source": [
    "def animalai_environment(config_filepath='/media/guillermo/Data/Dropbox/02 Inteligencia Artificial/31_animalai/orangutan/data/env_configs/4multi.yaml'):\n",
    "    ENVIRONMENT_FILEPATH = '/media/guillermo/Data/Dropbox/02 Inteligencia Artificial/31_animalai/AnimalAI-Olympics/env/AnimalAI.x86_64'\n",
    "    worker_id = 0\n",
    "    arena_config = ArenaConfig(config_filepath)\n",
    "    while worker_id < 10:\n",
    "        try:\n",
    "            env = AnimalAIEnv(\n",
    "                environment_filename=ENVIRONMENT_FILEPATH,   # Path to the environment\n",
    "                worker_id=worker_id,                # Unique ID for running the environment (used for connection)\n",
    "                seed=int(os.getenv('ENV_SEED', 0)),                     # The random seed\n",
    "                docker_training=False,      # Whether or not you are training inside a docker\n",
    "                n_arenas=1,                 # Number of arenas in your environment\n",
    "                inference=False,            # Set to true to watch your agent in action\n",
    "                resolution=None,             # Int: resolution of the agent's square camera (in [4,512], default 84),\n",
    "                arenas_configurations=arena_config,\n",
    "            )\n",
    "            break\n",
    "        except UnityWorkerInUseException:\n",
    "            worker_id += 1\n",
    "            print('Increasing worker_id: %i' % worker_id)\n",
    "    env.reset()\n",
    "    return env"
   ]
  },
  {
   "cell_type": "code",
   "execution_count": 7,
   "metadata": {
    "ExecuteTime": {
     "end_time": "2019-09-10T15:45:18.194854Z",
     "start_time": "2019-09-10T15:45:18.186914Z"
    }
   },
   "outputs": [],
   "source": [
    "def _gym_env(action_repeat, min_length, max_length, name,\n",
    "             act_is_discrete=False, obs_is_image=False):\n",
    "  if \"Sokoban\" in name:\n",
    "    import gym_sokoban\n",
    "  import gym\n",
    "  env = gym.make(name)\n",
    "  env = env.env  # Remove the TimeLimit wrapper\n",
    "  env.frameskip = 1  # Disable Gym frame skipping\n",
    "  env = control.wrappers.ActionRepeat(env, action_repeat)\n",
    "  if act_is_discrete:\n",
    "    env = control.wrappers.DiscreteWrapper(env)\n",
    "  else:\n",
    "    env = control.wrappers.NormalizeActions(env)\n",
    "  env = control.wrappers.MinimumDuration(env, min_length)\n",
    "  env = control.wrappers.MaximumDuration(env, max_length)\n",
    "  if obs_is_image:\n",
    "    env = control.wrappers.ObservationDict(env, 'image')\n",
    "    env = control.wrappers.ObservationToRender(env)\n",
    "  else:\n",
    "    env = control.wrappers.ObservationDict(env, 'state')\n",
    "  env = control.wrappers.PixelObservations(env, (64, 64), np.uint8, 'image')\n",
    "  env = control.wrappers.ConvertTo32Bit(env)\n",
    "  return env"
   ]
  },
  {
   "cell_type": "code",
   "execution_count": 3,
   "metadata": {
    "ExecuteTime": {
     "end_time": "2019-09-09T17:01:59.537456Z",
     "start_time": "2019-09-09T17:01:48.493652Z"
    },
    "deletable": false,
    "editable": false,
    "run_control": {
     "frozen": true
    }
   },
   "outputs": [
    {
     "name": "stderr",
     "output_type": "stream",
     "text": [
      "/media/guillermo/Data/Dropbox/02 Inteligencia Artificial/31_animalai/gym/gym/logger.py:30: UserWarning: \u001b[33mWARN: You are calling 'step()' even though this environment has already returned done = True. You should always call 'reset()' once you receive 'done = True' -- any further steps are undefined behavior.\u001b[0m\n",
      "  warnings.warn(colorize('%s: %s'%('WARN', msg % args), 'yellow'))\n"
     ]
    }
   ],
   "source": [
    "env = gym.make('CartPole-v0')\n",
    "env.reset()\n",
    "for _ in range(1000):\n",
    "    env.render()\n",
    "    env.step(env.action_space.sample()) # take a random action\n",
    "    time.sleep(0.01)\n",
    "env.close()"
   ]
  },
  {
   "cell_type": "markdown",
   "metadata": {},
   "source": [
    "## Checking atari output"
   ]
  },
  {
   "cell_type": "code",
   "execution_count": null,
   "metadata": {
    "ExecuteTime": {
     "end_time": "2019-09-10T15:46:44.592974Z",
     "start_time": "2019-09-10T15:46:43.011965Z"
    },
    "deletable": false,
    "editable": false,
    "run_control": {
     "frozen": true
    }
   },
   "outputs": [],
   "source": [
    "atari_env = _gym_env(action_repeat=1, act_is_discrete=True, obs_is_image=True, name='Boxing-v0', min_length=50, max_length=2000)"
   ]
  },
  {
   "cell_type": "markdown",
   "metadata": {
    "deletable": false,
    "editable": false,
    "run_control": {
     "frozen": true
    }
   },
   "source": [
    "### Reset"
   ]
  },
  {
   "cell_type": "code",
   "execution_count": 10,
   "metadata": {
    "ExecuteTime": {
     "end_time": "2019-09-10T15:57:41.040341Z",
     "start_time": "2019-09-10T15:57:41.013111Z"
    },
    "deletable": false,
    "editable": false,
    "run_control": {
     "frozen": true
    }
   },
   "outputs": [],
   "source": [
    "ret = atari_env.reset()"
   ]
  },
  {
   "cell_type": "code",
   "execution_count": 12,
   "metadata": {
    "ExecuteTime": {
     "end_time": "2019-09-10T15:57:57.859515Z",
     "start_time": "2019-09-10T15:57:57.854949Z"
    },
    "deletable": false,
    "editable": false,
    "run_control": {
     "frozen": true
    }
   },
   "outputs": [
    {
     "name": "stdout",
     "output_type": "stream",
     "text": [
      "1\n",
      "dict_keys(['image'])\n",
      "(64, 64, 3)\n"
     ]
    }
   ],
   "source": [
    "print(len(ret))\n",
    "print(ret.keys())\n",
    "print(ret['image'].shape)"
   ]
  },
  {
   "cell_type": "markdown",
   "metadata": {
    "ExecuteTime": {
     "end_time": "2019-09-10T15:46:44.592974Z",
     "start_time": "2019-09-10T15:46:43.011965Z"
    },
    "deletable": false,
    "editable": false,
    "run_control": {
     "frozen": true
    }
   },
   "source": [
    "The reset method returns a dictionary with just an image. "
   ]
  },
  {
   "cell_type": "code",
   "execution_count": 16,
   "metadata": {
    "ExecuteTime": {
     "end_time": "2019-09-10T15:59:23.371703Z",
     "start_time": "2019-09-10T15:59:23.005493Z"
    },
    "deletable": false,
    "editable": false,
    "run_control": {
     "frozen": true
    }
   },
   "outputs": [
    {
     "data": {
      "text/plain": [
       "<matplotlib.image.AxesImage at 0x7f3a2855f780>"
      ]
     },
     "execution_count": 16,
     "metadata": {},
     "output_type": "execute_result"
    },
    {
     "data": {
      "image/png": "[encoded data removed]",
      "text/plain": [
       "<Figure size 432x288 with 1 Axes>"
      ]
     },
     "metadata": {
      "needs_background": "light"
     },
     "output_type": "display_data"
    }
   ],
   "source": [
    "plt.imshow(ret['image'])"
   ]
  },
  {
   "cell_type": "markdown",
   "metadata": {
    "deletable": false,
    "editable": false,
    "run_control": {
     "frozen": true
    }
   },
   "source": [
    "### Step"
   ]
  },
  {
   "cell_type": "code",
   "execution_count": 17,
   "metadata": {
    "ExecuteTime": {
     "end_time": "2019-09-10T15:59:40.530276Z",
     "start_time": "2019-09-10T15:59:40.524220Z"
    },
    "deletable": false,
    "editable": false,
    "run_control": {
     "frozen": true
    }
   },
   "outputs": [],
   "source": [
    "ret = atari_env.step(0) "
   ]
  },
  {
   "cell_type": "code",
   "execution_count": 20,
   "metadata": {
    "ExecuteTime": {
     "end_time": "2019-09-10T16:00:29.137221Z",
     "start_time": "2019-09-10T16:00:29.132637Z"
    },
    "deletable": false,
    "editable": false,
    "run_control": {
     "frozen": true
    }
   },
   "outputs": [
    {
     "name": "stdout",
     "output_type": "stream",
     "text": [
      "4\n",
      "(array(0., dtype=float32), False, {'ale.lives': 0})\n",
      "dict_keys(['image'])\n",
      "(64, 64, 3)\n"
     ]
    }
   ],
   "source": [
    "print(len(ret))\n",
    "print(ret[1:])\n",
    "print(ret[0].keys())\n",
    "print(ret[0]['image'].shape)"
   ]
  },
  {
   "cell_type": "code",
   "execution_count": 21,
   "metadata": {
    "ExecuteTime": {
     "end_time": "2019-09-10T16:00:43.878240Z",
     "start_time": "2019-09-10T16:00:43.740978Z"
    },
    "deletable": false,
    "editable": false,
    "run_control": {
     "frozen": true
    }
   },
   "outputs": [
    {
     "data": {
      "text/plain": [
       "<matplotlib.image.AxesImage at 0x7f3a285d9128>"
      ]
     },
     "execution_count": 21,
     "metadata": {},
     "output_type": "execute_result"
    },
    {
     "data": {
      "image/png": "[encoded data removed]",
      "text/plain": [
       "<Figure size 432x288 with 1 Axes>"
      ]
     },
     "metadata": {
      "needs_background": "light"
     },
     "output_type": "display_data"
    }
   ],
   "source": [
    "plt.imshow(ret[0]['image'])"
   ]
  },
  {
   "cell_type": "markdown",
   "metadata": {},
   "source": [
    "The step method returns four elements:\n",
    "* The dictionary with the image same as reset method\n",
    "* reward\n",
    "* is_done\n",
    "* dictionary with other information"
   ]
  },
  {
   "cell_type": "markdown",
   "metadata": {},
   "source": [
    "## Verifying the same on AnimalAI"
   ]
  },
  {
   "cell_type": "code",
   "execution_count": 24,
   "metadata": {
    "ExecuteTime": {
     "end_time": "2019-09-10T16:02:26.956449Z",
     "start_time": "2019-09-10T16:02:23.300888Z"
    }
   },
   "outputs": [
    {
     "name": "stderr",
     "output_type": "stream",
     "text": [
      "INFO:mlagents.envs:\n",
      "'Academy' started successfully!\n",
      "Unity Academy name: Academy\n",
      "        Number of Brains: 1\n",
      "        Number of Training Brains : 1\n",
      "INFO:gym_unity:1 agents within environment.\n"
     ]
    }
   ],
   "source": [
    "animal_env = animalai_environment()"
   ]
  },
  {
   "cell_type": "markdown",
   "metadata": {
    "heading_collapsed": true
   },
   "source": [
    "### Reset"
   ]
  },
  {
   "cell_type": "code",
   "execution_count": 25,
   "metadata": {
    "ExecuteTime": {
     "end_time": "2019-09-10T16:03:12.939803Z",
     "start_time": "2019-09-10T16:03:12.919160Z"
    },
    "hidden": true
   },
   "outputs": [],
   "source": [
    "ret = animal_env.reset()"
   ]
  },
  {
   "cell_type": "code",
   "execution_count": 28,
   "metadata": {
    "ExecuteTime": {
     "end_time": "2019-09-10T16:03:34.086324Z",
     "start_time": "2019-09-10T16:03:34.082602Z"
    },
    "hidden": true
   },
   "outputs": [
    {
     "data": {
      "text/plain": [
       "(84, 84, 3)"
      ]
     },
     "execution_count": 28,
     "metadata": {},
     "output_type": "execute_result"
    }
   ],
   "source": [
    "ret.shape"
   ]
  },
  {
   "cell_type": "code",
   "execution_count": 30,
   "metadata": {
    "ExecuteTime": {
     "end_time": "2019-09-10T16:04:17.481678Z",
     "start_time": "2019-09-10T16:04:17.260197Z"
    },
    "hidden": true
   },
   "outputs": [
    {
     "data": {
      "text/plain": [
       "<matplotlib.image.AxesImage at 0x7f3a241a7128>"
      ]
     },
     "execution_count": 30,
     "metadata": {},
     "output_type": "execute_result"
    },
    {
     "data": {
      "image/png": "[encoded data removed]",
      "text/plain": [
       "<Figure size 432x288 with 1 Axes>"
      ]
     },
     "metadata": {
      "needs_background": "light"
     },
     "output_type": "display_data"
    }
   ],
   "source": [
    "plt.imshow(ret)"
   ]
  },
  {
   "cell_type": "markdown",
   "metadata": {
    "hidden": true
   },
   "source": [
    "AnimalAI reset returns the image but not in a dictionary."
   ]
  },
  {
   "cell_type": "markdown",
   "metadata": {
    "editable": false,
    "heading_collapsed": true,
    "run_control": {
     "frozen": true
    }
   },
   "source": [
    "### Step"
   ]
  },
  {
   "cell_type": "code",
   "execution_count": 31,
   "metadata": {
    "ExecuteTime": {
     "end_time": "2019-09-10T16:05:22.696736Z",
     "start_time": "2019-09-10T16:05:22.685504Z"
    },
    "hidden": true
   },
   "outputs": [],
   "source": [
    "ret = animal_env.step(0) "
   ]
  },
  {
   "cell_type": "code",
   "execution_count": 33,
   "metadata": {
    "ExecuteTime": {
     "end_time": "2019-09-10T16:05:35.166718Z",
     "start_time": "2019-09-10T16:05:35.163534Z"
    },
    "hidden": true
   },
   "outputs": [
    {
     "name": "stdout",
     "output_type": "stream",
     "text": [
      "4\n",
      "(-0.001999999862164259, False, {'text_observation': '', 'brain_info': <animalai.envs.brain.BrainInfo object at 0x7f3a285cd4e0>})\n",
      "(84, 84, 3)\n"
     ]
    }
   ],
   "source": [
    "print(len(ret))\n",
    "print(ret[1:])\n",
    "print(ret[0].shape)"
   ]
  },
  {
   "cell_type": "code",
   "execution_count": 34,
   "metadata": {
    "ExecuteTime": {
     "end_time": "2019-09-10T16:05:44.380156Z",
     "start_time": "2019-09-10T16:05:44.235936Z"
    },
    "hidden": true,
    "scrolled": true
   },
   "outputs": [
    {
     "data": {
      "text/plain": [
       "<matplotlib.image.AxesImage at 0x7f3a240bcc50>"
      ]
     },
     "execution_count": 34,
     "metadata": {},
     "output_type": "execute_result"
    },
    {
     "data": {
      "image/png": "[encoded data removed]",
      "text/plain": [
       "<Figure size 432x288 with 1 Axes>"
      ]
     },
     "metadata": {
      "needs_background": "light"
     },
     "output_type": "display_data"
    }
   ],
   "source": [
    "plt.imshow(ret[0])"
   ]
  },
  {
   "cell_type": "markdown",
   "metadata": {
    "hidden": true
   },
   "source": [
    "Again we saw that the output is the same except that the image is not inside a dictionary."
   ]
  },
  {
   "cell_type": "markdown",
   "metadata": {},
   "source": [
    "## Wrapper"
   ]
  },
  {
   "cell_type": "markdown",
   "metadata": {},
   "source": [
    "Let's try to solve that using wrappers."
   ]
  },
  {
   "cell_type": "code",
   "execution_count": 35,
   "metadata": {
    "ExecuteTime": {
     "end_time": "2019-09-10T18:06:04.401747Z",
     "start_time": "2019-09-10T18:06:04.394705Z"
    }
   },
   "outputs": [],
   "source": [
    "def wrap_animal(env):\n",
    "    env = control.wrappers.ObservationDict(env, 'image')\n",
    "    return env"
   ]
  },
  {
   "cell_type": "code",
   "execution_count": 36,
   "metadata": {
    "ExecuteTime": {
     "end_time": "2019-09-10T18:06:13.383082Z",
     "start_time": "2019-09-10T18:06:13.380813Z"
    }
   },
   "outputs": [],
   "source": [
    "env = wrap_animal(animal_env)"
   ]
  },
  {
   "cell_type": "code",
   "execution_count": 37,
   "metadata": {
    "ExecuteTime": {
     "end_time": "2019-09-10T18:06:25.178347Z",
     "start_time": "2019-09-10T18:06:25.167020Z"
    }
   },
   "outputs": [],
   "source": [
    "ret = env.reset()"
   ]
  },
  {
   "cell_type": "code",
   "execution_count": 38,
   "metadata": {
    "ExecuteTime": {
     "end_time": "2019-09-10T18:06:48.902835Z",
     "start_time": "2019-09-10T18:06:48.899190Z"
    }
   },
   "outputs": [
    {
     "name": "stdout",
     "output_type": "stream",
     "text": [
      "1\n",
      "dict_keys(['image'])\n",
      "(84, 84, 3)\n"
     ]
    }
   ],
   "source": [
    "print(len(ret))\n",
    "print(ret.keys())\n",
    "print(ret['image'].shape)"
   ]
  },
  {
   "cell_type": "code",
   "execution_count": 39,
   "metadata": {
    "ExecuteTime": {
     "end_time": "2019-09-10T18:07:04.576161Z",
     "start_time": "2019-09-10T18:07:04.567492Z"
    }
   },
   "outputs": [],
   "source": [
    "ret = env.step(0)"
   ]
  },
  {
   "cell_type": "code",
   "execution_count": 40,
   "metadata": {
    "ExecuteTime": {
     "end_time": "2019-09-10T18:07:05.293965Z",
     "start_time": "2019-09-10T18:07:05.291001Z"
    }
   },
   "outputs": [
    {
     "name": "stdout",
     "output_type": "stream",
     "text": [
      "4\n",
      "(-0.001999999862164259, False, {'text_observation': '', 'brain_info': <animalai.envs.brain.BrainInfo object at 0x7f3a24180320>})\n",
      "dict_keys(['image'])\n",
      "(84, 84, 3)\n"
     ]
    }
   ],
   "source": [
    "print(len(ret))\n",
    "print(ret[1:])\n",
    "print(ret[0].keys())\n",
    "print(ret[0]['image'].shape)"
   ]
  },
  {
   "cell_type": "markdown",
   "metadata": {},
   "source": [
    "With this wrapper it seems that the environments are equal.\n",
    "I have added another wrapper to remove brain_info and it is advancing in the training"
   ]
  },
  {
   "cell_type": "code",
   "execution_count": 41,
   "metadata": {
    "ExecuteTime": {
     "end_time": "2019-09-10T19:00:11.455284Z",
     "start_time": "2019-09-10T19:00:11.451931Z"
    }
   },
   "outputs": [
    {
     "data": {
      "text/plain": [
       "{'_env': <animalai.envs.gym.environment.AnimalAIEnv at 0x7f3a285bd6d8>,\n",
       " '_key': 'image'}"
      ]
     },
     "execution_count": 41,
     "metadata": {},
     "output_type": "execute_result"
    }
   ],
   "source": [
    "vars(env)"
   ]
  },
  {
   "cell_type": "raw",
   "metadata": {},
   "source": [
    "Epoch 1 phase train (phase step 0, global step 0).\n",
    "2019-09-10 21:07:43.188326: I tensorflow/stream_executor/dso_loader.cc:152] successfully opened CUDA library libcublas.so.10.0 locally\n",
    "WARNING:tensorflow:Worker 30cf0dca-1453-4706-9287-bd55b63bd5e1 run 00001: Exception:\n",
    "Traceback (most recent call last):\n",
    "  File \"/home/guillermo/miniconda3/envs/animal/lib/python3.6/site-packages/tensorflow/python/client/session.py\", line 1334, in _do_call\n",
    "    return fn(*args)\n",
    "  File \"/home/guillermo/miniconda3/envs/animal/lib/python3.6/site-packages/tensorflow/python/client/session.py\", line 1319, in _run_fn\n",
    "    options, feed_dict, fetch_list, target_list, run_metadata)\n",
    "  File \"/home/guillermo/miniconda3/envs/animal/lib/python3.6/site-packages/tensorflow/python/client/session.py\", line 1407, in _call_tf_sessionrun\n",
    "    run_metadata)\n",
    "tensorflow.python.framework.errors_impl.InvalidArgumentError: Need minval < maxval, got 0 >= -24\n",
    "\t [[{{node random_uniform}}]]\n",
    "\t [[{{node graph/cond/IteratorGetNext}}]]\n",
    "\t [[{{node graph/cond_8/Merge}}]]\n"
   ]
  },
  {
   "cell_type": "markdown",
   "metadata": {
    "heading_collapsed": true
   },
   "source": [
    "## Old"
   ]
  },
  {
   "cell_type": "code",
   "execution_count": 6,
   "metadata": {
    "ExecuteTime": {
     "end_time": "2019-09-09T19:21:49.329229Z",
     "start_time": "2019-09-09T19:21:49.323252Z"
    },
    "hidden": true
   },
   "outputs": [
    {
     "data": {
      "text/plain": [
       "{'env': <gym.envs.atari.atari_env.AtariEnv at 0x7f59ea1a8f28>,\n",
       " 'action_space': Discrete(18),\n",
       " 'observation_space': Box(210, 160, 3),\n",
       " 'reward_range': (-inf, inf),\n",
       " 'metadata': {'render.modes': ['human', 'rgb_array']},\n",
       " '_max_episode_steps': 10000,\n",
       " '_elapsed_steps': 0}"
      ]
     },
     "execution_count": 6,
     "metadata": {},
     "output_type": "execute_result"
    }
   ],
   "source": [
    "vars(atari_env)"
   ]
  },
  {
   "cell_type": "code",
   "execution_count": 13,
   "metadata": {
    "ExecuteTime": {
     "end_time": "2019-09-09T19:23:56.559856Z",
     "start_time": "2019-09-09T19:23:56.553522Z"
    },
    "hidden": true,
    "scrolled": true
   },
   "outputs": [
    {
     "data": {
      "text/plain": [
       "{'_env': <animalai.envs.environment.UnityEnvironment at 0x7f59ea22ec88>,\n",
       " 'vector_obs': array([ 0.        , -0.00283241,  0.        ]),\n",
       " 'inference': False,\n",
       " 'resolution': None,\n",
       " '_current_state': <animalai.envs.brain.BrainInfo at 0x7f59ea383160>,\n",
       " '_n_agents': 1,\n",
       " '_flattener': <animalai.envs.gym.environment.ActionFlattener at 0x7f59ea36def0>,\n",
       " '_greyscale': False,\n",
       " 'retro': False,\n",
       " 'game_over': False,\n",
       " 'arenas_configurations': <animalai.envs.arena_config.ArenaConfig at 0x7f59ea22ebe0>,\n",
       " 'flatten_branched': True,\n",
       " 'uint8_visual': False,\n",
       " 'brain_name': 'Learner',\n",
       " '_action_space': Discrete(9),\n",
       " 'action_meanings': ['', ''],\n",
       " '_observation_space': Tuple(Box(1, 84, 84, 3), Box(1, 3)),\n",
       " 'visual_obs': array([[[0.19215686, 0.30196078, 0.4745098 ],\n",
       "         [0.19215686, 0.30196078, 0.4745098 ],\n",
       "         [0.19215686, 0.30196078, 0.4745098 ],\n",
       "         ...,\n",
       "         [0.19215686, 0.30196078, 0.4745098 ],\n",
       "         [0.19215686, 0.30196078, 0.4745098 ],\n",
       "         [0.19215686, 0.30196078, 0.4745098 ]],\n",
       " \n",
       "        [[0.19215686, 0.30196078, 0.4745098 ],\n",
       "         [0.19215686, 0.30196078, 0.4745098 ],\n",
       "         [0.19215686, 0.30196078, 0.4745098 ],\n",
       "         ...,\n",
       "         [0.19215686, 0.30196078, 0.4745098 ],\n",
       "         [0.19215686, 0.30196078, 0.4745098 ],\n",
       "         [0.19215686, 0.30196078, 0.4745098 ]],\n",
       " \n",
       "        [[0.19215686, 0.30196078, 0.4745098 ],\n",
       "         [0.19215686, 0.30196078, 0.4745098 ],\n",
       "         [0.19215686, 0.30196078, 0.4745098 ],\n",
       "         ...,\n",
       "         [0.19215686, 0.30196078, 0.4745098 ],\n",
       "         [0.19215686, 0.30196078, 0.4745098 ],\n",
       "         [0.19215686, 0.30196078, 0.4745098 ]],\n",
       " \n",
       "        ...,\n",
       " \n",
       "        [[0.67843137, 0.58431373, 0.43529412],\n",
       "         [0.6745098 , 0.58431373, 0.43529412],\n",
       "         [0.67058824, 0.58039216, 0.43137255],\n",
       "         ...,\n",
       "         [0.58823529, 0.50980392, 0.38431373],\n",
       "         [0.58823529, 0.50980392, 0.38431373],\n",
       "         [0.58823529, 0.51372549, 0.38823529]],\n",
       " \n",
       "        [[0.6745098 , 0.58431373, 0.43529412],\n",
       "         [0.6745098 , 0.58039216, 0.43137255],\n",
       "         [0.67058824, 0.58039216, 0.43137255],\n",
       "         ...,\n",
       "         [0.58431373, 0.50196078, 0.38039216],\n",
       "         [0.58431373, 0.50196078, 0.38039216],\n",
       "         [0.58431373, 0.50588235, 0.38431373]],\n",
       " \n",
       "        [[0.67058824, 0.58039216, 0.43137255],\n",
       "         [0.66666667, 0.57647059, 0.42745098],\n",
       "         [0.66666667, 0.57647059, 0.42745098],\n",
       "         ...,\n",
       "         [0.58431373, 0.50196078, 0.38039216],\n",
       "         [0.58039216, 0.50196078, 0.38039216],\n",
       "         [0.58039216, 0.49803922, 0.38039216]]])}"
      ]
     },
     "execution_count": 13,
     "metadata": {},
     "output_type": "execute_result"
    }
   ],
   "source": [
    "vars(animal_env)"
   ]
  },
  {
   "cell_type": "code",
   "execution_count": 4,
   "metadata": {
    "ExecuteTime": {
     "end_time": "2019-09-09T19:21:49.016642Z",
     "start_time": "2019-09-09T19:21:45.214922Z"
    },
    "hidden": true
   },
   "outputs": [
    {
     "name": "stdout",
     "output_type": "stream",
     "text": [
      "Increasing worker_id: 1\n"
     ]
    },
    {
     "name": "stderr",
     "output_type": "stream",
     "text": [
      "INFO:mlagents.envs:\n",
      "'Academy' started successfully!\n",
      "Unity Academy name: Academy\n",
      "        Number of Brains: 1\n",
      "        Number of Training Brains : 1\n",
      "INFO:gym_unity:1 agents within environment.\n"
     ]
    }
   ],
   "source": [
    "animal_env = animalai_environment()"
   ]
  },
  {
   "cell_type": "code",
   "execution_count": 14,
   "metadata": {
    "ExecuteTime": {
     "end_time": "2019-09-09T19:29:37.638838Z",
     "start_time": "2019-09-09T19:29:37.628717Z"
    },
    "hidden": true
   },
   "outputs": [
    {
     "data": {
      "text/plain": [
       "(84, 84, 3)"
      ]
     },
     "execution_count": 14,
     "metadata": {},
     "output_type": "execute_result"
    }
   ],
   "source": [
    "animal_env.step(0)[0].shape"
   ]
  },
  {
   "cell_type": "code",
   "execution_count": 15,
   "metadata": {
    "ExecuteTime": {
     "end_time": "2019-09-09T19:29:41.008735Z",
     "start_time": "2019-09-09T19:29:41.003681Z"
    },
    "hidden": true
   },
   "outputs": [
    {
     "data": {
      "text/plain": [
       "(210, 160, 3)"
      ]
     },
     "execution_count": 15,
     "metadata": {},
     "output_type": "execute_result"
    }
   ],
   "source": [
    "atari_env.step([0])[0].shape"
   ]
  },
  {
   "cell_type": "code",
   "execution_count": null,
   "metadata": {
    "hidden": true
   },
   "outputs": [],
   "source": []
  }
 ],
 "metadata": {
  "hide_input": false,
  "kernelspec": {
   "display_name": "Python (animal)",
   "language": "python",
   "name": "animal"
  },
  "language_info": {
   "codemirror_mode": {
    "name": "ipython",
    "version": 3
   },
   "file_extension": ".py",
   "mimetype": "text/x-python",
   "name": "python",
   "nbconvert_exporter": "python",
   "pygments_lexer": "ipython3",
   "version": "3.6.7"
  },
  "toc": {
   "base_numbering": 1,
   "nav_menu": {},
   "number_sections": false,
   "sideBar": true,
   "skip_h1_title": false,
   "title_cell": "Table of Contents",
   "title_sidebar": "Contents",
   "toc_cell": true,
   "toc_position": {},
   "toc_section_display": true,
   "toc_window_display": false
  },
  "varInspector": {
   "cols": {
    "lenName": 16,
    "lenType": 16,
    "lenVar": 40
   },
   "kernels_config": {
    "python": {
     "delete_cmd_postfix": "",
     "delete_cmd_prefix": "del ",
     "library": "var_list.py",
     "varRefreshCmd": "print(var_dic_list())"
    },
    "r": {
     "delete_cmd_postfix": ") ",
     "delete_cmd_prefix": "rm(",
     "library": "var_list.r",
     "varRefreshCmd": "cat(var_dic_list()) "
    }
   },
   "types_to_exclude": [
    "module",
    "function",
    "builtin_function_or_method",
    "instance",
    "_Feature"
   ],
   "window_display": false
  }
 },
 "nbformat": 4,
 "nbformat_minor": 2
}
