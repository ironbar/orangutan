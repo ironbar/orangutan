{
 "cells": [
  {
   "cell_type": "markdown",
   "metadata": {
    "toc": true
   },
   "source": [
    "<h1>Table of Contents<span class=\"tocSkip\"></span></h1>\n",
    "<div class=\"toc\"><ul class=\"toc-item\"><li><span><a href=\"#Imitation-learning\" data-toc-modified-id=\"Imitation-learning-1\">Imitation learning</a></span><ul class=\"toc-item\"><li><span><a href=\"#Imports\" data-toc-modified-id=\"Imports-1.1\">Imports</a></span></li><li><span><a href=\"#Creating-the-environment\" data-toc-modified-id=\"Creating-the-environment-1.2\">Creating the environment</a></span></li><li><span><a href=\"#Playing-strategy\" data-toc-modified-id=\"Playing-strategy-1.3\">Playing strategy</a></span><ul class=\"toc-item\"><li><span><a href=\"#1.-Food\" data-toc-modified-id=\"1.-Food-1.3.1\">1. Food</a></span></li><li><span><a href=\"#2.-Preferences\" data-toc-modified-id=\"2.-Preferences-1.3.2\">2. Preferences</a></span></li><li><span><a href=\"#3.-Obstacles\" data-toc-modified-id=\"3.-Obstacles-1.3.3\">3. Obstacles</a></span></li><li><span><a href=\"#4.-Avoidance\" data-toc-modified-id=\"4.-Avoidance-1.3.4\">4. Avoidance</a></span></li></ul></li><li><span><a href=\"#Learning-from-recorded-games\" data-toc-modified-id=\"Learning-from-recorded-games-1.4\">Learning from recorded games</a></span><ul class=\"toc-item\"><li><span><a href=\"#Preparing-the-data\" data-toc-modified-id=\"Preparing-the-data-1.4.1\">Preparing the data</a></span></li><li><span><a href=\"#Creating-the-model\" data-toc-modified-id=\"Creating-the-model-1.4.2\">Creating the model</a></span><ul class=\"toc-item\"><li><span><a href=\"#Problems-with-conda-environment\" data-toc-modified-id=\"Problems-with-conda-environment-1.4.2.1\">Problems with conda environment</a></span></li><li><span><a href=\"#Building-the-model\" data-toc-modified-id=\"Building-the-model-1.4.2.2\">Building the model</a></span></li></ul></li><li><span><a href=\"#Train\" data-toc-modified-id=\"Train-1.4.3\">Train</a></span></li></ul></li><li><span><a href=\"#Visualizing-agent-play\" data-toc-modified-id=\"Visualizing-agent-play-1.5\">Visualizing agent play</a></span></li><li><span><a href=\"#Summary\" data-toc-modified-id=\"Summary-1.6\">Summary</a></span></li></ul></li></ul></div>"
   ]
  },
  {
   "cell_type": "markdown",
   "metadata": {
    "ExecuteTime": {
     "end_time": "2019-07-16T17:26:51.726063Z",
     "start_time": "2019-07-16T17:26:51.723185Z"
    },
    "heading_collapsed": true
   },
   "source": [
    "# Imitation learning"
   ]
  },
  {
   "cell_type": "markdown",
   "metadata": {
    "ExecuteTime": {
     "end_time": "2019-07-16T17:28:38.234552Z",
     "start_time": "2019-07-16T17:28:38.223048Z"
    },
    "hidden": true
   },
   "source": [
    "On this notebook I want to improve the results from the previous notebook by training on more levels. I will also apply mirroring to duplicate game data."
   ]
  },
  {
   "cell_type": "markdown",
   "metadata": {
    "hidden": true
   },
   "source": [
    "## Imports"
   ]
  },
  {
   "cell_type": "code",
   "execution_count": 92,
   "metadata": {
    "ExecuteTime": {
     "end_time": "2019-07-18T18:38:16.575694Z",
     "start_time": "2019-07-18T18:38:16.568681Z"
    },
    "hidden": true
   },
   "outputs": [],
   "source": [
    "import matplotlib.pyplot as plt\n",
    "import cv2\n",
    "import numpy as np\n",
    "from tqdm import tqdm_notebook as tqdm\n",
    "import glob\n",
    "from sklearn.preprocessing import OneHotEncoder\n",
    "\n",
    "import tensorflow.keras as keras\n",
    "from tensorflow.keras.models import Model, load_model\n",
    "from tensorflow.keras.layers import Conv2D, MaxPool2D, Dense, Input, Concatenate, Flatten\n",
    "from tensorflow.keras.utils import plot_model\n",
    "from tensorflow.keras.optimizers import Adam\n",
    "from tensorflow.keras.callbacks import EarlyStopping, ReduceLROnPlateau\n",
    "\n",
    "from animalai.envs import UnityEnvironment\n",
    "from animalai.envs.arena_config import ArenaConfig"
   ]
  },
  {
   "cell_type": "markdown",
   "metadata": {
    "heading_collapsed": true,
    "hidden": true
   },
   "source": [
    "## Creating the environment"
   ]
  },
  {
   "cell_type": "code",
   "execution_count": 2,
   "metadata": {
    "ExecuteTime": {
     "end_time": "2019-07-18T12:55:40.776812Z",
     "start_time": "2019-07-18T12:55:38.386174Z"
    },
    "hidden": true
   },
   "outputs": [],
   "source": [
    "env = UnityEnvironment(\n",
    "    file_name='/media/guillermo/Data/Dropbox/02 Inteligencia Artificial/31_animalai/AnimalAI-Olympics/env/AnimalAI.x86_64',   # Path to the environment\n",
    "    worker_id=0,                # Unique ID for running the environment (used for connection)\n",
    "    seed=0,                     # The random seed \n",
    "    docker_training=False,      # Whether or not you are training inside a docker\n",
    "    n_arenas=1,                 # Number of arenas in your environment\n",
    "    play=False,                 # Set to False for training\n",
    "    inference=False,            # Set to true to watch your agent in action\n",
    "    resolution=None             # Int: resolution of the agent's square camera (in [4,512], default 84)\n",
    ")"
   ]
  },
  {
   "cell_type": "code",
   "execution_count": 3,
   "metadata": {
    "ExecuteTime": {
     "end_time": "2019-07-18T12:55:41.499492Z",
     "start_time": "2019-07-18T12:55:40.778574Z"
    },
    "hidden": true
   },
   "outputs": [
    {
     "data": {
      "text/plain": [
       "{'Learner': <animalai.envs.brain.BrainInfo at 0x7f79ab51c780>}"
      ]
     },
     "execution_count": 3,
     "metadata": {},
     "output_type": "execute_result"
    }
   ],
   "source": [
    "arena_config = ArenaConfig('/media/guillermo/Data/Dropbox/02 Inteligencia Artificial/31_animalai/AnimalAI-Olympics/examples/configs/1-Food.yaml')\n",
    "env.reset(arenas_configurations=arena_config, train_mode=True)"
   ]
  },
  {
   "cell_type": "code",
   "execution_count": 4,
   "metadata": {
    "ExecuteTime": {
     "end_time": "2019-07-18T12:55:41.516188Z",
     "start_time": "2019-07-18T12:55:41.501261Z"
    },
    "hidden": true
   },
   "outputs": [
    {
     "data": {
      "text/plain": [
       "{'Learner': <animalai.envs.brain.BrainInfo at 0x7f79ab51c8d0>}"
      ]
     },
     "execution_count": 4,
     "metadata": {},
     "output_type": "execute_result"
    }
   ],
   "source": [
    "arena_config = ArenaConfig('/media/guillermo/Data/Dropbox/02 Inteligencia Artificial/31_animalai/AnimalAI-Olympics/examples/configs/1-Food_small.yaml')\n",
    "env.reset(arenas_configurations=arena_config, train_mode=True)"
   ]
  },
  {
   "cell_type": "markdown",
   "metadata": {
    "hidden": true
   },
   "source": [
    "## Playing strategy"
   ]
  },
  {
   "cell_type": "markdown",
   "metadata": {
    "hidden": true
   },
   "source": [
    "* I'm going to try to play as natural as possible and as good as possible. If I make mistakes I will try to discard those games.\n",
    "* I won't be giving preference to any rotation side, because mirror solves that problem. I will try to use the more natural way."
   ]
  },
  {
   "cell_type": "markdown",
   "metadata": {
    "hidden": true
   },
   "source": [
    "https://mdcrosby.com/blog/animalailaunch.html  \n",
    "https://mdcrosby.com/blog/animalaieval.html"
   ]
  },
  {
   "cell_type": "markdown",
   "metadata": {
    "hidden": true
   },
   "source": [
    "### 1. Food"
   ]
  },
  {
   "cell_type": "markdown",
   "metadata": {
    "hidden": true
   },
   "source": [
    "* fixed food\n",
    "* fixed small food\n",
    "* moving food\n",
    "* moving small food\n",
    "* fixed multifood\n",
    "* moving multifood"
   ]
  },
  {
   "cell_type": "markdown",
   "metadata": {
    "hidden": true
   },
   "source": [
    "### 2. Preferences"
   ]
  },
  {
   "cell_type": "markdown",
   "metadata": {
    "hidden": true
   },
   "source": [
    "* food, bad, multi\n",
    "* same but moving\n",
    "* 2-Preferences_1good_6bad, to learn to avoid bad goals"
   ]
  },
  {
   "cell_type": "markdown",
   "metadata": {
    "hidden": true
   },
   "source": [
    "### 3. Obstacles"
   ]
  },
  {
   "cell_type": "markdown",
   "metadata": {
    "hidden": true
   },
   "source": [
    "* good, 2 walls. Sometimes we have to explore the environment to reach the goal"
   ]
  },
  {
   "cell_type": "markdown",
   "metadata": {
    "hidden": true
   },
   "source": [
    "### 4. Avoidance"
   ]
  },
  {
   "cell_type": "markdown",
   "metadata": {
    "ExecuteTime": {
     "end_time": "2019-07-18T16:22:04.886145Z",
     "start_time": "2019-07-18T16:22:04.882974Z"
    },
    "hidden": true
   },
   "source": [
    "* good, dead zone\n",
    "* 4-Avoidance_3dead, very difficult to create viable scenarios\n",
    "* 4-Avoidance_3deadsmall\n",
    "* 4-Avoidance_6deadsmall\n",
    "* 4-Avoidance_9deadsmall"
   ]
  },
  {
   "cell_type": "markdown",
   "metadata": {
    "ExecuteTime": {
     "end_time": "2019-07-18T16:58:17.959516Z",
     "start_time": "2019-07-18T16:58:17.954995Z"
    },
    "hidden": true
   },
   "source": [
    "* 5-SpatialReasoning\n",
    "* 6-Generalization\n",
    "* objectManipulation"
   ]
  },
  {
   "cell_type": "markdown",
   "metadata": {
    "hidden": true
   },
   "source": [
    "## Learning from recorded games"
   ]
  },
  {
   "cell_type": "markdown",
   "metadata": {
    "hidden": true
   },
   "source": [
    "### Preparing the data"
   ]
  },
  {
   "cell_type": "code",
   "execution_count": 64,
   "metadata": {
    "ExecuteTime": {
     "end_time": "2019-07-18T15:24:31.214451Z",
     "start_time": "2019-07-18T15:24:31.203547Z"
    },
    "hidden": true
   },
   "outputs": [],
   "source": [
    "def load_games_data(game_filepaths):\n",
    "    data = [np.load(game_filepath) for game_filepath in tqdm(game_filepaths, desc='Loading recorded games')]\n",
    "    ohe = OneHotEncoder(categories=[range(3)], sparse=False)\n",
    "    previous_action = np.concatenate([game['previous_action'] for game in data], axis=0)[:, 0]\n",
    "    ohe.fit(previous_action[:, 1:2])\n",
    "    previous_action = [ohe.transform(previous_action[:, 0:1]), ohe.transform(previous_action[:, 1:2])]\n",
    "    previous_action = np.concatenate(previous_action, axis=1)\n",
    "    model_input = {\n",
    "        'frame': np.concatenate([game['frame'] for game in data], axis=0),\n",
    "        'speed': np.concatenate([game['speed'] for game in data], axis=0)[:, 0]/10,\n",
    "        'previous_action': previous_action,\n",
    "    }\n",
    "    action = np.concatenate([game['action'] for game in data], axis=0)\n",
    "    model_output = {\n",
    "        'action_move': ohe.transform(action[:, 0:1]),\n",
    "        'action_rotate': ohe.transform(action[:, 1:2]),\n",
    "    }\n",
    "    return model_input, model_output"
   ]
  },
  {
   "cell_type": "code",
   "execution_count": 65,
   "metadata": {
    "ExecuteTime": {
     "end_time": "2019-07-18T15:24:31.224487Z",
     "start_time": "2019-07-18T15:24:31.216683Z"
    },
    "hidden": true
   },
   "outputs": [],
   "source": [
    "def mirror_game(game_data):\n",
    "    return _mirror_input_data(game_data[0]), _mirror_output_data(game_data[1])\n",
    "    \n",
    "def _mirror_input_data(input_data):\n",
    "    mirror_input_data = input_data.copy()\n",
    "    mirror_input_data['frame'] = np.flip(mirror_input_data['frame'], axis=2)\n",
    "    mirror_input_data['previous_action'] = mirror_input_data['previous_action'][:, [0, 1, 2, 3, 5, 4]]\n",
    "    return mirror_input_data\n",
    "\n",
    "def _mirror_output_data(output_data):\n",
    "    mirror_output_data = output_data.copy()\n",
    "    mirror_output_data['action_rotate'] = mirror_output_data['action_rotate'][:, [0, 2, 1]]\n",
    "    return mirror_output_data"
   ]
  },
  {
   "cell_type": "code",
   "execution_count": 66,
   "metadata": {
    "ExecuteTime": {
     "end_time": "2019-07-18T15:24:31.240928Z",
     "start_time": "2019-07-18T15:24:31.226452Z"
    },
    "hidden": true
   },
   "outputs": [],
   "source": [
    "def duplicate_games(game_data):\n",
    "    mirror_game_data = mirror_game(game_data)\n",
    "    input_data, output_data = {}, {}\n",
    "    for key in game_data[0]:\n",
    "        input_data[key] = np.concatenate([game_data[0][key], mirror_game_data[0][key]], axis=0)\n",
    "    for key in game_data[1]:\n",
    "        output_data[key] = np.concatenate([game_data[1][key], mirror_game_data[1][key]], axis=0)\n",
    "    return input_data, output_data"
   ]
  },
  {
   "cell_type": "code",
   "execution_count": 81,
   "metadata": {
    "ExecuteTime": {
     "end_time": "2019-07-18T16:58:58.455438Z",
     "start_time": "2019-07-18T16:58:58.435787Z"
    },
    "hidden": true
   },
   "outputs": [
    {
     "data": {
      "text/plain": [
       "562"
      ]
     },
     "execution_count": 81,
     "metadata": {},
     "output_type": "execute_result"
    }
   ],
   "source": [
    "game_filepaths = sorted(glob.glob('/media/guillermo/Data/Kaggle/animalai/gameplay/*/*.npz'))\n",
    "np.random.seed(7)\n",
    "np.random.shuffle(game_filepaths)\n",
    "len(game_filepaths)"
   ]
  },
  {
   "cell_type": "code",
   "execution_count": 8,
   "metadata": {
    "ExecuteTime": {
     "end_time": "2019-07-18T12:56:18.929904Z",
     "start_time": "2019-07-18T12:56:16.842679Z"
    },
    "code_folding": [
     4
    ],
    "deletable": false,
    "editable": false,
    "hidden": true,
    "run_control": {
     "frozen": true
    }
   },
   "outputs": [
    {
     "data": {
      "application/vnd.jupyter.widget-view+json": {
       "model_id": "ccc5eeaf4d4f48d2857d659fcc4c68ad",
       "version_major": 2,
       "version_minor": 0
      },
      "text/plain": [
       "HBox(children=(IntProgress(value=0, description='Loading recorded games', max=150, style=ProgressStyle(descrip…"
      ]
     },
     "metadata": {},
     "output_type": "display_data"
    },
    {
     "name": "stdout",
     "output_type": "stream",
     "text": [
      "\n",
      "Inputs\n",
      "frame shape: (7442, 84, 84, 3)\n",
      "speed shape: (7442, 3)\n",
      "previous_action shape: (7442, 6)\n",
      "Outputs\n",
      "action_move shape: (7442, 3)\n",
      "action_rotate shape: (7442, 3)\n"
     ]
    }
   ],
   "source": [
    "model_input, model_output = load_games_data(game_filepaths)\n",
    "input_keys = ['frame', 'speed', 'previous_action']\n",
    "output_keys = ['action_move', 'action_rotate']\n",
    "print('Inputs')\n",
    "for key in input_keys:\n",
    "    print('%s shape: %s' % (key, str(model_input[key].shape)))\n",
    "print('Outputs')\n",
    "for key in output_keys:\n",
    "    print('%s shape: %s' % (key, str(model_output[key].shape)))"
   ]
  },
  {
   "cell_type": "code",
   "execution_count": 82,
   "metadata": {
    "ExecuteTime": {
     "end_time": "2019-07-18T16:59:30.300422Z",
     "start_time": "2019-07-18T16:59:14.492122Z"
    },
    "hidden": true
   },
   "outputs": [
    {
     "data": {
      "application/vnd.jupyter.widget-view+json": {
       "model_id": "dfa00483d0ef4e1281666d9f73c22253",
       "version_major": 2,
       "version_minor": 0
      },
      "text/plain": [
       "HBox(children=(IntProgress(value=0, description='Loading recorded games', max=450, style=ProgressStyle(descrip…"
      ]
     },
     "metadata": {},
     "output_type": "display_data"
    },
    {
     "name": "stdout",
     "output_type": "stream",
     "text": [
      "\n"
     ]
    },
    {
     "data": {
      "application/vnd.jupyter.widget-view+json": {
       "model_id": "b0730e0d17dc49adb48a7b6ccb3f1d44",
       "version_major": 2,
       "version_minor": 0
      },
      "text/plain": [
       "HBox(children=(IntProgress(value=0, description='Loading recorded games', max=112, style=ProgressStyle(descrip…"
      ]
     },
     "metadata": {},
     "output_type": "display_data"
    },
    {
     "name": "stdout",
     "output_type": "stream",
     "text": [
      "\n",
      "Number of train samples: 60822\n",
      "Number of validation samples: 13934\n"
     ]
    }
   ],
   "source": [
    "train = load_games_data(game_filepaths[:-int(len(game_filepaths)//5)])\n",
    "val = load_games_data(game_filepaths[-int(len(game_filepaths)//5):])\n",
    "\n",
    "train = duplicate_games(train)\n",
    "val = duplicate_games(val)\n",
    "\n",
    "print('Number of train samples: %i' % len(train[0]['frame']))\n",
    "print('Number of validation samples: %i' % len(val[0]['frame']))"
   ]
  },
  {
   "cell_type": "markdown",
   "metadata": {
    "hidden": true
   },
   "source": [
    "### Creating the model"
   ]
  },
  {
   "cell_type": "markdown",
   "metadata": {
    "hidden": true
   },
   "source": [
    "The idea is to process the frame using a lenet like network and merge it later with speed and previous move to take a decision over the actions.\n",
    "\n",
    "![](https://miro.medium.com/max/2625/1*1TI1aGBZ4dybR6__DI9dzA.png)"
   ]
  },
  {
   "cell_type": "markdown",
   "metadata": {
    "heading_collapsed": true,
    "hidden": true
   },
   "source": [
    "#### Problems with conda environment"
   ]
  },
  {
   "cell_type": "markdown",
   "metadata": {
    "hidden": true
   },
   "source": [
    "There are inconsistencies between opencv, tensorflow-gpu and the environment requirements (numpy 1.14.5). Maybe I should create an environment for playing an another for training. However if I want to do reinforcement learning I need both in the environment.\n",
    "\n",
    "Which are my requirements:\n",
    "* python 3.6, this is required by animalai\n",
    "* opencv 4.1.0 or higher, previous versions do not show the window\n",
    "* tensorflow-gpu, needed to train\n",
    "* numpy 1.14.5, is this really necessary?\n",
    "\n",
    "I think the problem is that there are conflicts between them."
   ]
  },
  {
   "cell_type": "markdown",
   "metadata": {
    "hidden": true
   },
   "source": [
    "Ideas:\n",
    "* I could try to create an environment from zero\n",
    "* Why numpy 1.14.5 is needed?"
   ]
  },
  {
   "cell_type": "markdown",
   "metadata": {
    "ExecuteTime": {
     "end_time": "2019-07-17T12:19:53.246107Z",
     "start_time": "2019-07-17T12:19:53.241663Z"
    },
    "hidden": true
   },
   "source": [
    "Let's try to use a higher version of numpy on animalai. I can revert to other versions of the environment following the link below.\n",
    "\n",
    "http://blog.rtwilson.com/conda-revisions-letting-you-rollback-to-a-previous-version-of-your-environment/\n",
    "\n",
    "I have been able to remove numpy 1.14.5 and install numpy 1.16.1 and the environment runs."
   ]
  },
  {
   "cell_type": "markdown",
   "metadata": {
    "hidden": true
   },
   "source": [
    "I have created a new environment called animal that seems to be working. The steps were the following:\n",
    "\n",
    "```\n",
    "conda create -n animal python=3.6\n",
    "conda activate animal\n",
    "pip install animalai\n",
    "pip uninstall numpy\n",
    "conda install -c conda-forge tensorflow-gpu opencv==4.1.0\n",
    "conda install jupyter ipywidgets\n",
    "python -m ipykernel install --user --name $CONDA_DEFAULT_ENV --display-name \"Python ($CONDA_DEFAULT_ENV)\"\n",
    "conda install pytest rope pylint tqdm pandas scikit-learn ipython ipykernel autopep8 matplotlib\n",
    "```"
   ]
  },
  {
   "cell_type": "markdown",
   "metadata": {
    "heading_collapsed": true,
    "hidden": true
   },
   "source": [
    "#### Building the model"
   ]
  },
  {
   "cell_type": "code",
   "execution_count": 68,
   "metadata": {
    "ExecuteTime": {
     "end_time": "2019-07-18T15:24:39.415627Z",
     "start_time": "2019-07-18T15:24:39.411159Z"
    },
    "code_folding": [
     0
    ],
    "hidden": true
   },
   "outputs": [],
   "source": [
    "def build_model(conv_filters, mlp_units):\n",
    "    frame = Input(shape=(84, 84, 3), name='frame')\n",
    "    output = frame\n",
    "    for n_filters in conv_filters:\n",
    "        output = Conv2D(filters=n_filters, kernel_size=(3, 3), activation='relu')(output)\n",
    "        output = MaxPool2D()(output)\n",
    "    output = Flatten()(output)\n",
    "    \n",
    "    speed = Input(shape=(3), name='speed')\n",
    "    previous_action = Input(shape=(6), name='previous_action')\n",
    "    \n",
    "    output = Concatenate()([output, speed, previous_action])\n",
    "    \n",
    "    for n_units in mlp_units:\n",
    "        output = Dense(n_units, activation='relu')(output)\n",
    "    \n",
    "    action_move = Dense(3, activation='softmax', name='action_move')(output)\n",
    "    action_rotate = Dense(3, activation='softmax', name='action_rotate')(output)\n",
    "    \n",
    "    model = Model(inputs=dict(frame=frame, speed=speed, previous_action=previous_action), outputs=[action_move, action_rotate])\n",
    "    return model"
   ]
  },
  {
   "cell_type": "code",
   "execution_count": 68,
   "metadata": {
    "ExecuteTime": {
     "end_time": "2019-07-17T14:07:14.419606Z",
     "start_time": "2019-07-17T14:07:14.287866Z"
    },
    "deletable": false,
    "editable": false,
    "hidden": true,
    "run_control": {
     "frozen": true
    },
    "scrolled": true
   },
   "outputs": [
    {
     "name": "stdout",
     "output_type": "stream",
     "text": [
      "Model: \"model_5\"\n",
      "__________________________________________________________________________________________________\n",
      "Layer (type)                    Output Shape         Param #     Connected to                     \n",
      "==================================================================================================\n",
      "frame (InputLayer)              [(None, 84, 84, 3)]  0                                            \n",
      "__________________________________________________________________________________________________\n",
      "conv2d_24 (Conv2D)              (None, 82, 82, 8)    224         frame[0][0]                      \n",
      "__________________________________________________________________________________________________\n",
      "max_pooling2d_24 (MaxPooling2D) (None, 41, 41, 8)    0           conv2d_24[0][0]                  \n",
      "__________________________________________________________________________________________________\n",
      "conv2d_25 (Conv2D)              (None, 39, 39, 8)    584         max_pooling2d_24[0][0]           \n",
      "__________________________________________________________________________________________________\n",
      "max_pooling2d_25 (MaxPooling2D) (None, 19, 19, 8)    0           conv2d_25[0][0]                  \n",
      "__________________________________________________________________________________________________\n",
      "conv2d_26 (Conv2D)              (None, 17, 17, 16)   1168        max_pooling2d_25[0][0]           \n",
      "__________________________________________________________________________________________________\n",
      "max_pooling2d_26 (MaxPooling2D) (None, 8, 8, 16)     0           conv2d_26[0][0]                  \n",
      "__________________________________________________________________________________________________\n",
      "conv2d_27 (Conv2D)              (None, 6, 6, 16)     2320        max_pooling2d_26[0][0]           \n",
      "__________________________________________________________________________________________________\n",
      "max_pooling2d_27 (MaxPooling2D) (None, 3, 3, 16)     0           conv2d_27[0][0]                  \n",
      "__________________________________________________________________________________________________\n",
      "flatten_6 (Flatten)             (None, 144)          0           max_pooling2d_27[0][0]           \n",
      "__________________________________________________________________________________________________\n",
      "speed (InputLayer)              [(None, 3)]          0                                            \n",
      "__________________________________________________________________________________________________\n",
      "previous_action (InputLayer)    [(None, 6)]          0                                            \n",
      "__________________________________________________________________________________________________\n",
      "concatenate_6 (Concatenate)     (None, 153)          0           flatten_6[0][0]                  \n",
      "                                                                 speed[0][0]                      \n",
      "                                                                 previous_action[0][0]            \n",
      "__________________________________________________________________________________________________\n",
      "dense_1 (Dense)                 (None, 16)           2464        concatenate_6[0][0]              \n",
      "__________________________________________________________________________________________________\n",
      "action_move (Dense)             (None, 3)            51          dense_1[0][0]                    \n",
      "__________________________________________________________________________________________________\n",
      "action_rotate (Dense)           (None, 3)            51          dense_1[0][0]                    \n",
      "==================================================================================================\n",
      "Total params: 6,862\n",
      "Trainable params: 6,862\n",
      "Non-trainable params: 0\n",
      "__________________________________________________________________________________________________\n"
     ]
    }
   ],
   "source": [
    "model = build_model([8, 8, 16, 16], [16])\n",
    "model.summary()"
   ]
  },
  {
   "cell_type": "code",
   "execution_count": 69,
   "metadata": {
    "ExecuteTime": {
     "end_time": "2019-07-17T14:07:34.555993Z",
     "start_time": "2019-07-17T14:07:34.341657Z"
    },
    "deletable": false,
    "editable": false,
    "hidden": true,
    "run_control": {
     "frozen": true
    }
   },
   "outputs": [
    {
     "data": {
      "image/png": "[encoded data removed]",
      "text/plain": [
       "<IPython.core.display.Image object>"
      ]
     },
     "execution_count": 69,
     "metadata": {},
     "output_type": "execute_result"
    }
   ],
   "source": [
    "plot_model(model, show_shapes=True)"
   ]
  },
  {
   "cell_type": "code",
   "execution_count": 21,
   "metadata": {
    "ExecuteTime": {
     "end_time": "2019-07-17T13:38:54.901867Z",
     "start_time": "2019-07-17T13:38:54.889695Z"
    },
    "deletable": false,
    "editable": false,
    "hidden": true,
    "run_control": {
     "frozen": true
    }
   },
   "outputs": [
    {
     "data": {
      "text/plain": [
       "(2806, 84, 84, 3)"
      ]
     },
     "execution_count": 21,
     "metadata": {},
     "output_type": "execute_result"
    }
   ],
   "source": [
    "train[0]['frame'].shape"
   ]
  },
  {
   "cell_type": "code",
   "execution_count": 27,
   "metadata": {
    "ExecuteTime": {
     "end_time": "2019-07-17T13:40:55.234722Z",
     "start_time": "2019-07-17T13:40:54.966338Z"
    },
    "deletable": false,
    "editable": false,
    "hidden": true,
    "run_control": {
     "frozen": true
    }
   },
   "outputs": [
    {
     "name": "stdout",
     "output_type": "stream",
     "text": [
      "2806/2806 [==============================] - 0s 93us/sample\n"
     ]
    },
    {
     "data": {
      "text/plain": [
       "[array([[0.3731478 , 0.30699477, 0.31985748],\n",
       "        [0.35981053, 0.35984838, 0.28034103],\n",
       "        [0.37141642, 0.3486689 , 0.2799147 ],\n",
       "        ...,\n",
       "        [0.40580714, 0.00190342, 0.5922895 ],\n",
       "        [0.40458828, 0.00183663, 0.59357506],\n",
       "        [0.39020362, 0.00169898, 0.60809743]], dtype=float32),\n",
       " array([[2.9629123e-01, 3.4093401e-01, 3.6277470e-01],\n",
       "        [3.1343883e-01, 3.3088651e-01, 3.5567465e-01],\n",
       "        [3.0650663e-01, 3.3603188e-01, 3.5746148e-01],\n",
       "        ...,\n",
       "        [6.7303479e-02, 8.5454324e-04, 9.3184197e-01],\n",
       "        [6.7455359e-02, 8.0940087e-04, 9.3173522e-01],\n",
       "        [6.8677425e-02, 7.7946781e-04, 9.3054312e-01]], dtype=float32)]"
      ]
     },
     "execution_count": 27,
     "metadata": {},
     "output_type": "execute_result"
    }
   ],
   "source": [
    "model.predict(train[0], batch_size=32, verbose=1)"
   ]
  },
  {
   "cell_type": "markdown",
   "metadata": {
    "ExecuteTime": {
     "end_time": "2019-07-17T13:41:16.509528Z",
     "start_time": "2019-07-17T13:41:16.504244Z"
    },
    "hidden": true
   },
   "source": [
    "This is very fast, it should train very fast also."
   ]
  },
  {
   "cell_type": "markdown",
   "metadata": {
    "hidden": true
   },
   "source": [
    "### Train"
   ]
  },
  {
   "cell_type": "code",
   "execution_count": 88,
   "metadata": {
    "ExecuteTime": {
     "end_time": "2019-07-18T17:56:47.491060Z",
     "start_time": "2019-07-18T17:56:47.479112Z"
    },
    "hidden": true
   },
   "outputs": [],
   "source": [
    "def train_model(conv_filters, mlp_units):\n",
    "    model = build_model(conv_filters, mlp_units)\n",
    "    model.compile(Adam(learning_rate=1e-3), loss='categorical_crossentropy', metrics=['accuracy'])\n",
    "    callbacks = [\n",
    "        EarlyStopping(monitor='val_loss', patience=20, restore_best_weights=True, verbose=1),\n",
    "        ReduceLROnPlateau(monitor='loss', patience=2, factor=0.7, verbose=1)\n",
    "    ]\n",
    "    hist = model.fit(x=train[0], y=train[1], epochs=500, validation_data=val, callbacks=callbacks)\n",
    "    plot_hist(hist.history)\n",
    "    return model\n",
    "    \n",
    "def plot_hist(hist):\n",
    "    plt.figure()\n",
    "    keys = ['loss']\n",
    "    for key in keys:\n",
    "        for prefix in ['', 'val_']:\n",
    "            label = '%s%s' % (prefix, key)\n",
    "            best_score = np.min(hist[label])\n",
    "            plt.plot(hist[label], label='%s %.4f' % (label, best_score))\n",
    "    plt.legend(loc=0)"
   ]
  },
  {
   "cell_type": "code",
   "execution_count": 85,
   "metadata": {
    "ExecuteTime": {
     "end_time": "2019-07-18T17:08:24.964452Z",
     "start_time": "2019-07-18T17:01:17.876459Z"
    },
    "hidden": true,
    "scrolled": true
   },
   "outputs": [
    {
     "name": "stdout",
     "output_type": "stream",
     "text": [
      "Train on 60822 samples, validate on 13934 samples\n",
      "Epoch 1/500\n",
      "60822/60822 [==============================] - 14s 224us/sample - loss: 0.7866 - action_move_loss: 0.3423 - action_rotate_loss: 0.4442 - action_move_acc: 0.8782 - action_rotate_acc: 0.8637 - val_loss: 0.6122 - val_action_move_loss: 0.2900 - val_action_rotate_loss: 0.3226 - val_action_move_acc: 0.8997 - val_action_rotate_acc: 0.8932\n",
      "Epoch 2/500\n",
      "60822/60822 [==============================] - 13s 213us/sample - loss: 0.6481 - action_move_loss: 0.3009 - action_rotate_loss: 0.3472 - action_move_acc: 0.8852 - action_rotate_acc: 0.8838 - val_loss: 0.5536 - val_action_move_loss: 0.2575 - val_action_rotate_loss: 0.2963 - val_action_move_acc: 0.9012 - val_action_rotate_acc: 0.8964\n",
      "Epoch 3/500\n",
      "60822/60822 [==============================] - 13s 221us/sample - loss: 0.6163 - action_move_loss: 0.2828 - action_rotate_loss: 0.3335 - action_move_acc: 0.8913 - action_rotate_acc: 0.8875 - val_loss: 0.5440 - val_action_move_loss: 0.2512 - val_action_rotate_loss: 0.2925 - val_action_move_acc: 0.9065 - val_action_rotate_acc: 0.8995\n",
      "Epoch 4/500\n",
      "60822/60822 [==============================] - 13s 215us/sample - loss: 0.6014 - action_move_loss: 0.2743 - action_rotate_loss: 0.3271 - action_move_acc: 0.8945 - action_rotate_acc: 0.8898 - val_loss: 0.5432 - val_action_move_loss: 0.2493 - val_action_rotate_loss: 0.2939 - val_action_move_acc: 0.9056 - val_action_rotate_acc: 0.9005\n",
      "Epoch 5/500\n",
      "60822/60822 [==============================] - 13s 216us/sample - loss: 0.5938 - action_move_loss: 0.2704 - action_rotate_loss: 0.3234 - action_move_acc: 0.8966 - action_rotate_acc: 0.8902 - val_loss: 0.5292 - val_action_move_loss: 0.2423 - val_action_rotate_loss: 0.2883 - val_action_move_acc: 0.9068 - val_action_rotate_acc: 0.9005\n",
      "Epoch 6/500\n",
      "60822/60822 [==============================] - 13s 219us/sample - loss: 0.5875 - action_move_loss: 0.2675 - action_rotate_loss: 0.3200 - action_move_acc: 0.8975 - action_rotate_acc: 0.8906 - val_loss: 0.5209 - val_action_move_loss: 0.2383 - val_action_rotate_loss: 0.2828 - val_action_move_acc: 0.9088 - val_action_rotate_acc: 0.9007\n",
      "Epoch 7/500\n",
      "60822/60822 [==============================] - 13s 211us/sample - loss: 0.5830 - action_move_loss: 0.2656 - action_rotate_loss: 0.3174 - action_move_acc: 0.8982 - action_rotate_acc: 0.8910 - val_loss: 0.5163 - val_action_move_loss: 0.2365 - val_action_rotate_loss: 0.2796 - val_action_move_acc: 0.9097 - val_action_rotate_acc: 0.8998\n",
      "Epoch 8/500\n",
      "60822/60822 [==============================] - 13s 211us/sample - loss: 0.5776 - action_move_loss: 0.2631 - action_rotate_loss: 0.3146 - action_move_acc: 0.8991 - action_rotate_acc: 0.8921 - val_loss: 0.5176 - val_action_move_loss: 0.2377 - val_action_rotate_loss: 0.2802 - val_action_move_acc: 0.9087 - val_action_rotate_acc: 0.9022\n",
      "Epoch 9/500\n",
      "60822/60822 [==============================] - 13s 214us/sample - loss: 0.5743 - action_move_loss: 0.2617 - action_rotate_loss: 0.3127 - action_move_acc: 0.8997 - action_rotate_acc: 0.8921 - val_loss: 0.5220 - val_action_move_loss: 0.2396 - val_action_rotate_loss: 0.2819 - val_action_move_acc: 0.9094 - val_action_rotate_acc: 0.9026\n",
      "Epoch 10/500\n",
      "60822/60822 [==============================] - 13s 219us/sample - loss: 0.5703 - action_move_loss: 0.2599 - action_rotate_loss: 0.3103 - action_move_acc: 0.8998 - action_rotate_acc: 0.8924 - val_loss: 0.5128 - val_action_move_loss: 0.2350 - val_action_rotate_loss: 0.2774 - val_action_move_acc: 0.9100 - val_action_rotate_acc: 0.9030\n",
      "Epoch 11/500\n",
      "60822/60822 [==============================] - 13s 207us/sample - loss: 0.5665 - action_move_loss: 0.2582 - action_rotate_loss: 0.3082 - action_move_acc: 0.9002 - action_rotate_acc: 0.8933 - val_loss: 0.5181 - val_action_move_loss: 0.2368 - val_action_rotate_loss: 0.2808 - val_action_move_acc: 0.9103 - val_action_rotate_acc: 0.9037\n",
      "Epoch 12/500\n",
      "60822/60822 [==============================] - 13s 209us/sample - loss: 0.5634 - action_move_loss: 0.2567 - action_rotate_loss: 0.3067 - action_move_acc: 0.9006 - action_rotate_acc: 0.8935 - val_loss: 0.5201 - val_action_move_loss: 0.2393 - val_action_rotate_loss: 0.2811 - val_action_move_acc: 0.9110 - val_action_rotate_acc: 0.9033\n",
      "Epoch 13/500\n",
      "60822/60822 [==============================] - 13s 215us/sample - loss: 0.5592 - action_move_loss: 0.2550 - action_rotate_loss: 0.3043 - action_move_acc: 0.9013 - action_rotate_acc: 0.8954 - val_loss: 0.5123 - val_action_move_loss: 0.2354 - val_action_rotate_loss: 0.2767 - val_action_move_acc: 0.9117 - val_action_rotate_acc: 0.9048\n",
      "Epoch 14/500\n",
      "60822/60822 [==============================] - 13s 215us/sample - loss: 0.5564 - action_move_loss: 0.2538 - action_rotate_loss: 0.3025 - action_move_acc: 0.9016 - action_rotate_acc: 0.8949 - val_loss: 0.5073 - val_action_move_loss: 0.2340 - val_action_rotate_loss: 0.2738 - val_action_move_acc: 0.9124 - val_action_rotate_acc: 0.9070\n",
      "Epoch 15/500\n",
      "60822/60822 [==============================] - 13s 221us/sample - loss: 0.5557 - action_move_loss: 0.2533 - action_rotate_loss: 0.3024 - action_move_acc: 0.9018 - action_rotate_acc: 0.8948 - val_loss: 0.5127 - val_action_move_loss: 0.2350 - val_action_rotate_loss: 0.2774 - val_action_move_acc: 0.9104 - val_action_rotate_acc: 0.9023\n",
      "Epoch 16/500\n",
      "60822/60822 [==============================] - 13s 217us/sample - loss: 0.5512 - action_move_loss: 0.2513 - action_rotate_loss: 0.2998 - action_move_acc: 0.9024 - action_rotate_acc: 0.8956 - val_loss: 0.5153 - val_action_move_loss: 0.2372 - val_action_rotate_loss: 0.2785 - val_action_move_acc: 0.9106 - val_action_rotate_acc: 0.9043\n",
      "Epoch 17/500\n",
      "60822/60822 [==============================] - 13s 214us/sample - loss: 0.5478 - action_move_loss: 0.2498 - action_rotate_loss: 0.2980 - action_move_acc: 0.9034 - action_rotate_acc: 0.8963 - val_loss: 0.5102 - val_action_move_loss: 0.2348 - val_action_rotate_loss: 0.2755 - val_action_move_acc: 0.9114 - val_action_rotate_acc: 0.9043\n",
      "Epoch 18/500\n",
      "60822/60822 [==============================] - 13s 216us/sample - loss: 0.5461 - action_move_loss: 0.2489 - action_rotate_loss: 0.2971 - action_move_acc: 0.9028 - action_rotate_acc: 0.8953 - val_loss: 0.5160 - val_action_move_loss: 0.2373 - val_action_rotate_loss: 0.2795 - val_action_move_acc: 0.9106 - val_action_rotate_acc: 0.9023\n",
      "Epoch 19/500\n",
      "60822/60822 [==============================] - 13s 217us/sample - loss: 0.5430 - action_move_loss: 0.2476 - action_rotate_loss: 0.2954 - action_move_acc: 0.9039 - action_rotate_acc: 0.8966 - val_loss: 0.5196 - val_action_move_loss: 0.2402 - val_action_rotate_loss: 0.2802 - val_action_move_acc: 0.9100 - val_action_rotate_acc: 0.9044\n",
      "Epoch 20/500\n",
      "60822/60822 [==============================] - 13s 216us/sample - loss: 0.5414 - action_move_loss: 0.2467 - action_rotate_loss: 0.2947 - action_move_acc: 0.9043 - action_rotate_acc: 0.8974 - val_loss: 0.5180 - val_action_move_loss: 0.2369 - val_action_rotate_loss: 0.2813 - val_action_move_acc: 0.9122 - val_action_rotate_acc: 0.9034\n",
      "Epoch 21/500\n",
      "60822/60822 [==============================] - 13s 214us/sample - loss: 0.5376 - action_move_loss: 0.2449 - action_rotate_loss: 0.2926 - action_move_acc: 0.9048 - action_rotate_acc: 0.8977 - val_loss: 0.5155 - val_action_move_loss: 0.2376 - val_action_rotate_loss: 0.2788 - val_action_move_acc: 0.9121 - val_action_rotate_acc: 0.9055\n",
      "Epoch 22/500\n",
      "60822/60822 [==============================] - 13s 215us/sample - loss: 0.5378 - action_move_loss: 0.2450 - action_rotate_loss: 0.2928 - action_move_acc: 0.9052 - action_rotate_acc: 0.8976 - val_loss: 0.5194 - val_action_move_loss: 0.2398 - val_action_rotate_loss: 0.2795 - val_action_move_acc: 0.9104 - val_action_rotate_acc: 0.9048\n",
      "Epoch 23/500\n",
      "60822/60822 [==============================] - 12s 201us/sample - loss: 0.5345 - action_move_loss: 0.2436 - action_rotate_loss: 0.2909 - action_move_acc: 0.9049 - action_rotate_acc: 0.8979 - val_loss: 0.5157 - val_action_move_loss: 0.2379 - val_action_rotate_loss: 0.2775 - val_action_move_acc: 0.9103 - val_action_rotate_acc: 0.9041\n",
      "Epoch 24/500\n",
      "60822/60822 [==============================] - 11s 186us/sample - loss: 0.5314 - action_move_loss: 0.2422 - action_rotate_loss: 0.2892 - action_move_acc: 0.9061 - action_rotate_acc: 0.8989 - val_loss: 0.5258 - val_action_move_loss: 0.2421 - val_action_rotate_loss: 0.2833 - val_action_move_acc: 0.9095 - val_action_rotate_acc: 0.9031\n",
      "Epoch 25/500\n",
      "60822/60822 [==============================] - 11s 186us/sample - loss: 0.5294 - action_move_loss: 0.2414 - action_rotate_loss: 0.2880 - action_move_acc: 0.9060 - action_rotate_acc: 0.8984 - val_loss: 0.5152 - val_action_move_loss: 0.2368 - val_action_rotate_loss: 0.2786 - val_action_move_acc: 0.9118 - val_action_rotate_acc: 0.9058\n",
      "Epoch 26/500\n",
      "60822/60822 [==============================] - 11s 186us/sample - loss: 0.5262 - action_move_loss: 0.2399 - action_rotate_loss: 0.2862 - action_move_acc: 0.9063 - action_rotate_acc: 0.8995 - val_loss: 0.5197 - val_action_move_loss: 0.2393 - val_action_rotate_loss: 0.2807 - val_action_move_acc: 0.9105 - val_action_rotate_acc: 0.9045\n",
      "Epoch 27/500\n",
      "60822/60822 [==============================] - 11s 186us/sample - loss: 0.5243 - action_move_loss: 0.2387 - action_rotate_loss: 0.2856 - action_move_acc: 0.9071 - action_rotate_acc: 0.8994 - val_loss: 0.5206 - val_action_move_loss: 0.2402 - val_action_rotate_loss: 0.2802 - val_action_move_acc: 0.9114 - val_action_rotate_acc: 0.9029\n",
      "Epoch 28/500\n",
      "60822/60822 [==============================] - 11s 187us/sample - loss: 0.5229 - action_move_loss: 0.2383 - action_rotate_loss: 0.2846 - action_move_acc: 0.9071 - action_rotate_acc: 0.9008 - val_loss: 0.5189 - val_action_move_loss: 0.2393 - val_action_rotate_loss: 0.2797 - val_action_move_acc: 0.9098 - val_action_rotate_acc: 0.9034\n",
      "Epoch 29/500\n",
      "60822/60822 [==============================] - 11s 188us/sample - loss: 0.5210 - action_move_loss: 0.2374 - action_rotate_loss: 0.2836 - action_move_acc: 0.9066 - action_rotate_acc: 0.9000 - val_loss: 0.5236 - val_action_move_loss: 0.2418 - val_action_rotate_loss: 0.2817 - val_action_move_acc: 0.9088 - val_action_rotate_acc: 0.9026\n",
      "Epoch 30/500\n",
      "60822/60822 [==============================] - 11s 187us/sample - loss: 0.5182 - action_move_loss: 0.2361 - action_rotate_loss: 0.2822 - action_move_acc: 0.9077 - action_rotate_acc: 0.9013 - val_loss: 0.5291 - val_action_move_loss: 0.2439 - val_action_rotate_loss: 0.2847 - val_action_move_acc: 0.9110 - val_action_rotate_acc: 0.9042\n",
      "Epoch 31/500\n",
      "60822/60822 [==============================] - 11s 186us/sample - loss: 0.5182 - action_move_loss: 0.2360 - action_rotate_loss: 0.2823 - action_move_acc: 0.9082 - action_rotate_acc: 0.9011 - val_loss: 0.5184 - val_action_move_loss: 0.2385 - val_action_rotate_loss: 0.2805 - val_action_move_acc: 0.9096 - val_action_rotate_acc: 0.9033\n",
      "Epoch 32/500\n",
      "60822/60822 [==============================] - 11s 188us/sample - loss: 0.5161 - action_move_loss: 0.2351 - action_rotate_loss: 0.2811 - action_move_acc: 0.9075 - action_rotate_acc: 0.9002 - val_loss: 0.5298 - val_action_move_loss: 0.2444 - val_action_rotate_loss: 0.2853 - val_action_move_acc: 0.9101 - val_action_rotate_acc: 0.9037\n",
      "Epoch 33/500\n",
      "60822/60822 [==============================] - 11s 187us/sample - loss: 0.5126 - action_move_loss: 0.2331 - action_rotate_loss: 0.2794 - action_move_acc: 0.9094 - action_rotate_acc: 0.9021 - val_loss: 0.5299 - val_action_move_loss: 0.2447 - val_action_rotate_loss: 0.2853 - val_action_move_acc: 0.9085 - val_action_rotate_acc: 0.9031\n",
      "Epoch 34/500\n",
      "60736/60822 [============================>.] - ETA: 0s - loss: 0.5105 - action_move_loss: 0.2324 - action_rotate_loss: 0.2781 - action_move_acc: 0.9089 - action_rotate_acc: 0.9014Restoring model weights from the end of the best epoch.\n",
      "60822/60822 [==============================] - 12s 192us/sample - loss: 0.5106 - action_move_loss: 0.2324 - action_rotate_loss: 0.2781 - action_move_acc: 0.9089 - action_rotate_acc: 0.9013 - val_loss: 0.5336 - val_action_move_loss: 0.2459 - val_action_rotate_loss: 0.2876 - val_action_move_acc: 0.9088 - val_action_rotate_acc: 0.9021\n",
      "Epoch 00034: early stopping\n"
     ]
    },
    {
     "data": {
      "image/png": "[encoded data removed]",
      "text/plain": [
       "<Figure size 432x288 with 1 Axes>"
      ]
     },
     "metadata": {
      "needs_background": "light"
     },
     "output_type": "display_data"
    }
   ],
   "source": [
    "model = train_model([8, 8, 16, 16], [16])\n",
    "model.save('model_small.hdf')"
   ]
  },
  {
   "cell_type": "code",
   "execution_count": 89,
   "metadata": {
    "ExecuteTime": {
     "end_time": "2019-07-18T18:03:48.099490Z",
     "start_time": "2019-07-18T17:56:56.039512Z"
    },
    "hidden": true
   },
   "outputs": [
    {
     "name": "stdout",
     "output_type": "stream",
     "text": [
      "Train on 60822 samples, validate on 13934 samples\n",
      "Epoch 1/500\n",
      "60822/60822 [==============================] - 16s 258us/sample - loss: 0.7841 - action_move_loss: 0.3476 - action_rotate_loss: 0.4365 - action_move_acc: 0.8720 - action_rotate_acc: 0.8496 - val_loss: 0.5872 - val_action_move_loss: 0.2740 - val_action_rotate_loss: 0.3131 - val_action_move_acc: 0.8983 - val_action_rotate_acc: 0.8955\n",
      "Epoch 2/500\n",
      "60822/60822 [==============================] - 16s 256us/sample - loss: 0.6258 - action_move_loss: 0.2873 - action_rotate_loss: 0.3385 - action_move_acc: 0.8927 - action_rotate_acc: 0.8874 - val_loss: 0.5452 - val_action_move_loss: 0.2500 - val_action_rotate_loss: 0.2949 - val_action_move_acc: 0.9071 - val_action_rotate_acc: 0.9006\n",
      "Epoch 3/500\n",
      "60822/60822 [==============================] - 16s 256us/sample - loss: 0.6022 - action_move_loss: 0.2758 - action_rotate_loss: 0.3264 - action_move_acc: 0.8952 - action_rotate_acc: 0.8889 - val_loss: 0.5459 - val_action_move_loss: 0.2522 - val_action_rotate_loss: 0.2935 - val_action_move_acc: 0.9065 - val_action_rotate_acc: 0.9013\n",
      "Epoch 4/500\n",
      "60822/60822 [==============================] - 16s 260us/sample - loss: 0.5907 - action_move_loss: 0.2703 - action_rotate_loss: 0.3204 - action_move_acc: 0.8975 - action_rotate_acc: 0.8901 - val_loss: 0.5326 - val_action_move_loss: 0.2454 - val_action_rotate_loss: 0.2875 - val_action_move_acc: 0.9086 - val_action_rotate_acc: 0.9010\n",
      "Epoch 5/500\n",
      "60822/60822 [==============================] - 15s 249us/sample - loss: 0.5817 - action_move_loss: 0.2660 - action_rotate_loss: 0.3157 - action_move_acc: 0.8984 - action_rotate_acc: 0.8917 - val_loss: 0.5112 - val_action_move_loss: 0.2347 - val_action_rotate_loss: 0.2760 - val_action_move_acc: 0.9114 - val_action_rotate_acc: 0.9030\n",
      "Epoch 6/500\n",
      "60822/60822 [==============================] - 15s 244us/sample - loss: 0.5726 - action_move_loss: 0.2610 - action_rotate_loss: 0.3117 - action_move_acc: 0.8993 - action_rotate_acc: 0.8924 - val_loss: 0.5117 - val_action_move_loss: 0.2343 - val_action_rotate_loss: 0.2780 - val_action_move_acc: 0.9129 - val_action_rotate_acc: 0.9033\n",
      "Epoch 7/500\n",
      "60822/60822 [==============================] - 15s 244us/sample - loss: 0.5635 - action_move_loss: 0.2567 - action_rotate_loss: 0.3068 - action_move_acc: 0.9011 - action_rotate_acc: 0.8935 - val_loss: 0.5051 - val_action_move_loss: 0.2317 - val_action_rotate_loss: 0.2730 - val_action_move_acc: 0.9110 - val_action_rotate_acc: 0.9039\n",
      "Epoch 8/500\n",
      "60822/60822 [==============================] - 15s 240us/sample - loss: 0.5552 - action_move_loss: 0.2529 - action_rotate_loss: 0.3023 - action_move_acc: 0.9025 - action_rotate_acc: 0.8955 - val_loss: 0.5185 - val_action_move_loss: 0.2384 - val_action_rotate_loss: 0.2800 - val_action_move_acc: 0.9085 - val_action_rotate_acc: 0.9014\n",
      "Epoch 9/500\n",
      "60822/60822 [==============================] - 15s 240us/sample - loss: 0.5512 - action_move_loss: 0.2508 - action_rotate_loss: 0.3003 - action_move_acc: 0.9024 - action_rotate_acc: 0.8948 - val_loss: 0.5161 - val_action_move_loss: 0.2382 - val_action_rotate_loss: 0.2784 - val_action_move_acc: 0.9112 - val_action_rotate_acc: 0.9042\n",
      "Epoch 10/500\n",
      "60822/60822 [==============================] - 15s 241us/sample - loss: 0.5446 - action_move_loss: 0.2479 - action_rotate_loss: 0.2966 - action_move_acc: 0.9034 - action_rotate_acc: 0.8965 - val_loss: 0.5136 - val_action_move_loss: 0.2370 - val_action_rotate_loss: 0.2764 - val_action_move_acc: 0.9093 - val_action_rotate_acc: 0.9037\n",
      "Epoch 11/500\n",
      "60822/60822 [==============================] - 15s 240us/sample - loss: 0.5390 - action_move_loss: 0.2450 - action_rotate_loss: 0.2940 - action_move_acc: 0.9043 - action_rotate_acc: 0.8972 - val_loss: 0.5083 - val_action_move_loss: 0.2343 - val_action_rotate_loss: 0.2742 - val_action_move_acc: 0.9109 - val_action_rotate_acc: 0.9046\n",
      "Epoch 12/500\n",
      "60822/60822 [==============================] - 15s 243us/sample - loss: 0.5337 - action_move_loss: 0.2425 - action_rotate_loss: 0.2911 - action_move_acc: 0.9039 - action_rotate_acc: 0.8972 - val_loss: 0.5124 - val_action_move_loss: 0.2358 - val_action_rotate_loss: 0.2768 - val_action_move_acc: 0.9096 - val_action_rotate_acc: 0.9029\n",
      "Epoch 13/500\n",
      "60822/60822 [==============================] - 15s 247us/sample - loss: 0.5282 - action_move_loss: 0.2403 - action_rotate_loss: 0.2879 - action_move_acc: 0.9054 - action_rotate_acc: 0.8978 - val_loss: 0.5188 - val_action_move_loss: 0.2398 - val_action_rotate_loss: 0.2804 - val_action_move_acc: 0.9093 - val_action_rotate_acc: 0.9040\n",
      "Epoch 14/500\n",
      "60822/60822 [==============================] - 15s 246us/sample - loss: 0.5240 - action_move_loss: 0.2380 - action_rotate_loss: 0.2860 - action_move_acc: 0.9058 - action_rotate_acc: 0.8987 - val_loss: 0.5137 - val_action_move_loss: 0.2369 - val_action_rotate_loss: 0.2764 - val_action_move_acc: 0.9098 - val_action_rotate_acc: 0.9048\n",
      "Epoch 15/500\n",
      "60822/60822 [==============================] - 15s 245us/sample - loss: 0.5200 - action_move_loss: 0.2362 - action_rotate_loss: 0.2839 - action_move_acc: 0.9069 - action_rotate_acc: 0.8996 - val_loss: 0.5202 - val_action_move_loss: 0.2407 - val_action_rotate_loss: 0.2798 - val_action_move_acc: 0.9084 - val_action_rotate_acc: 0.9047\n",
      "Epoch 16/500\n",
      "60822/60822 [==============================] - 15s 246us/sample - loss: 0.5143 - action_move_loss: 0.2336 - action_rotate_loss: 0.2808 - action_move_acc: 0.9078 - action_rotate_acc: 0.9006 - val_loss: 0.5123 - val_action_move_loss: 0.2357 - val_action_rotate_loss: 0.2772 - val_action_move_acc: 0.9114 - val_action_rotate_acc: 0.9027\n",
      "Epoch 17/500\n",
      "60822/60822 [==============================] - 15s 244us/sample - loss: 0.5082 - action_move_loss: 0.2308 - action_rotate_loss: 0.2774 - action_move_acc: 0.9087 - action_rotate_acc: 0.9015 - val_loss: 0.5158 - val_action_move_loss: 0.2375 - val_action_rotate_loss: 0.2781 - val_action_move_acc: 0.9120 - val_action_rotate_acc: 0.9053\n",
      "Epoch 18/500\n",
      "60822/60822 [==============================] - 15s 251us/sample - loss: 0.5051 - action_move_loss: 0.2291 - action_rotate_loss: 0.2760 - action_move_acc: 0.9084 - action_rotate_acc: 0.9015 - val_loss: 0.5163 - val_action_move_loss: 0.2383 - val_action_rotate_loss: 0.2778 - val_action_move_acc: 0.9092 - val_action_rotate_acc: 0.9027\n",
      "Epoch 19/500\n",
      "60822/60822 [==============================] - 16s 266us/sample - loss: 0.4991 - action_move_loss: 0.2264 - action_rotate_loss: 0.2729 - action_move_acc: 0.9102 - action_rotate_acc: 0.9028 - val_loss: 0.5406 - val_action_move_loss: 0.2508 - val_action_rotate_loss: 0.2900 - val_action_move_acc: 0.9061 - val_action_rotate_acc: 0.9021\n",
      "Epoch 20/500\n",
      "60822/60822 [==============================] - 15s 253us/sample - loss: 0.4931 - action_move_loss: 0.2235 - action_rotate_loss: 0.2697 - action_move_acc: 0.9111 - action_rotate_acc: 0.9039 - val_loss: 0.5412 - val_action_move_loss: 0.2515 - val_action_rotate_loss: 0.2894 - val_action_move_acc: 0.9040 - val_action_rotate_acc: 0.8990\n",
      "Epoch 21/500\n",
      "60822/60822 [==============================] - 16s 256us/sample - loss: 0.4885 - action_move_loss: 0.2212 - action_rotate_loss: 0.2673 - action_move_acc: 0.9113 - action_rotate_acc: 0.9045 - val_loss: 0.5290 - val_action_move_loss: 0.2450 - val_action_rotate_loss: 0.2835 - val_action_move_acc: 0.9069 - val_action_rotate_acc: 0.9032\n",
      "Epoch 22/500\n",
      "60822/60822 [==============================] - 15s 240us/sample - loss: 0.4846 - action_move_loss: 0.2193 - action_rotate_loss: 0.2652 - action_move_acc: 0.9114 - action_rotate_acc: 0.9047 - val_loss: 0.5350 - val_action_move_loss: 0.2469 - val_action_rotate_loss: 0.2878 - val_action_move_acc: 0.9068 - val_action_rotate_acc: 0.9013\n",
      "Epoch 23/500\n",
      "60822/60822 [==============================] - 15s 245us/sample - loss: 0.4767 - action_move_loss: 0.2156 - action_rotate_loss: 0.2611 - action_move_acc: 0.9138 - action_rotate_acc: 0.9067 - val_loss: 0.5592 - val_action_move_loss: 0.2588 - val_action_rotate_loss: 0.3014 - val_action_move_acc: 0.9033 - val_action_rotate_acc: 0.8963\n",
      "Epoch 24/500\n",
      "60822/60822 [==============================] - 15s 247us/sample - loss: 0.4748 - action_move_loss: 0.2147 - action_rotate_loss: 0.2600 - action_move_acc: 0.9139 - action_rotate_acc: 0.9069 - val_loss: 0.5498 - val_action_move_loss: 0.2551 - val_action_rotate_loss: 0.2947 - val_action_move_acc: 0.9032 - val_action_rotate_acc: 0.8977\n",
      "Epoch 25/500\n",
      "60822/60822 [==============================] - 15s 247us/sample - loss: 0.4673 - action_move_loss: 0.2108 - action_rotate_loss: 0.2564 - action_move_acc: 0.9153 - action_rotate_acc: 0.9086 - val_loss: 0.5441 - val_action_move_loss: 0.2516 - val_action_rotate_loss: 0.2921 - val_action_move_acc: 0.9088 - val_action_rotate_acc: 0.9029\n",
      "Epoch 26/500\n",
      "60822/60822 [==============================] - 17s 277us/sample - loss: 0.4622 - action_move_loss: 0.2086 - action_rotate_loss: 0.2536 - action_move_acc: 0.9163 - action_rotate_acc: 0.9094 - val_loss: 0.5598 - val_action_move_loss: 0.2583 - val_action_rotate_loss: 0.3020 - val_action_move_acc: 0.9053 - val_action_rotate_acc: 0.8992\n",
      "Epoch 27/500\n",
      "60672/60822 [============================>.] - ETA: 0s - loss: 0.4588 - action_move_loss: 0.2070 - action_rotate_loss: 0.2518 - action_move_acc: 0.9171 - action_rotate_acc: 0.9101Restoring model weights from the end of the best epoch.\n",
      "60822/60822 [==============================] - 16s 262us/sample - loss: 0.4588 - action_move_loss: 0.2070 - action_rotate_loss: 0.2518 - action_move_acc: 0.9172 - action_rotate_acc: 0.9102 - val_loss: 0.5672 - val_action_move_loss: 0.2627 - val_action_rotate_loss: 0.3050 - val_action_move_acc: 0.9023 - val_action_rotate_acc: 0.8965\n",
      "Epoch 00027: early stopping\n"
     ]
    },
    {
     "data": {
      "image/png": "[encoded data removed]",
      "text/plain": [
       "<Figure size 432x288 with 1 Axes>"
      ]
     },
     "metadata": {
      "needs_background": "light"
     },
     "output_type": "display_data"
    }
   ],
   "source": [
    "model = train_model([16, 16, 32, 32], [16, 16])\n",
    "model.save('model_medium.hdf')"
   ]
  },
  {
   "cell_type": "code",
   "execution_count": 90,
   "metadata": {
    "ExecuteTime": {
     "end_time": "2019-07-18T18:10:42.386370Z",
     "start_time": "2019-07-18T18:03:48.124329Z"
    },
    "hidden": true
   },
   "outputs": [
    {
     "name": "stdout",
     "output_type": "stream",
     "text": [
      "Train on 60822 samples, validate on 13934 samples\n",
      "Epoch 1/500\n",
      "60822/60822 [==============================] - 17s 287us/sample - loss: 0.7275 - action_move_loss: 0.3164 - action_rotate_loss: 0.4110 - action_move_acc: 0.8826 - action_rotate_acc: 0.8640 - val_loss: 0.5755 - val_action_move_loss: 0.2642 - val_action_rotate_loss: 0.3107 - val_action_move_acc: 0.9046 - val_action_rotate_acc: 0.8981\n",
      "Epoch 2/500\n",
      "60822/60822 [==============================] - 16s 260us/sample - loss: 0.6099 - action_move_loss: 0.2783 - action_rotate_loss: 0.3316 - action_move_acc: 0.8949 - action_rotate_acc: 0.8878 - val_loss: 0.5414 - val_action_move_loss: 0.2482 - val_action_rotate_loss: 0.2931 - val_action_move_acc: 0.9079 - val_action_rotate_acc: 0.8992\n",
      "Epoch 3/500\n",
      "60822/60822 [==============================] - 16s 258us/sample - loss: 0.5924 - action_move_loss: 0.2701 - action_rotate_loss: 0.3224 - action_move_acc: 0.8979 - action_rotate_acc: 0.8904 - val_loss: 0.5412 - val_action_move_loss: 0.2483 - val_action_rotate_loss: 0.2926 - val_action_move_acc: 0.9065 - val_action_rotate_acc: 0.8996\n",
      "Epoch 4/500\n",
      "60822/60822 [==============================] - 16s 257us/sample - loss: 0.5815 - action_move_loss: 0.2649 - action_rotate_loss: 0.3166 - action_move_acc: 0.8987 - action_rotate_acc: 0.8912 - val_loss: 0.5132 - val_action_move_loss: 0.2352 - val_action_rotate_loss: 0.2775 - val_action_move_acc: 0.9123 - val_action_rotate_acc: 0.9035\n",
      "Epoch 5/500\n",
      "60822/60822 [==============================] - 16s 257us/sample - loss: 0.5715 - action_move_loss: 0.2600 - action_rotate_loss: 0.3114 - action_move_acc: 0.9008 - action_rotate_acc: 0.8932 - val_loss: 0.5062 - val_action_move_loss: 0.2316 - val_action_rotate_loss: 0.2742 - val_action_move_acc: 0.9132 - val_action_rotate_acc: 0.9043\n",
      "Epoch 6/500\n",
      "60822/60822 [==============================] - 16s 265us/sample - loss: 0.5634 - action_move_loss: 0.2561 - action_rotate_loss: 0.3072 - action_move_acc: 0.9022 - action_rotate_acc: 0.8945 - val_loss: 0.5171 - val_action_move_loss: 0.2379 - val_action_rotate_loss: 0.2801 - val_action_move_acc: 0.9124 - val_action_rotate_acc: 0.9035\n",
      "Epoch 7/500\n",
      "60822/60822 [==============================] - 16s 260us/sample - loss: 0.5594 - action_move_loss: 0.2542 - action_rotate_loss: 0.3053 - action_move_acc: 0.9023 - action_rotate_acc: 0.8942 - val_loss: 0.5049 - val_action_move_loss: 0.2312 - val_action_rotate_loss: 0.2733 - val_action_move_acc: 0.9118 - val_action_rotate_acc: 0.9051\n",
      "Epoch 8/500\n",
      "60822/60822 [==============================] - 15s 253us/sample - loss: 0.5528 - action_move_loss: 0.2514 - action_rotate_loss: 0.3014 - action_move_acc: 0.9028 - action_rotate_acc: 0.8954 - val_loss: 0.5108 - val_action_move_loss: 0.2356 - val_action_rotate_loss: 0.2749 - val_action_move_acc: 0.9098 - val_action_rotate_acc: 0.9043\n",
      "Epoch 9/500\n",
      "60822/60822 [==============================] - 15s 249us/sample - loss: 0.5483 - action_move_loss: 0.2493 - action_rotate_loss: 0.2989 - action_move_acc: 0.9036 - action_rotate_acc: 0.8962 - val_loss: 0.5095 - val_action_move_loss: 0.2336 - val_action_rotate_loss: 0.2764 - val_action_move_acc: 0.9102 - val_action_rotate_acc: 0.9021\n",
      "Epoch 10/500\n",
      "60822/60822 [==============================] - 15s 245us/sample - loss: 0.5443 - action_move_loss: 0.2477 - action_rotate_loss: 0.2967 - action_move_acc: 0.9051 - action_rotate_acc: 0.8978 - val_loss: 0.5135 - val_action_move_loss: 0.2366 - val_action_rotate_loss: 0.2765 - val_action_move_acc: 0.9111 - val_action_rotate_acc: 0.9048\n",
      "Epoch 11/500\n",
      "60822/60822 [==============================] - 15s 247us/sample - loss: 0.5377 - action_move_loss: 0.2445 - action_rotate_loss: 0.2932 - action_move_acc: 0.9053 - action_rotate_acc: 0.8976 - val_loss: 0.5067 - val_action_move_loss: 0.2337 - val_action_rotate_loss: 0.2733 - val_action_move_acc: 0.9116 - val_action_rotate_acc: 0.9053\n",
      "Epoch 12/500\n",
      "60822/60822 [==============================] - 15s 247us/sample - loss: 0.5332 - action_move_loss: 0.2426 - action_rotate_loss: 0.2906 - action_move_acc: 0.9059 - action_rotate_acc: 0.8986 - val_loss: 0.5198 - val_action_move_loss: 0.2406 - val_action_rotate_loss: 0.2793 - val_action_move_acc: 0.9101 - val_action_rotate_acc: 0.9030\n",
      "Epoch 13/500\n",
      "60822/60822 [==============================] - 15s 246us/sample - loss: 0.5293 - action_move_loss: 0.2404 - action_rotate_loss: 0.2889 - action_move_acc: 0.9069 - action_rotate_acc: 0.8992 - val_loss: 0.5158 - val_action_move_loss: 0.2376 - val_action_rotate_loss: 0.2778 - val_action_move_acc: 0.9096 - val_action_rotate_acc: 0.9037\n",
      "Epoch 14/500\n",
      "60822/60822 [==============================] - 15s 247us/sample - loss: 0.5235 - action_move_loss: 0.2381 - action_rotate_loss: 0.2854 - action_move_acc: 0.9070 - action_rotate_acc: 0.8999 - val_loss: 0.5168 - val_action_move_loss: 0.2390 - val_action_rotate_loss: 0.2778 - val_action_move_acc: 0.9124 - val_action_rotate_acc: 0.9067\n",
      "Epoch 15/500\n",
      "60822/60822 [==============================] - 15s 245us/sample - loss: 0.5186 - action_move_loss: 0.2361 - action_rotate_loss: 0.2825 - action_move_acc: 0.9076 - action_rotate_acc: 0.9003 - val_loss: 0.5135 - val_action_move_loss: 0.2376 - val_action_rotate_loss: 0.2755 - val_action_move_acc: 0.9109 - val_action_rotate_acc: 0.9047\n",
      "Epoch 16/500\n",
      "60822/60822 [==============================] - 15s 245us/sample - loss: 0.5153 - action_move_loss: 0.2343 - action_rotate_loss: 0.2811 - action_move_acc: 0.9087 - action_rotate_acc: 0.9014 - val_loss: 0.5186 - val_action_move_loss: 0.2397 - val_action_rotate_loss: 0.2794 - val_action_move_acc: 0.9119 - val_action_rotate_acc: 0.9053\n",
      "Epoch 17/500\n",
      "60822/60822 [==============================] - 15s 245us/sample - loss: 0.5089 - action_move_loss: 0.2312 - action_rotate_loss: 0.2777 - action_move_acc: 0.9091 - action_rotate_acc: 0.9016 - val_loss: 0.5158 - val_action_move_loss: 0.2383 - val_action_rotate_loss: 0.2779 - val_action_move_acc: 0.9117 - val_action_rotate_acc: 0.9060\n",
      "Epoch 18/500\n",
      "60822/60822 [==============================] - 15s 243us/sample - loss: 0.5036 - action_move_loss: 0.2289 - action_rotate_loss: 0.2746 - action_move_acc: 0.9099 - action_rotate_acc: 0.9026 - val_loss: 0.5444 - val_action_move_loss: 0.2533 - val_action_rotate_loss: 0.2909 - val_action_move_acc: 0.9110 - val_action_rotate_acc: 0.9056\n",
      "Epoch 19/500\n",
      "60822/60822 [==============================] - 15s 244us/sample - loss: 0.4985 - action_move_loss: 0.2264 - action_rotate_loss: 0.2721 - action_move_acc: 0.9106 - action_rotate_acc: 0.9038 - val_loss: 0.5266 - val_action_move_loss: 0.2441 - val_action_rotate_loss: 0.2825 - val_action_move_acc: 0.9098 - val_action_rotate_acc: 0.9041\n",
      "Epoch 20/500\n",
      "60822/60822 [==============================] - 15s 245us/sample - loss: 0.4930 - action_move_loss: 0.2240 - action_rotate_loss: 0.2691 - action_move_acc: 0.9112 - action_rotate_acc: 0.9037 - val_loss: 0.5361 - val_action_move_loss: 0.2481 - val_action_rotate_loss: 0.2885 - val_action_move_acc: 0.9124 - val_action_rotate_acc: 0.9049\n",
      "Epoch 21/500\n",
      "60822/60822 [==============================] - 15s 244us/sample - loss: 0.4872 - action_move_loss: 0.2212 - action_rotate_loss: 0.2659 - action_move_acc: 0.9124 - action_rotate_acc: 0.9046 - val_loss: 0.5541 - val_action_move_loss: 0.2594 - val_action_rotate_loss: 0.2945 - val_action_move_acc: 0.9100 - val_action_rotate_acc: 0.9040\n",
      "Epoch 22/500\n",
      "60822/60822 [==============================] - 15s 246us/sample - loss: 0.4805 - action_move_loss: 0.2179 - action_rotate_loss: 0.2626 - action_move_acc: 0.9131 - action_rotate_acc: 0.9066 - val_loss: 0.5841 - val_action_move_loss: 0.2739 - val_action_rotate_loss: 0.3102 - val_action_move_acc: 0.9078 - val_action_rotate_acc: 0.9018\n",
      "Epoch 23/500\n",
      "60822/60822 [==============================] - 15s 252us/sample - loss: 0.4766 - action_move_loss: 0.2160 - action_rotate_loss: 0.2606 - action_move_acc: 0.9133 - action_rotate_acc: 0.9068 - val_loss: 0.5591 - val_action_move_loss: 0.2608 - val_action_rotate_loss: 0.2983 - val_action_move_acc: 0.9083 - val_action_rotate_acc: 0.9026\n",
      "Epoch 24/500\n",
      "60822/60822 [==============================] - 15s 252us/sample - loss: 0.4694 - action_move_loss: 0.2129 - action_rotate_loss: 0.2567 - action_move_acc: 0.9147 - action_rotate_acc: 0.9078 - val_loss: 0.5628 - val_action_move_loss: 0.2611 - val_action_rotate_loss: 0.3012 - val_action_move_acc: 0.9063 - val_action_rotate_acc: 0.9003\n",
      "Epoch 25/500\n",
      "60822/60822 [==============================] - 15s 244us/sample - loss: 0.4635 - action_move_loss: 0.2099 - action_rotate_loss: 0.2536 - action_move_acc: 0.9161 - action_rotate_acc: 0.9089 - val_loss: 0.5692 - val_action_move_loss: 0.2653 - val_action_rotate_loss: 0.3035 - val_action_move_acc: 0.9075 - val_action_rotate_acc: 0.9031\n",
      "Epoch 26/500\n",
      "60822/60822 [==============================] - 15s 246us/sample - loss: 0.4576 - action_move_loss: 0.2072 - action_rotate_loss: 0.2504 - action_move_acc: 0.9177 - action_rotate_acc: 0.9102 - val_loss: 0.5952 - val_action_move_loss: 0.2800 - val_action_rotate_loss: 0.3146 - val_action_move_acc: 0.9051 - val_action_rotate_acc: 0.8995\n",
      "Epoch 27/500\n",
      "60768/60822 [============================>.] - ETA: 0s - loss: 0.4530 - action_move_loss: 0.2051 - action_rotate_loss: 0.2478 - action_move_acc: 0.9173 - action_rotate_acc: 0.9104Restoring model weights from the end of the best epoch.\n",
      "60822/60822 [==============================] - 15s 247us/sample - loss: 0.4529 - action_move_loss: 0.2051 - action_rotate_loss: 0.2477 - action_move_acc: 0.9173 - action_rotate_acc: 0.9104 - val_loss: 0.5918 - val_action_move_loss: 0.2783 - val_action_rotate_loss: 0.3133 - val_action_move_acc: 0.9079 - val_action_rotate_acc: 0.9012\n",
      "Epoch 00027: early stopping\n"
     ]
    },
    {
     "data": {
      "image/png": "[encoded data removed]",
      "text/plain": [
       "<Figure size 432x288 with 1 Axes>"
      ]
     },
     "metadata": {
      "needs_background": "light"
     },
     "output_type": "display_data"
    }
   ],
   "source": [
    "model = train_model([16, 32, 64, 32], [16, 32])\n",
    "model.save('model_other.hdf')"
   ]
  },
  {
   "cell_type": "code",
   "execution_count": 91,
   "metadata": {
    "ExecuteTime": {
     "end_time": "2019-07-18T18:18:48.574757Z",
     "start_time": "2019-07-18T18:10:42.416779Z"
    },
    "hidden": true
   },
   "outputs": [
    {
     "name": "stdout",
     "output_type": "stream",
     "text": [
      "Train on 60822 samples, validate on 13934 samples\n",
      "Epoch 1/500\n",
      "60822/60822 [==============================] - 13s 213us/sample - loss: 0.8091 - action_move_loss: 0.3556 - action_rotate_loss: 0.4535 - action_move_acc: 0.8715 - action_rotate_acc: 0.8480 - val_loss: 0.6317 - val_action_move_loss: 0.3003 - val_action_rotate_loss: 0.3319 - val_action_move_acc: 0.8898 - val_action_rotate_acc: 0.8877\n",
      "Epoch 2/500\n",
      "60822/60822 [==============================] - 12s 204us/sample - loss: 0.6770 - action_move_loss: 0.3175 - action_rotate_loss: 0.3596 - action_move_acc: 0.8817 - action_rotate_acc: 0.8808 - val_loss: 0.6026 - val_action_move_loss: 0.2840 - val_action_rotate_loss: 0.3181 - val_action_move_acc: 0.8941 - val_action_rotate_acc: 0.8885\n",
      "Epoch 3/500\n",
      "60822/60822 [==============================] - 12s 204us/sample - loss: 0.6616 - action_move_loss: 0.3102 - action_rotate_loss: 0.3516 - action_move_acc: 0.8821 - action_rotate_acc: 0.8833 - val_loss: 0.5930 - val_action_move_loss: 0.2778 - val_action_rotate_loss: 0.3152 - val_action_move_acc: 0.8929 - val_action_rotate_acc: 0.8898\n",
      "Epoch 4/500\n",
      "60822/60822 [==============================] - 12s 203us/sample - loss: 0.6541 - action_move_loss: 0.3065 - action_rotate_loss: 0.3477 - action_move_acc: 0.8825 - action_rotate_acc: 0.8847 - val_loss: 0.5753 - val_action_move_loss: 0.2714 - val_action_rotate_loss: 0.3035 - val_action_move_acc: 0.8979 - val_action_rotate_acc: 0.8995\n",
      "Epoch 5/500\n",
      "60822/60822 [==============================] - 12s 203us/sample - loss: 0.6439 - action_move_loss: 0.3019 - action_rotate_loss: 0.3421 - action_move_acc: 0.8826 - action_rotate_acc: 0.8853 - val_loss: 0.5796 - val_action_move_loss: 0.2749 - val_action_rotate_loss: 0.3062 - val_action_move_acc: 0.8982 - val_action_rotate_acc: 0.8972\n",
      "Epoch 6/500\n",
      "60822/60822 [==============================] - 12s 204us/sample - loss: 0.6375 - action_move_loss: 0.2995 - action_rotate_loss: 0.3379 - action_move_acc: 0.8832 - action_rotate_acc: 0.8871 - val_loss: 0.5721 - val_action_move_loss: 0.2711 - val_action_rotate_loss: 0.3006 - val_action_move_acc: 0.9029 - val_action_rotate_acc: 0.9014\n",
      "Epoch 7/500\n",
      "60822/60822 [==============================] - 12s 203us/sample - loss: 0.6173 - action_move_loss: 0.2882 - action_rotate_loss: 0.3291 - action_move_acc: 0.8879 - action_rotate_acc: 0.8896 - val_loss: 0.5588 - val_action_move_loss: 0.2645 - val_action_rotate_loss: 0.2939 - val_action_move_acc: 0.9025 - val_action_rotate_acc: 0.9011\n",
      "Epoch 8/500\n",
      "60822/60822 [==============================] - 12s 203us/sample - loss: 0.6026 - action_move_loss: 0.2797 - action_rotate_loss: 0.3229 - action_move_acc: 0.8903 - action_rotate_acc: 0.8900 - val_loss: 0.5323 - val_action_move_loss: 0.2453 - val_action_rotate_loss: 0.2867 - val_action_move_acc: 0.9066 - val_action_rotate_acc: 0.9012\n",
      "Epoch 9/500\n",
      "60822/60822 [==============================] - 12s 205us/sample - loss: 0.5911 - action_move_loss: 0.2715 - action_rotate_loss: 0.3195 - action_move_acc: 0.8953 - action_rotate_acc: 0.8908 - val_loss: 0.5304 - val_action_move_loss: 0.2467 - val_action_rotate_loss: 0.2851 - val_action_move_acc: 0.9081 - val_action_rotate_acc: 0.9020\n",
      "Epoch 10/500\n",
      "60822/60822 [==============================] - 12s 205us/sample - loss: 0.5828 - action_move_loss: 0.2665 - action_rotate_loss: 0.3163 - action_move_acc: 0.8977 - action_rotate_acc: 0.8914 - val_loss: 0.5246 - val_action_move_loss: 0.2415 - val_action_rotate_loss: 0.2827 - val_action_move_acc: 0.9096 - val_action_rotate_acc: 0.9030\n",
      "Epoch 11/500\n",
      "60822/60822 [==============================] - 12s 205us/sample - loss: 0.5794 - action_move_loss: 0.2646 - action_rotate_loss: 0.3148 - action_move_acc: 0.8986 - action_rotate_acc: 0.8925 - val_loss: 0.5406 - val_action_move_loss: 0.2490 - val_action_rotate_loss: 0.2918 - val_action_move_acc: 0.9086 - val_action_rotate_acc: 0.8969\n",
      "Epoch 12/500\n",
      "60822/60822 [==============================] - 12s 203us/sample - loss: 0.5734 - action_move_loss: 0.2615 - action_rotate_loss: 0.3119 - action_move_acc: 0.9002 - action_rotate_acc: 0.8930 - val_loss: 0.5191 - val_action_move_loss: 0.2388 - val_action_rotate_loss: 0.2804 - val_action_move_acc: 0.9102 - val_action_rotate_acc: 0.9030\n",
      "Epoch 13/500\n",
      "60822/60822 [==============================] - 13s 207us/sample - loss: 0.5703 - action_move_loss: 0.2600 - action_rotate_loss: 0.3103 - action_move_acc: 0.9003 - action_rotate_acc: 0.8933 - val_loss: 0.5172 - val_action_move_loss: 0.2381 - val_action_rotate_loss: 0.2797 - val_action_move_acc: 0.9106 - val_action_rotate_acc: 0.9038\n",
      "Epoch 14/500\n",
      "60822/60822 [==============================] - 12s 205us/sample - loss: 0.5659 - action_move_loss: 0.2581 - action_rotate_loss: 0.3077 - action_move_acc: 0.9014 - action_rotate_acc: 0.8938 - val_loss: 0.5150 - val_action_move_loss: 0.2372 - val_action_rotate_loss: 0.2792 - val_action_move_acc: 0.9117 - val_action_rotate_acc: 0.9041\n",
      "Epoch 15/500\n",
      "60822/60822 [==============================] - 12s 201us/sample - loss: 0.5616 - action_move_loss: 0.2559 - action_rotate_loss: 0.3057 - action_move_acc: 0.9017 - action_rotate_acc: 0.8941 - val_loss: 0.5222 - val_action_move_loss: 0.2404 - val_action_rotate_loss: 0.2814 - val_action_move_acc: 0.9114 - val_action_rotate_acc: 0.9043\n",
      "Epoch 16/500\n",
      "60822/60822 [==============================] - 12s 203us/sample - loss: 0.5598 - action_move_loss: 0.2551 - action_rotate_loss: 0.3047 - action_move_acc: 0.9032 - action_rotate_acc: 0.8952 - val_loss: 0.5190 - val_action_move_loss: 0.2376 - val_action_rotate_loss: 0.2816 - val_action_move_acc: 0.9119 - val_action_rotate_acc: 0.9041\n",
      "Epoch 17/500\n",
      "60822/60822 [==============================] - 12s 203us/sample - loss: 0.5547 - action_move_loss: 0.2525 - action_rotate_loss: 0.3021 - action_move_acc: 0.9038 - action_rotate_acc: 0.8953 - val_loss: 0.5180 - val_action_move_loss: 0.2391 - val_action_rotate_loss: 0.2796 - val_action_move_acc: 0.9127 - val_action_rotate_acc: 0.9036\n",
      "Epoch 18/500\n",
      "60822/60822 [==============================] - 13s 206us/sample - loss: 0.5521 - action_move_loss: 0.2516 - action_rotate_loss: 0.3005 - action_move_acc: 0.9037 - action_rotate_acc: 0.8969 - val_loss: 0.5271 - val_action_move_loss: 0.2421 - val_action_rotate_loss: 0.2851 - val_action_move_acc: 0.9109 - val_action_rotate_acc: 0.9040\n",
      "Epoch 19/500\n",
      "60822/60822 [==============================] - 12s 204us/sample - loss: 0.5500 - action_move_loss: 0.2506 - action_rotate_loss: 0.2993 - action_move_acc: 0.9045 - action_rotate_acc: 0.8970 - val_loss: 0.5136 - val_action_move_loss: 0.2355 - val_action_rotate_loss: 0.2776 - val_action_move_acc: 0.9119 - val_action_rotate_acc: 0.9068\n",
      "Epoch 20/500\n",
      "60822/60822 [==============================] - 12s 204us/sample - loss: 0.5458 - action_move_loss: 0.2485 - action_rotate_loss: 0.2973 - action_move_acc: 0.9047 - action_rotate_acc: 0.8975 - val_loss: 0.5232 - val_action_move_loss: 0.2411 - val_action_rotate_loss: 0.2823 - val_action_move_acc: 0.9102 - val_action_rotate_acc: 0.9046\n",
      "Epoch 21/500\n",
      "60822/60822 [==============================] - 12s 204us/sample - loss: 0.5441 - action_move_loss: 0.2478 - action_rotate_loss: 0.2963 - action_move_acc: 0.9048 - action_rotate_acc: 0.8968 - val_loss: 0.5260 - val_action_move_loss: 0.2417 - val_action_rotate_loss: 0.2838 - val_action_move_acc: 0.9104 - val_action_rotate_acc: 0.9038\n",
      "Epoch 22/500\n",
      "60822/60822 [==============================] - 12s 204us/sample - loss: 0.5396 - action_move_loss: 0.2457 - action_rotate_loss: 0.2939 - action_move_acc: 0.9058 - action_rotate_acc: 0.8985 - val_loss: 0.5198 - val_action_move_loss: 0.2385 - val_action_rotate_loss: 0.2811 - val_action_move_acc: 0.9116 - val_action_rotate_acc: 0.9033\n",
      "Epoch 23/500\n",
      "60822/60822 [==============================] - 13s 208us/sample - loss: 0.5386 - action_move_loss: 0.2453 - action_rotate_loss: 0.2933 - action_move_acc: 0.9057 - action_rotate_acc: 0.8976 - val_loss: 0.5248 - val_action_move_loss: 0.2411 - val_action_rotate_loss: 0.2834 - val_action_move_acc: 0.9116 - val_action_rotate_acc: 0.9045\n",
      "Epoch 24/500\n",
      "60822/60822 [==============================] - 12s 204us/sample - loss: 0.5350 - action_move_loss: 0.2438 - action_rotate_loss: 0.2913 - action_move_acc: 0.9066 - action_rotate_acc: 0.8990 - val_loss: 0.5239 - val_action_move_loss: 0.2408 - val_action_rotate_loss: 0.2829 - val_action_move_acc: 0.9104 - val_action_rotate_acc: 0.9038\n",
      "Epoch 25/500\n",
      "60822/60822 [==============================] - 12s 203us/sample - loss: 0.5336 - action_move_loss: 0.2430 - action_rotate_loss: 0.2907 - action_move_acc: 0.9068 - action_rotate_acc: 0.8991 - val_loss: 0.5244 - val_action_move_loss: 0.2408 - val_action_rotate_loss: 0.2843 - val_action_move_acc: 0.9086 - val_action_rotate_acc: 0.9008\n",
      "Epoch 26/500\n",
      "60822/60822 [==============================] - 12s 204us/sample - loss: 0.5325 - action_move_loss: 0.2424 - action_rotate_loss: 0.2901 - action_move_acc: 0.9068 - action_rotate_acc: 0.8993 - val_loss: 0.5281 - val_action_move_loss: 0.2406 - val_action_rotate_loss: 0.2875 - val_action_move_acc: 0.9083 - val_action_rotate_acc: 0.8995\n",
      "Epoch 27/500\n",
      "60822/60822 [==============================] - 12s 205us/sample - loss: 0.5300 - action_move_loss: 0.2414 - action_rotate_loss: 0.2886 - action_move_acc: 0.9071 - action_rotate_acc: 0.8995 - val_loss: 0.5328 - val_action_move_loss: 0.2456 - val_action_rotate_loss: 0.2874 - val_action_move_acc: 0.9084 - val_action_rotate_acc: 0.9030\n",
      "Epoch 28/500\n",
      "60822/60822 [==============================] - 12s 204us/sample - loss: 0.5275 - action_move_loss: 0.2402 - action_rotate_loss: 0.2873 - action_move_acc: 0.9075 - action_rotate_acc: 0.9006 - val_loss: 0.5296 - val_action_move_loss: 0.2435 - val_action_rotate_loss: 0.2857 - val_action_move_acc: 0.9107 - val_action_rotate_acc: 0.9036\n",
      "Epoch 29/500\n",
      "60822/60822 [==============================] - 12s 203us/sample - loss: 0.5251 - action_move_loss: 0.2392 - action_rotate_loss: 0.2859 - action_move_acc: 0.9078 - action_rotate_acc: 0.9004 - val_loss: 0.5399 - val_action_move_loss: 0.2495 - val_action_rotate_loss: 0.2900 - val_action_move_acc: 0.9090 - val_action_rotate_acc: 0.9020\n",
      "Epoch 30/500\n",
      "60822/60822 [==============================] - 12s 204us/sample - loss: 0.5231 - action_move_loss: 0.2384 - action_rotate_loss: 0.2848 - action_move_acc: 0.9079 - action_rotate_acc: 0.9011 - val_loss: 0.5327 - val_action_move_loss: 0.2461 - val_action_rotate_loss: 0.2872 - val_action_move_acc: 0.9099 - val_action_rotate_acc: 0.9017\n",
      "Epoch 31/500\n",
      "60822/60822 [==============================] - 13s 210us/sample - loss: 0.5215 - action_move_loss: 0.2376 - action_rotate_loss: 0.2840 - action_move_acc: 0.9087 - action_rotate_acc: 0.9014 - val_loss: 0.5282 - val_action_move_loss: 0.2432 - val_action_rotate_loss: 0.2847 - val_action_move_acc: 0.9099 - val_action_rotate_acc: 0.9033\n",
      "Epoch 32/500\n",
      "60822/60822 [==============================] - 13s 209us/sample - loss: 0.5186 - action_move_loss: 0.2364 - action_rotate_loss: 0.2821 - action_move_acc: 0.9079 - action_rotate_acc: 0.9013 - val_loss: 0.5370 - val_action_move_loss: 0.2476 - val_action_rotate_loss: 0.2895 - val_action_move_acc: 0.9075 - val_action_rotate_acc: 0.9015\n",
      "Epoch 33/500\n",
      "60822/60822 [==============================] - 13s 207us/sample - loss: 0.5162 - action_move_loss: 0.2350 - action_rotate_loss: 0.2812 - action_move_acc: 0.9090 - action_rotate_acc: 0.9021 - val_loss: 0.5326 - val_action_move_loss: 0.2457 - val_action_rotate_loss: 0.2867 - val_action_move_acc: 0.9094 - val_action_rotate_acc: 0.9026\n",
      "Epoch 34/500\n",
      "60822/60822 [==============================] - 12s 205us/sample - loss: 0.5154 - action_move_loss: 0.2347 - action_rotate_loss: 0.2807 - action_move_acc: 0.9094 - action_rotate_acc: 0.9021 - val_loss: 0.5423 - val_action_move_loss: 0.2488 - val_action_rotate_loss: 0.2930 - val_action_move_acc: 0.9076 - val_action_rotate_acc: 0.9006\n",
      "Epoch 35/500\n",
      "60822/60822 [==============================] - 12s 204us/sample - loss: 0.5132 - action_move_loss: 0.2338 - action_rotate_loss: 0.2794 - action_move_acc: 0.9094 - action_rotate_acc: 0.9024 - val_loss: 0.5434 - val_action_move_loss: 0.2510 - val_action_rotate_loss: 0.2927 - val_action_move_acc: 0.9063 - val_action_rotate_acc: 0.8999\n",
      "Epoch 36/500\n",
      "60822/60822 [==============================] - 12s 204us/sample - loss: 0.5121 - action_move_loss: 0.2331 - action_rotate_loss: 0.2790 - action_move_acc: 0.9104 - action_rotate_acc: 0.9023 - val_loss: 0.5379 - val_action_move_loss: 0.2474 - val_action_rotate_loss: 0.2902 - val_action_move_acc: 0.9086 - val_action_rotate_acc: 0.8995\n",
      "Epoch 37/500\n",
      "60822/60822 [==============================] - 12s 195us/sample - loss: 0.5102 - action_move_loss: 0.2321 - action_rotate_loss: 0.2780 - action_move_acc: 0.9101 - action_rotate_acc: 0.9028 - val_loss: 0.5398 - val_action_move_loss: 0.2489 - val_action_rotate_loss: 0.2910 - val_action_move_acc: 0.9063 - val_action_rotate_acc: 0.9011\n",
      "Epoch 38/500\n",
      "60822/60822 [==============================] - 12s 193us/sample - loss: 0.5066 - action_move_loss: 0.2306 - action_rotate_loss: 0.2761 - action_move_acc: 0.9115 - action_rotate_acc: 0.9039 - val_loss: 0.5585 - val_action_move_loss: 0.2589 - val_action_rotate_loss: 0.2998 - val_action_move_acc: 0.9025 - val_action_rotate_acc: 0.8969\n",
      "Epoch 39/500\n",
      "60800/60822 [============================>.] - ETA: 0s - loss: 0.5058 - action_move_loss: 0.2302 - action_rotate_loss: 0.2756 - action_move_acc: 0.9101 - action_rotate_acc: 0.9031Restoring model weights from the end of the best epoch.\n",
      "60822/60822 [==============================] - 12s 196us/sample - loss: 0.5057 - action_move_loss: 0.2302 - action_rotate_loss: 0.2755 - action_move_acc: 0.9101 - action_rotate_acc: 0.9031 - val_loss: 0.5451 - val_action_move_loss: 0.2508 - val_action_rotate_loss: 0.2940 - val_action_move_acc: 0.9054 - val_action_rotate_acc: 0.8988\n",
      "Epoch 00039: early stopping\n"
     ]
    },
    {
     "data": {
      "image/png": "[encoded data removed]",
      "text/plain": [
       "<Figure size 432x288 with 1 Axes>"
      ]
     },
     "metadata": {
      "needs_background": "light"
     },
     "output_type": "display_data"
    }
   ],
   "source": [
    "model = train_model([8, 8, 16, 16], [16])\n",
    "model.save('model_small.hdf')"
   ]
  },
  {
   "cell_type": "code",
   "execution_count": 75,
   "metadata": {
    "ExecuteTime": {
     "end_time": "2019-07-18T15:28:28.174983Z",
     "start_time": "2019-07-18T15:28:28.163386Z"
    },
    "hidden": true
   },
   "outputs": [
    {
     "ename": "RuntimeError",
     "evalue": "No active exception to reraise",
     "output_type": "error",
     "traceback": [
      "\u001b[0;31m---------------------------------------------------------------------------\u001b[0m",
      "\u001b[0;31mRuntimeError\u001b[0m                              Traceback (most recent call last)",
      "\u001b[0;32m<ipython-input-75-9c9a2cba73bf>\u001b[0m in \u001b[0;36m<module>\u001b[0;34m\u001b[0m\n\u001b[0;32m----> 1\u001b[0;31m \u001b[0;32mraise\u001b[0m\u001b[0;34m\u001b[0m\u001b[0;34m\u001b[0m\u001b[0m\n\u001b[0m",
      "\u001b[0;31mRuntimeError\u001b[0m: No active exception to reraise"
     ]
    }
   ],
   "source": [
    "raise"
   ]
  },
  {
   "cell_type": "markdown",
   "metadata": {
    "hidden": true
   },
   "source": [
    "## Visualizing agent play"
   ]
  },
  {
   "cell_type": "code",
   "execution_count": 93,
   "metadata": {
    "ExecuteTime": {
     "end_time": "2019-07-18T18:38:30.311244Z",
     "start_time": "2019-07-18T18:38:28.598228Z"
    },
    "hidden": true
   },
   "outputs": [
    {
     "name": "stderr",
     "output_type": "stream",
     "text": [
      "W0718 20:38:28.613249 140162927552320 deprecation.py:506] From /home/guillermo/miniconda3/envs/animal/lib/python3.6/site-packages/tensorflow/python/ops/init_ops.py:97: calling GlorotUniform.__init__ (from tensorflow.python.ops.init_ops) with dtype is deprecated and will be removed in a future version.\n",
      "Instructions for updating:\n",
      "Call initializer instance with the dtype argument instead of passing it to the constructor\n",
      "W0718 20:38:28.614795 140162927552320 deprecation.py:506] From /home/guillermo/miniconda3/envs/animal/lib/python3.6/site-packages/tensorflow/python/ops/init_ops.py:97: calling Zeros.__init__ (from tensorflow.python.ops.init_ops) with dtype is deprecated and will be removed in a future version.\n",
      "Instructions for updating:\n",
      "Call initializer instance with the dtype argument instead of passing it to the constructor\n"
     ]
    }
   ],
   "source": [
    "model = load_model('model_medium.hdf')"
   ]
  },
  {
   "cell_type": "code",
   "execution_count": 94,
   "metadata": {
    "ExecuteTime": {
     "end_time": "2019-07-18T18:38:33.325856Z",
     "start_time": "2019-07-18T18:38:33.312861Z"
    },
    "code_folding": [],
    "hidden": true
   },
   "outputs": [],
   "source": [
    "class Agent():\n",
    "    def __init__(self, model):\n",
    "        self._n_rotations = 0\n",
    "        self.model = model\n",
    "\n",
    "    def get_action_from_model(self, info):\n",
    "        frame = info.visual_observations[0][0]\n",
    "        speed = info.vector_observations.round(2)\n",
    "        previous_action = info.previous_vector_actions[0]\n",
    "\n",
    "        model_input = {\n",
    "            'frame': np.expand_dims(frame, axis=0),\n",
    "            'speed': speed/10,\n",
    "        }\n",
    "        previous_move, previous_rotate = np.zeros(3), np.zeros(3)\n",
    "        previous_move[int(previous_action[0])] = 1\n",
    "        previous_rotate[int(previous_action[1])] = 1\n",
    "        previous_action = np.concatenate([previous_move, previous_rotate])\n",
    "        model_input['previous_action'] = np.expand_dims(previous_action, axis=0)\n",
    "        ret = self.model.predict(model_input, batch_size=1)\n",
    "        action_move = ret[self.model.output_names.index('action_move')]\n",
    "        action_rotate = ret[self.model.output_names.index('action_rotate')]\n",
    "        action = [np.argmax(action_move), np.argmax(action_rotate)]\n",
    "        if action == [0, 0]:\n",
    "            action = [1, 0]\n",
    "        if action[0] == 0:\n",
    "            self._n_rotations += 1\n",
    "        else:\n",
    "            self._n_rotations = 0\n",
    "        if self._n_rotations > 60:\n",
    "            action = [1, 0]\n",
    "        return action\n",
    "    \n",
    "    def reset(self):\n",
    "        self._n_rotations = 0"
   ]
  },
  {
   "cell_type": "code",
   "execution_count": 95,
   "metadata": {
    "ExecuteTime": {
     "end_time": "2019-07-18T18:39:09.646130Z",
     "start_time": "2019-07-18T18:38:34.821403Z"
    },
    "hidden": true
   },
   "outputs": [
    {
     "data": {
      "text/plain": [
       "-1"
      ]
     },
     "execution_count": 95,
     "metadata": {},
     "output_type": "execute_result"
    }
   ],
   "source": [
    "info = env.reset()['Learner']\n",
    "level_idx = 0\n",
    "n_steps = 0\n",
    "cv2.namedWindow('img', cv2.WINDOW_NORMAL)\n",
    "agent = Agent(model)\n",
    "\n",
    "while 1:\n",
    "    frame = info.visual_observations[0][0]\n",
    "    speed = info.vector_observations.round(2)\n",
    "    previous_action = info.previous_vector_actions[0]\n",
    "    \n",
    "    cv2.imshow('img', frame[:, :, [2, 1, 0]])\n",
    "    msg = 'Level: %i     n_steps: %i   Reward: %.2f   Speed: %s Text observations: %s' % (\n",
    "        level_idx,\n",
    "        n_steps,\n",
    "        info.rewards[0],\n",
    "        speed,\n",
    "        info.text_observations[0])\n",
    "    cv2.displayOverlay('img', msg)\n",
    "    key = cv2.waitKey(1)\n",
    "    if key == ord('o'):\n",
    "        break\n",
    "    action = agent.get_action_from_model(info)\n",
    "    \n",
    "    info = env.step(vector_action=action)['Learner']\n",
    "    n_steps += 1\n",
    "    is_level_ended = info.max_reached[0] or info.local_done[0]\n",
    "    if is_level_ended:\n",
    "        level_idx += 1\n",
    "        n_steps = 0\n",
    "        agent.reset()\n",
    "        \n",
    "cv2.destroyAllWindows()\n",
    "cv2.waitKey(1)"
   ]
  },
  {
   "cell_type": "markdown",
   "metadata": {
    "hidden": true
   },
   "source": [
    "I think that collection of goals has worsened, hopefully it will improve in other categories."
   ]
  },
  {
   "cell_type": "markdown",
   "metadata": {
    "hidden": true
   },
   "source": [
    "## Summary"
   ]
  },
  {
   "cell_type": "markdown",
   "metadata": {
    "hidden": true
   },
   "source": [
    "I have verified that I can train on mirrored games or train using both sides of the mirror. The model trained with both sides seems to be better at least on the visualizations.\n",
    "\n",
    "I have trained a new model on more levels"
   ]
  },
  {
   "cell_type": "code",
   "execution_count": null,
   "metadata": {
    "hidden": true
   },
   "outputs": [],
   "source": []
  }
 ],
 "metadata": {
  "hide_input": false,
  "kernelspec": {
   "display_name": "Python (animal)",
   "language": "python",
   "name": "animal"
  },
  "language_info": {
   "codemirror_mode": {
    "name": "ipython",
    "version": 3
   },
   "file_extension": ".py",
   "mimetype": "text/x-python",
   "name": "python",
   "nbconvert_exporter": "python",
   "pygments_lexer": "ipython3",
   "version": "3.6.8"
  },
  "toc": {
   "base_numbering": 1,
   "nav_menu": {},
   "number_sections": false,
   "sideBar": true,
   "skip_h1_title": false,
   "title_cell": "Table of Contents",
   "title_sidebar": "Contents",
   "toc_cell": true,
   "toc_position": {},
   "toc_section_display": true,
   "toc_window_display": false
  },
  "varInspector": {
   "cols": {
    "lenName": 16,
    "lenType": 16,
    "lenVar": 40
   },
   "kernels_config": {
    "python": {
     "delete_cmd_postfix": "",
     "delete_cmd_prefix": "del ",
     "library": "var_list.py",
     "varRefreshCmd": "print(var_dic_list())"
    },
    "r": {
     "delete_cmd_postfix": ") ",
     "delete_cmd_prefix": "rm(",
     "library": "var_list.r",
     "varRefreshCmd": "cat(var_dic_list()) "
    }
   },
   "types_to_exclude": [
    "module",
    "function",
    "builtin_function_or_method",
    "instance",
    "_Feature"
   ],
   "window_display": false
  }
 },
 "nbformat": 4,
 "nbformat_minor": 2
}
