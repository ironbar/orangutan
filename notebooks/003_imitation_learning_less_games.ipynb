{
 "cells": [
  {
   "cell_type": "markdown",
   "metadata": {
    "toc": true
   },
   "source": [
    "<h1>Table of Contents<span class=\"tocSkip\"></span></h1>\n",
    "<div class=\"toc\"><ul class=\"toc-item\"><li><span><a href=\"#Imitation-learning\" data-toc-modified-id=\"Imitation-learning-1\">Imitation learning</a></span><ul class=\"toc-item\"><li><span><a href=\"#Imports\" data-toc-modified-id=\"Imports-1.1\">Imports</a></span></li><li><span><a href=\"#Creating-the-environment\" data-toc-modified-id=\"Creating-the-environment-1.2\">Creating the environment</a></span></li><li><span><a href=\"#Learning-from-recorded-games\" data-toc-modified-id=\"Learning-from-recorded-games-1.3\">Learning from recorded games</a></span><ul class=\"toc-item\"><li><span><a href=\"#Preparing-the-data\" data-toc-modified-id=\"Preparing-the-data-1.3.1\">Preparing the data</a></span></li><li><span><a href=\"#Creating-the-model\" data-toc-modified-id=\"Creating-the-model-1.3.2\">Creating the model</a></span><ul class=\"toc-item\"><li><span><a href=\"#Problems-with-conda-environment\" data-toc-modified-id=\"Problems-with-conda-environment-1.3.2.1\">Problems with conda environment</a></span></li><li><span><a href=\"#Building-the-model\" data-toc-modified-id=\"Building-the-model-1.3.2.2\">Building the model</a></span></li></ul></li><li><span><a href=\"#Train\" data-toc-modified-id=\"Train-1.3.3\">Train</a></span><ul class=\"toc-item\"><li><span><a href=\"#Trainings\" data-toc-modified-id=\"Trainings-1.3.3.1\">Trainings</a></span></li><li><span><a href=\"#Summary-of-trainings\" data-toc-modified-id=\"Summary-of-trainings-1.3.3.2\">Summary of trainings</a></span></li></ul></li></ul></li><li><span><a href=\"#Visualizing-agent-play\" data-toc-modified-id=\"Visualizing-agent-play-1.4\">Visualizing agent play</a></span></li><li><span><a href=\"#Summary\" data-toc-modified-id=\"Summary-1.5\">Summary</a></span></li></ul></li></ul></div>"
   ]
  },
  {
   "cell_type": "markdown",
   "metadata": {
    "ExecuteTime": {
     "end_time": "2019-07-16T17:26:51.726063Z",
     "start_time": "2019-07-16T17:26:51.723185Z"
    }
   },
   "source": [
    "# Imitation learning"
   ]
  },
  {
   "cell_type": "markdown",
   "metadata": {
    "ExecuteTime": {
     "end_time": "2019-07-16T17:28:38.234552Z",
     "start_time": "2019-07-16T17:28:38.223048Z"
    }
   },
   "source": [
    "On this notebook I will reduce the number of levels selectively to try to improve the score of the model."
   ]
  },
  {
   "cell_type": "markdown",
   "metadata": {},
   "source": [
    "## Imports"
   ]
  },
  {
   "cell_type": "code",
   "execution_count": 8,
   "metadata": {
    "ExecuteTime": {
     "end_time": "2019-07-19T17:07:54.100907Z",
     "start_time": "2019-07-19T17:07:54.097252Z"
    }
   },
   "outputs": [],
   "source": [
    "import matplotlib.pyplot as plt\n",
    "import cv2\n",
    "import numpy as np\n",
    "from tqdm import tqdm_notebook as tqdm\n",
    "import glob\n",
    "import os\n",
    "from sklearn.preprocessing import OneHotEncoder\n",
    "\n",
    "import tensorflow.keras as keras\n",
    "from tensorflow.keras.models import Model, load_model\n",
    "from tensorflow.keras.layers import Conv2D, MaxPool2D, Dense, Input, Concatenate, Flatten\n",
    "from tensorflow.keras.utils import plot_model\n",
    "from tensorflow.keras.optimizers import Adam\n",
    "from tensorflow.keras.callbacks import EarlyStopping, ReduceLROnPlateau\n",
    "\n",
    "from animalai.envs import UnityEnvironment\n",
    "from animalai.envs.arena_config import ArenaConfig"
   ]
  },
  {
   "cell_type": "markdown",
   "metadata": {},
   "source": [
    "## Creating the environment"
   ]
  },
  {
   "cell_type": "code",
   "execution_count": 47,
   "metadata": {
    "ExecuteTime": {
     "end_time": "2019-07-19T17:49:50.716634Z",
     "start_time": "2019-07-19T17:49:48.196132Z"
    }
   },
   "outputs": [],
   "source": [
    "env = UnityEnvironment(\n",
    "    file_name='/media/guillermo/Data/Dropbox/02 Inteligencia Artificial/31_animalai/AnimalAI-Olympics/env/AnimalAI.x86_64',   # Path to the environment\n",
    "    worker_id=1,                # Unique ID for running the environment (used for connection)\n",
    "    seed=0,                     # The random seed \n",
    "    docker_training=False,      # Whether or not you are training inside a docker\n",
    "    n_arenas=1,                 # Number of arenas in your environment\n",
    "    play=False,                 # Set to False for training\n",
    "    inference=False,            # Set to true to watch your agent in action\n",
    "    resolution=None             # Int: resolution of the agent's square camera (in [4,512], default 84)\n",
    ")"
   ]
  },
  {
   "cell_type": "code",
   "execution_count": 48,
   "metadata": {
    "ExecuteTime": {
     "end_time": "2019-07-19T17:49:52.910093Z",
     "start_time": "2019-07-19T17:49:52.159490Z"
    }
   },
   "outputs": [
    {
     "data": {
      "text/plain": [
       "{'Learner': <animalai.envs.brain.BrainInfo at 0x7f9af13e62b0>}"
      ]
     },
     "execution_count": 48,
     "metadata": {},
     "output_type": "execute_result"
    }
   ],
   "source": [
    "arena_config = ArenaConfig('/media/guillermo/Data/Dropbox/02 Inteligencia Artificial/31_animalai/AnimalAI-Olympics/examples/configs/1-Food.yaml')\n",
    "env.reset(arenas_configurations=arena_config, train_mode=True)"
   ]
  },
  {
   "cell_type": "markdown",
   "metadata": {},
   "source": [
    "## Learning from recorded games"
   ]
  },
  {
   "cell_type": "markdown",
   "metadata": {
    "heading_collapsed": true
   },
   "source": [
    "### Preparing the data"
   ]
  },
  {
   "cell_type": "code",
   "execution_count": 9,
   "metadata": {
    "ExecuteTime": {
     "end_time": "2019-07-19T17:08:01.135354Z",
     "start_time": "2019-07-19T17:08:01.113447Z"
    },
    "hidden": true
   },
   "outputs": [],
   "source": [
    "def load_games_data(game_filepaths):\n",
    "    data = [np.load(game_filepath) for game_filepath in tqdm(game_filepaths, desc='Loading recorded games')]\n",
    "    ohe = OneHotEncoder(categories=[range(3)], sparse=False)\n",
    "    previous_action = np.concatenate([game['previous_action'] for game in data], axis=0)[:, 0]\n",
    "    ohe.fit(previous_action[:, 1:2])\n",
    "    previous_action = [ohe.transform(previous_action[:, 0:1]), ohe.transform(previous_action[:, 1:2])]\n",
    "    previous_action = np.concatenate(previous_action, axis=1)\n",
    "    model_input = {\n",
    "        'frame': np.concatenate([game['frame'] for game in data], axis=0),\n",
    "        'speed': np.concatenate([game['speed'] for game in data], axis=0)[:, 0]/10,\n",
    "        'previous_action': previous_action,\n",
    "    }\n",
    "    action = np.concatenate([game['action'] for game in data], axis=0)\n",
    "    model_output = {\n",
    "        'action_move': ohe.transform(action[:, 0:1]),\n",
    "        'action_rotate': ohe.transform(action[:, 1:2]),\n",
    "    }\n",
    "    return model_input, model_output"
   ]
  },
  {
   "cell_type": "code",
   "execution_count": 10,
   "metadata": {
    "ExecuteTime": {
     "end_time": "2019-07-19T17:08:01.467354Z",
     "start_time": "2019-07-19T17:08:01.455839Z"
    },
    "hidden": true
   },
   "outputs": [],
   "source": [
    "def mirror_game(game_data):\n",
    "    return _mirror_input_data(game_data[0]), _mirror_output_data(game_data[1])\n",
    "    \n",
    "def _mirror_input_data(input_data):\n",
    "    mirror_input_data = input_data.copy()\n",
    "    mirror_input_data['frame'] = np.flip(mirror_input_data['frame'], axis=2)\n",
    "    mirror_input_data['previous_action'] = mirror_input_data['previous_action'][:, [0, 1, 2, 3, 5, 4]]\n",
    "    return mirror_input_data\n",
    "\n",
    "def _mirror_output_data(output_data):\n",
    "    mirror_output_data = output_data.copy()\n",
    "    mirror_output_data['action_rotate'] = mirror_output_data['action_rotate'][:, [0, 2, 1]]\n",
    "    return mirror_output_data"
   ]
  },
  {
   "cell_type": "code",
   "execution_count": 11,
   "metadata": {
    "ExecuteTime": {
     "end_time": "2019-07-19T17:08:01.804304Z",
     "start_time": "2019-07-19T17:08:01.797529Z"
    },
    "hidden": true
   },
   "outputs": [],
   "source": [
    "def duplicate_games(game_data):\n",
    "    mirror_game_data = mirror_game(game_data)\n",
    "    input_data, output_data = {}, {}\n",
    "    for key in game_data[0]:\n",
    "        input_data[key] = np.concatenate([game_data[0][key], mirror_game_data[0][key]], axis=0)\n",
    "    for key in game_data[1]:\n",
    "        output_data[key] = np.concatenate([game_data[1][key], mirror_game_data[1][key]], axis=0)\n",
    "    return input_data, output_data"
   ]
  },
  {
   "cell_type": "code",
   "execution_count": 12,
   "metadata": {
    "ExecuteTime": {
     "end_time": "2019-07-19T17:08:22.919692Z",
     "start_time": "2019-07-19T17:08:22.899272Z"
    },
    "hidden": true
   },
   "outputs": [
    {
     "data": {
      "text/plain": [
       "288"
      ]
     },
     "execution_count": 12,
     "metadata": {},
     "output_type": "execute_result"
    }
   ],
   "source": [
    "folders = [\n",
    "    '/media/guillermo/Data/Kaggle/animalai/gameplay/1-Food',\n",
    "    '/media/guillermo/Data/Kaggle/animalai/gameplay/1-Food_moving',\n",
    "    '/media/guillermo/Data/Kaggle/animalai/gameplay/1-Food_moving_small',\n",
    "    '/media/guillermo/Data/Kaggle/animalai/gameplay/1-Food_multi',\n",
    "    '/media/guillermo/Data/Kaggle/animalai/gameplay/1-Food_multi_moving',\n",
    "    '/media/guillermo/Data/Kaggle/animalai/gameplay/1-Food_small',\n",
    "    #'/media/guillermo/Data/Kaggle/animalai/gameplay/2-Preferences',\n",
    "    #'/media/guillermo/Data/Kaggle/animalai/gameplay/2-Preferences_1good_6bad',\n",
    "    #'/media/guillermo/Data/Kaggle/animalai/gameplay/2-Preferences_moving',\n",
    "]\n",
    "game_filepaths = []\n",
    "for folder in folders:\n",
    "    game_filepaths += glob.glob(os.path.join(folder, '*.npz'))\n",
    "\n",
    "game_filepaths = sorted(game_filepaths)\n",
    "np.random.seed(7)\n",
    "np.random.shuffle(game_filepaths)\n",
    "len(game_filepaths)"
   ]
  },
  {
   "cell_type": "code",
   "execution_count": 8,
   "metadata": {
    "ExecuteTime": {
     "end_time": "2019-07-18T12:56:18.929904Z",
     "start_time": "2019-07-18T12:56:16.842679Z"
    },
    "code_folding": [
     4
    ],
    "deletable": false,
    "editable": false,
    "hidden": true,
    "run_control": {
     "frozen": true
    }
   },
   "outputs": [
    {
     "data": {
      "application/vnd.jupyter.widget-view+json": {
       "model_id": "ccc5eeaf4d4f48d2857d659fcc4c68ad",
       "version_major": 2,
       "version_minor": 0
      },
      "text/plain": [
       "HBox(children=(IntProgress(value=0, description='Loading recorded games', max=150, style=ProgressStyle(descrip…"
      ]
     },
     "metadata": {},
     "output_type": "display_data"
    },
    {
     "name": "stdout",
     "output_type": "stream",
     "text": [
      "\n",
      "Inputs\n",
      "frame shape: (7442, 84, 84, 3)\n",
      "speed shape: (7442, 3)\n",
      "previous_action shape: (7442, 6)\n",
      "Outputs\n",
      "action_move shape: (7442, 3)\n",
      "action_rotate shape: (7442, 3)\n"
     ]
    }
   ],
   "source": [
    "model_input, model_output = load_games_data(game_filepaths)\n",
    "input_keys = ['frame', 'speed', 'previous_action']\n",
    "output_keys = ['action_move', 'action_rotate']\n",
    "print('Inputs')\n",
    "for key in input_keys:\n",
    "    print('%s shape: %s' % (key, str(model_input[key].shape)))\n",
    "print('Outputs')\n",
    "for key in output_keys:\n",
    "    print('%s shape: %s' % (key, str(model_output[key].shape)))"
   ]
  },
  {
   "cell_type": "code",
   "execution_count": 13,
   "metadata": {
    "ExecuteTime": {
     "end_time": "2019-07-19T17:09:04.845876Z",
     "start_time": "2019-07-19T17:08:32.162019Z"
    },
    "hidden": true
   },
   "outputs": [
    {
     "data": {
      "application/vnd.jupyter.widget-view+json": {
       "model_id": "c5079d4c34154d0cbad4c31a30320d09",
       "version_major": 2,
       "version_minor": 0
      },
      "text/plain": [
       "HBox(children=(IntProgress(value=0, description='Loading recorded games', max=231, style=ProgressStyle(descrip…"
      ]
     },
     "metadata": {},
     "output_type": "display_data"
    },
    {
     "name": "stdout",
     "output_type": "stream",
     "text": [
      "\n"
     ]
    },
    {
     "data": {
      "application/vnd.jupyter.widget-view+json": {
       "model_id": "1c9f96852ff54f7abd5b9ad576089884",
       "version_major": 2,
       "version_minor": 0
      },
      "text/plain": [
       "HBox(children=(IntProgress(value=0, description='Loading recorded games', max=57, style=ProgressStyle(descript…"
      ]
     },
     "metadata": {},
     "output_type": "display_data"
    },
    {
     "name": "stdout",
     "output_type": "stream",
     "text": [
      "\n",
      "Number of train samples: 30592\n",
      "Number of validation samples: 8312\n"
     ]
    }
   ],
   "source": [
    "train = load_games_data(game_filepaths[:-int(len(game_filepaths)//5)])\n",
    "val = load_games_data(game_filepaths[-int(len(game_filepaths)//5):])\n",
    "\n",
    "train = duplicate_games(train)\n",
    "val = duplicate_games(val)\n",
    "\n",
    "print('Number of train samples: %i' % len(train[0]['frame']))\n",
    "print('Number of validation samples: %i' % len(val[0]['frame']))"
   ]
  },
  {
   "cell_type": "markdown",
   "metadata": {},
   "source": [
    "### Creating the model"
   ]
  },
  {
   "cell_type": "markdown",
   "metadata": {},
   "source": [
    "The idea is to process the frame using a lenet like network and merge it later with speed and previous move to take a decision over the actions.\n",
    "\n",
    "![](https://miro.medium.com/max/2625/1*1TI1aGBZ4dybR6__DI9dzA.png)"
   ]
  },
  {
   "cell_type": "markdown",
   "metadata": {
    "heading_collapsed": true
   },
   "source": [
    "#### Problems with conda environment"
   ]
  },
  {
   "cell_type": "markdown",
   "metadata": {
    "hidden": true
   },
   "source": [
    "There are inconsistencies between opencv, tensorflow-gpu and the environment requirements (numpy 1.14.5). Maybe I should create an environment for playing an another for training. However if I want to do reinforcement learning I need both in the environment.\n",
    "\n",
    "Which are my requirements:\n",
    "* python 3.6, this is required by animalai\n",
    "* opencv 4.1.0 or higher, previous versions do not show the window\n",
    "* tensorflow-gpu, needed to train\n",
    "* numpy 1.14.5, is this really necessary?\n",
    "\n",
    "I think the problem is that there are conflicts between them."
   ]
  },
  {
   "cell_type": "markdown",
   "metadata": {
    "hidden": true
   },
   "source": [
    "Ideas:\n",
    "* I could try to create an environment from zero\n",
    "* Why numpy 1.14.5 is needed?"
   ]
  },
  {
   "cell_type": "markdown",
   "metadata": {
    "ExecuteTime": {
     "end_time": "2019-07-17T12:19:53.246107Z",
     "start_time": "2019-07-17T12:19:53.241663Z"
    },
    "hidden": true
   },
   "source": [
    "Let's try to use a higher version of numpy on animalai. I can revert to other versions of the environment following the link below.\n",
    "\n",
    "http://blog.rtwilson.com/conda-revisions-letting-you-rollback-to-a-previous-version-of-your-environment/\n",
    "\n",
    "I have been able to remove numpy 1.14.5 and install numpy 1.16.1 and the environment runs."
   ]
  },
  {
   "cell_type": "markdown",
   "metadata": {
    "hidden": true
   },
   "source": [
    "I have created a new environment called animal that seems to be working. The steps were the following:\n",
    "\n",
    "```\n",
    "conda create -n animal python=3.6\n",
    "conda activate animal\n",
    "pip install animalai\n",
    "pip uninstall numpy\n",
    "conda install -c conda-forge tensorflow-gpu opencv==4.1.0\n",
    "conda install jupyter ipywidgets\n",
    "python -m ipykernel install --user --name $CONDA_DEFAULT_ENV --display-name \"Python ($CONDA_DEFAULT_ENV)\"\n",
    "conda install pytest rope pylint tqdm pandas scikit-learn ipython ipykernel autopep8 matplotlib\n",
    "```"
   ]
  },
  {
   "cell_type": "markdown",
   "metadata": {
    "heading_collapsed": true
   },
   "source": [
    "#### Building the model"
   ]
  },
  {
   "cell_type": "code",
   "execution_count": 30,
   "metadata": {
    "ExecuteTime": {
     "end_time": "2019-07-19T17:20:03.403557Z",
     "start_time": "2019-07-19T17:20:03.386196Z"
    },
    "code_folding": [],
    "hidden": true
   },
   "outputs": [],
   "source": [
    "def build_model(conv_filters, mlp_units):\n",
    "    frame = Input(shape=(84, 84, 3), name='frame')\n",
    "    output = frame\n",
    "    for n_filters in conv_filters:\n",
    "        output = Conv2D(filters=n_filters, kernel_size=(3, 3), activation='relu')(output)\n",
    "        if int(output.get_shape()[1]) >= 2:\n",
    "            output = MaxPool2D()(output)\n",
    "    output = Flatten()(output)\n",
    "    \n",
    "    speed = Input(shape=(3), name='speed')\n",
    "    previous_action = Input(shape=(6), name='previous_action')\n",
    "    \n",
    "    output = Concatenate()([output, speed, previous_action])\n",
    "    \n",
    "    for n_units in mlp_units:\n",
    "        output = Dense(n_units, activation='relu')(output)\n",
    "    \n",
    "    action_move = Dense(3, activation='softmax', name='action_move')(output)\n",
    "    action_rotate = Dense(3, activation='softmax', name='action_rotate')(output)\n",
    "    \n",
    "    model = Model(inputs=dict(frame=frame, speed=speed, previous_action=previous_action), outputs=[action_move, action_rotate])\n",
    "    return model"
   ]
  },
  {
   "cell_type": "markdown",
   "metadata": {},
   "source": [
    "### Train"
   ]
  },
  {
   "cell_type": "code",
   "execution_count": 40,
   "metadata": {
    "ExecuteTime": {
     "end_time": "2019-07-19T17:43:50.788815Z",
     "start_time": "2019-07-19T17:43:50.766933Z"
    }
   },
   "outputs": [],
   "source": [
    "def train_model(conv_filters, mlp_units):\n",
    "    model = build_model(conv_filters, mlp_units)\n",
    "    model.summary()\n",
    "    model.compile(Adam(learning_rate=1e-3), loss='categorical_crossentropy', metrics=['accuracy'])\n",
    "    callbacks = [\n",
    "        EarlyStopping(monitor='val_loss', patience=20, restore_best_weights=True, verbose=1),\n",
    "        ReduceLROnPlateau(monitor='loss', patience=2, factor=0.7, verbose=1)\n",
    "    ]\n",
    "    hist = model.fit(x=train[0], y=train[1], epochs=500, validation_data=val, callbacks=callbacks)\n",
    "    plot_hist(hist.history)\n",
    "    return model\n",
    "    \n",
    "def plot_hist(hist):\n",
    "    plt.figure(figsize=(25, 5))\n",
    "    keys = ['loss']\n",
    "    for key in keys:\n",
    "        prefix = ''\n",
    "        label = '%s%s' % (prefix, key)\n",
    "        best_score = np.min(hist[label])\n",
    "        plt.plot(hist[label], label='%s %.4f' % (label, best_score))\n",
    "        print('%s %.4f' % (label, best_score))\n",
    "        \n",
    "        plt.twinx()\n",
    "        prefix = 'val_'\n",
    "        label = '%s%s' % (prefix, key)\n",
    "        best_score = np.min(hist[label])\n",
    "        plt.plot(hist[label], label='%s %.4f' % (label, best_score), color='orange')\n",
    "        print('%s %.4f' % (label, best_score))\n",
    "    plt.legend(loc=0)"
   ]
  },
  {
   "cell_type": "markdown",
   "metadata": {},
   "source": [
    "#### Trainings"
   ]
  },
  {
   "cell_type": "code",
   "execution_count": 20,
   "metadata": {
    "ExecuteTime": {
     "end_time": "2019-07-19T17:15:56.517699Z",
     "start_time": "2019-07-19T17:12:12.078958Z"
    }
   },
   "outputs": [
    {
     "name": "stderr",
     "output_type": "stream",
     "text": [
      "WARNING: Logging before flag parsing goes to stderr.\n",
      "W0719 19:12:12.111613 140311670503232 deprecation.py:506] From /home/guillermo/miniconda3/envs/animal/lib/python3.6/site-packages/tensorflow/python/ops/init_ops.py:1251: calling VarianceScaling.__init__ (from tensorflow.python.ops.init_ops) with dtype is deprecated and will be removed in a future version.\n",
      "Instructions for updating:\n",
      "Call initializer instance with the dtype argument instead of passing it to the constructor\n"
     ]
    },
    {
     "name": "stdout",
     "output_type": "stream",
     "text": [
      "Model: \"model\"\n",
      "__________________________________________________________________________________________________\n",
      "Layer (type)                    Output Shape         Param #     Connected to                     \n",
      "==================================================================================================\n",
      "frame (InputLayer)              [(None, 84, 84, 3)]  0                                            \n",
      "__________________________________________________________________________________________________\n",
      "conv2d (Conv2D)                 (None, 82, 82, 8)    224         frame[0][0]                      \n",
      "__________________________________________________________________________________________________\n",
      "max_pooling2d (MaxPooling2D)    (None, 41, 41, 8)    0           conv2d[0][0]                     \n",
      "__________________________________________________________________________________________________\n",
      "conv2d_1 (Conv2D)               (None, 39, 39, 8)    584         max_pooling2d[0][0]              \n",
      "__________________________________________________________________________________________________\n",
      "max_pooling2d_1 (MaxPooling2D)  (None, 19, 19, 8)    0           conv2d_1[0][0]                   \n",
      "__________________________________________________________________________________________________\n",
      "conv2d_2 (Conv2D)               (None, 17, 17, 16)   1168        max_pooling2d_1[0][0]            \n",
      "__________________________________________________________________________________________________\n",
      "max_pooling2d_2 (MaxPooling2D)  (None, 8, 8, 16)     0           conv2d_2[0][0]                   \n",
      "__________________________________________________________________________________________________\n",
      "conv2d_3 (Conv2D)               (None, 6, 6, 16)     2320        max_pooling2d_2[0][0]            \n",
      "__________________________________________________________________________________________________\n",
      "max_pooling2d_3 (MaxPooling2D)  (None, 3, 3, 16)     0           conv2d_3[0][0]                   \n",
      "__________________________________________________________________________________________________\n",
      "flatten (Flatten)               (None, 144)          0           max_pooling2d_3[0][0]            \n",
      "__________________________________________________________________________________________________\n",
      "speed (InputLayer)              [(None, 3)]          0                                            \n",
      "__________________________________________________________________________________________________\n",
      "previous_action (InputLayer)    [(None, 6)]          0                                            \n",
      "__________________________________________________________________________________________________\n",
      "concatenate (Concatenate)       (None, 153)          0           flatten[0][0]                    \n",
      "                                                                 speed[0][0]                      \n",
      "                                                                 previous_action[0][0]            \n",
      "__________________________________________________________________________________________________\n",
      "dense (Dense)                   (None, 16)           2464        concatenate[0][0]                \n",
      "__________________________________________________________________________________________________\n",
      "action_move (Dense)             (None, 3)            51          dense[0][0]                      \n",
      "__________________________________________________________________________________________________\n",
      "action_rotate (Dense)           (None, 3)            51          dense[0][0]                      \n",
      "==================================================================================================\n",
      "Total params: 6,862\n",
      "Trainable params: 6,862\n",
      "Non-trainable params: 0\n",
      "__________________________________________________________________________________________________\n",
      "Train on 30592 samples, validate on 8312 samples\n",
      "Epoch 1/500\n",
      "30592/30592 [==============================] - 9s 278us/sample - loss: 1.0106 - action_move_loss: 0.4072 - action_rotate_loss: 0.6034 - action_move_acc: 0.8355 - action_rotate_acc: 0.7961 - val_loss: 0.5994 - val_action_move_loss: 0.2592 - val_action_rotate_loss: 0.3403 - val_action_move_acc: 0.9034 - val_action_rotate_acc: 0.8928\n",
      "Epoch 2/500\n",
      "30592/30592 [==============================] - 7s 222us/sample - loss: 0.6630 - action_move_loss: 0.2950 - action_rotate_loss: 0.3679 - action_move_acc: 0.8862 - action_rotate_acc: 0.8795 - val_loss: 0.5287 - val_action_move_loss: 0.2374 - val_action_rotate_loss: 0.2910 - val_action_move_acc: 0.9122 - val_action_rotate_acc: 0.9016\n",
      "Epoch 3/500\n",
      "30592/30592 [==============================] - 7s 226us/sample - loss: 0.6138 - action_move_loss: 0.2767 - action_rotate_loss: 0.3371 - action_move_acc: 0.8941 - action_rotate_acc: 0.8864 - val_loss: 0.5118 - val_action_move_loss: 0.2331 - val_action_rotate_loss: 0.2786 - val_action_move_acc: 0.9142 - val_action_rotate_acc: 0.9041\n",
      "Epoch 4/500\n",
      "30592/30592 [==============================] - 7s 227us/sample - loss: 0.5958 - action_move_loss: 0.2694 - action_rotate_loss: 0.3264 - action_move_acc: 0.8961 - action_rotate_acc: 0.8884 - val_loss: 0.5046 - val_action_move_loss: 0.2308 - val_action_rotate_loss: 0.2740 - val_action_move_acc: 0.9127 - val_action_rotate_acc: 0.9051\n",
      "Epoch 5/500\n",
      "30592/30592 [==============================] - 7s 223us/sample - loss: 0.5847 - action_move_loss: 0.2650 - action_rotate_loss: 0.3197 - action_move_acc: 0.8975 - action_rotate_acc: 0.8893 - val_loss: 0.4998 - val_action_move_loss: 0.2284 - val_action_rotate_loss: 0.2711 - val_action_move_acc: 0.9141 - val_action_rotate_acc: 0.9063\n",
      "Epoch 6/500\n",
      "30592/30592 [==============================] - 7s 226us/sample - loss: 0.5768 - action_move_loss: 0.2613 - action_rotate_loss: 0.3155 - action_move_acc: 0.8987 - action_rotate_acc: 0.8897 - val_loss: 0.5033 - val_action_move_loss: 0.2307 - val_action_rotate_loss: 0.2724 - val_action_move_acc: 0.9176 - val_action_rotate_acc: 0.9077\n",
      "Epoch 7/500\n",
      "30592/30592 [==============================] - 7s 226us/sample - loss: 0.5709 - action_move_loss: 0.2585 - action_rotate_loss: 0.3124 - action_move_acc: 0.8981 - action_rotate_acc: 0.8904 - val_loss: 0.4973 - val_action_move_loss: 0.2277 - val_action_rotate_loss: 0.2695 - val_action_move_acc: 0.9166 - val_action_rotate_acc: 0.9078\n",
      "Epoch 8/500\n",
      "30592/30592 [==============================] - 7s 228us/sample - loss: 0.5656 - action_move_loss: 0.2556 - action_rotate_loss: 0.3100 - action_move_acc: 0.9001 - action_rotate_acc: 0.8903 - val_loss: 0.4887 - val_action_move_loss: 0.2247 - val_action_rotate_loss: 0.2639 - val_action_move_acc: 0.9192 - val_action_rotate_acc: 0.9092\n",
      "Epoch 9/500\n",
      "30592/30592 [==============================] - 7s 228us/sample - loss: 0.5621 - action_move_loss: 0.2546 - action_rotate_loss: 0.3076 - action_move_acc: 0.9002 - action_rotate_acc: 0.8921 - val_loss: 0.4902 - val_action_move_loss: 0.2246 - val_action_rotate_loss: 0.2656 - val_action_move_acc: 0.9211 - val_action_rotate_acc: 0.9125\n",
      "Epoch 10/500\n",
      "30592/30592 [==============================] - 7s 235us/sample - loss: 0.5617 - action_move_loss: 0.2541 - action_rotate_loss: 0.3077 - action_move_acc: 0.9001 - action_rotate_acc: 0.8907 - val_loss: 0.4763 - val_action_move_loss: 0.2182 - val_action_rotate_loss: 0.2579 - val_action_move_acc: 0.9189 - val_action_rotate_acc: 0.9101\n",
      "Epoch 11/500\n",
      "30592/30592 [==============================] - 7s 224us/sample - loss: 0.5570 - action_move_loss: 0.2521 - action_rotate_loss: 0.3050 - action_move_acc: 0.9009 - action_rotate_acc: 0.8922 - val_loss: 0.4771 - val_action_move_loss: 0.2173 - val_action_rotate_loss: 0.2598 - val_action_move_acc: 0.9200 - val_action_rotate_acc: 0.9099\n",
      "Epoch 12/500\n",
      "30592/30592 [==============================] - 6s 208us/sample - loss: 0.5547 - action_move_loss: 0.2510 - action_rotate_loss: 0.3037 - action_move_acc: 0.9009 - action_rotate_acc: 0.8920 - val_loss: 0.4840 - val_action_move_loss: 0.2218 - val_action_rotate_loss: 0.2623 - val_action_move_acc: 0.9189 - val_action_rotate_acc: 0.9106\n",
      "Epoch 13/500\n"
     ]
    },
    {
     "name": "stdout",
     "output_type": "stream",
     "text": [
      "30592/30592 [==============================] - 7s 223us/sample - loss: 0.5522 - action_move_loss: 0.2497 - action_rotate_loss: 0.3025 - action_move_acc: 0.9019 - action_rotate_acc: 0.8931 - val_loss: 0.4742 - val_action_move_loss: 0.2160 - val_action_rotate_loss: 0.2581 - val_action_move_acc: 0.9205 - val_action_rotate_acc: 0.9099\n",
      "Epoch 14/500\n",
      "30592/30592 [==============================] - 7s 213us/sample - loss: 0.5490 - action_move_loss: 0.2482 - action_rotate_loss: 0.3008 - action_move_acc: 0.9013 - action_rotate_acc: 0.8928 - val_loss: 0.4824 - val_action_move_loss: 0.2199 - val_action_rotate_loss: 0.2624 - val_action_move_acc: 0.9183 - val_action_rotate_acc: 0.9084\n",
      "Epoch 15/500\n",
      "30592/30592 [==============================] - 7s 230us/sample - loss: 0.5472 - action_move_loss: 0.2474 - action_rotate_loss: 0.2998 - action_move_acc: 0.9021 - action_rotate_acc: 0.8939 - val_loss: 0.4776 - val_action_move_loss: 0.2173 - val_action_rotate_loss: 0.2601 - val_action_move_acc: 0.9190 - val_action_rotate_acc: 0.9096\n",
      "Epoch 16/500\n",
      "30592/30592 [==============================] - 7s 224us/sample - loss: 0.5438 - action_move_loss: 0.2459 - action_rotate_loss: 0.2979 - action_move_acc: 0.9018 - action_rotate_acc: 0.8930 - val_loss: 0.4808 - val_action_move_loss: 0.2208 - val_action_rotate_loss: 0.2599 - val_action_move_acc: 0.9187 - val_action_rotate_acc: 0.9112\n",
      "Epoch 17/500\n",
      "30592/30592 [==============================] - 6s 210us/sample - loss: 0.5417 - action_move_loss: 0.2448 - action_rotate_loss: 0.2969 - action_move_acc: 0.9026 - action_rotate_acc: 0.8936 - val_loss: 0.4831 - val_action_move_loss: 0.2227 - val_action_rotate_loss: 0.2603 - val_action_move_acc: 0.9198 - val_action_rotate_acc: 0.9145\n",
      "Epoch 18/500\n",
      "30592/30592 [==============================] - 6s 191us/sample - loss: 0.5398 - action_move_loss: 0.2441 - action_rotate_loss: 0.2957 - action_move_acc: 0.9039 - action_rotate_acc: 0.8947 - val_loss: 0.4759 - val_action_move_loss: 0.2176 - val_action_rotate_loss: 0.2586 - val_action_move_acc: 0.9210 - val_action_rotate_acc: 0.9131\n",
      "Epoch 19/500\n",
      "30592/30592 [==============================] - 7s 217us/sample - loss: 0.5396 - action_move_loss: 0.2443 - action_rotate_loss: 0.2954 - action_move_acc: 0.9034 - action_rotate_acc: 0.8953 - val_loss: 0.4754 - val_action_move_loss: 0.2167 - val_action_rotate_loss: 0.2585 - val_action_move_acc: 0.9196 - val_action_rotate_acc: 0.9110\n",
      "Epoch 20/500\n",
      "30592/30592 [==============================] - 7s 213us/sample - loss: 0.5364 - action_move_loss: 0.2427 - action_rotate_loss: 0.2937 - action_move_acc: 0.9035 - action_rotate_acc: 0.8947 - val_loss: 0.4857 - val_action_move_loss: 0.2217 - val_action_rotate_loss: 0.2642 - val_action_move_acc: 0.9178 - val_action_rotate_acc: 0.9086\n",
      "Epoch 21/500\n",
      "30592/30592 [==============================] - 6s 204us/sample - loss: 0.5338 - action_move_loss: 0.2415 - action_rotate_loss: 0.2923 - action_move_acc: 0.9046 - action_rotate_acc: 0.8963 - val_loss: 0.4840 - val_action_move_loss: 0.2226 - val_action_rotate_loss: 0.2617 - val_action_move_acc: 0.9186 - val_action_rotate_acc: 0.9118\n",
      "Epoch 22/500\n",
      "30592/30592 [==============================] - 6s 203us/sample - loss: 0.5320 - action_move_loss: 0.2409 - action_rotate_loss: 0.2910 - action_move_acc: 0.9046 - action_rotate_acc: 0.8965 - val_loss: 0.4828 - val_action_move_loss: 0.2200 - val_action_rotate_loss: 0.2626 - val_action_move_acc: 0.9181 - val_action_rotate_acc: 0.9119\n",
      "Epoch 23/500\n",
      "30592/30592 [==============================] - 6s 200us/sample - loss: 0.5296 - action_move_loss: 0.2397 - action_rotate_loss: 0.2899 - action_move_acc: 0.9051 - action_rotate_acc: 0.8968 - val_loss: 0.4778 - val_action_move_loss: 0.2188 - val_action_rotate_loss: 0.2594 - val_action_move_acc: 0.9163 - val_action_rotate_acc: 0.9089\n",
      "Epoch 24/500\n",
      "30592/30592 [==============================] - 6s 206us/sample - loss: 0.5284 - action_move_loss: 0.2387 - action_rotate_loss: 0.2897 - action_move_acc: 0.9046 - action_rotate_acc: 0.8961 - val_loss: 0.4833 - val_action_move_loss: 0.2206 - val_action_rotate_loss: 0.2626 - val_action_move_acc: 0.9187 - val_action_rotate_acc: 0.9124\n",
      "Epoch 25/500\n",
      "30592/30592 [==============================] - 6s 208us/sample - loss: 0.5254 - action_move_loss: 0.2374 - action_rotate_loss: 0.2880 - action_move_acc: 0.9059 - action_rotate_acc: 0.8965 - val_loss: 0.4758 - val_action_move_loss: 0.2169 - val_action_rotate_loss: 0.2587 - val_action_move_acc: 0.9182 - val_action_rotate_acc: 0.9100\n",
      "Epoch 26/500\n",
      "30592/30592 [==============================] - 6s 210us/sample - loss: 0.5231 - action_move_loss: 0.2366 - action_rotate_loss: 0.2865 - action_move_acc: 0.9059 - action_rotate_acc: 0.8979 - val_loss: 0.4877 - val_action_move_loss: 0.2245 - val_action_rotate_loss: 0.2632 - val_action_move_acc: 0.9133 - val_action_rotate_acc: 0.9098\n",
      "Epoch 27/500\n",
      "30592/30592 [==============================] - 6s 197us/sample - loss: 0.5212 - action_move_loss: 0.2356 - action_rotate_loss: 0.2856 - action_move_acc: 0.9069 - action_rotate_acc: 0.8980 - val_loss: 0.4851 - val_action_move_loss: 0.2224 - val_action_rotate_loss: 0.2629 - val_action_move_acc: 0.9175 - val_action_rotate_acc: 0.9106\n",
      "Epoch 28/500\n",
      "30592/30592 [==============================] - 7s 216us/sample - loss: 0.5196 - action_move_loss: 0.2351 - action_rotate_loss: 0.2845 - action_move_acc: 0.9053 - action_rotate_acc: 0.8973 - val_loss: 0.4932 - val_action_move_loss: 0.2274 - val_action_rotate_loss: 0.2656 - val_action_move_acc: 0.9147 - val_action_rotate_acc: 0.9101\n",
      "Epoch 29/500\n",
      "30592/30592 [==============================] - 7s 219us/sample - loss: 0.5170 - action_move_loss: 0.2336 - action_rotate_loss: 0.2834 - action_move_acc: 0.9070 - action_rotate_acc: 0.8994 - val_loss: 0.4886 - val_action_move_loss: 0.2237 - val_action_rotate_loss: 0.2647 - val_action_move_acc: 0.9145 - val_action_rotate_acc: 0.9099\n",
      "Epoch 30/500\n",
      "30592/30592 [==============================] - 7s 223us/sample - loss: 0.5152 - action_move_loss: 0.2330 - action_rotate_loss: 0.2822 - action_move_acc: 0.9065 - action_rotate_acc: 0.8987 - val_loss: 0.4794 - val_action_move_loss: 0.2188 - val_action_rotate_loss: 0.2604 - val_action_move_acc: 0.9190 - val_action_rotate_acc: 0.9128\n",
      "Epoch 31/500\n",
      "30592/30592 [==============================] - 7s 224us/sample - loss: 0.5137 - action_move_loss: 0.2323 - action_rotate_loss: 0.2814 - action_move_acc: 0.9071 - action_rotate_acc: 0.8991 - val_loss: 0.4846 - val_action_move_loss: 0.2236 - val_action_rotate_loss: 0.2612 - val_action_move_acc: 0.9175 - val_action_rotate_acc: 0.9118\n",
      "Epoch 32/500\n",
      "30592/30592 [==============================] - 7s 225us/sample - loss: 0.5086 - action_move_loss: 0.2300 - action_rotate_loss: 0.2786 - action_move_acc: 0.9087 - action_rotate_acc: 0.9020 - val_loss: 0.4937 - val_action_move_loss: 0.2277 - val_action_rotate_loss: 0.2657 - val_action_move_acc: 0.9116 - val_action_rotate_acc: 0.9069\n",
      "Epoch 33/500\n",
      "30336/30592 [============================>.] - ETA: 0s - loss: 0.5075 - action_move_loss: 0.2296 - action_rotate_loss: 0.2779 - action_move_acc: 0.9077 - action_rotate_acc: 0.8996Restoring model weights from the end of the best epoch.\n",
      "30592/30592 [==============================] - 7s 223us/sample - loss: 0.5076 - action_move_loss: 0.2296 - action_rotate_loss: 0.2780 - action_move_acc: 0.9077 - action_rotate_acc: 0.8995 - val_loss: 0.4986 - val_action_move_loss: 0.2306 - val_action_rotate_loss: 0.2679 - val_action_move_acc: 0.9116 - val_action_rotate_acc: 0.9081\n",
      "Epoch 00033: early stopping\n",
      "loss\n",
      "val_loss\n"
     ]
    },
    {
     "data": {
      "image/png": "[encoded data removed]",
      "text/plain": [
       "<Figure size 432x288 with 1 Axes>"
      ]
     },
     "metadata": {
      "needs_background": "light"
     },
     "output_type": "display_data"
    }
   ],
   "source": [
    "args = [8, 8, 16, 16], [16]\n",
    "model = train_model(*args)\n",
    "model.save('model_%s.hdf' % str(args))"
   ]
  },
  {
   "cell_type": "code",
   "execution_count": 33,
   "metadata": {
    "ExecuteTime": {
     "end_time": "2019-07-19T17:25:17.626100Z",
     "start_time": "2019-07-19T17:21:06.356884Z"
    }
   },
   "outputs": [
    {
     "name": "stdout",
     "output_type": "stream",
     "text": [
      "Model: \"model_2\"\n",
      "__________________________________________________________________________________________________\n",
      "Layer (type)                    Output Shape         Param #     Connected to                     \n",
      "==================================================================================================\n",
      "frame (InputLayer)              [(None, 84, 84, 3)]  0                                            \n",
      "__________________________________________________________________________________________________\n",
      "conv2d_15 (Conv2D)              (None, 82, 82, 8)    224         frame[0][0]                      \n",
      "__________________________________________________________________________________________________\n",
      "max_pooling2d_13 (MaxPooling2D) (None, 41, 41, 8)    0           conv2d_15[0][0]                  \n",
      "__________________________________________________________________________________________________\n",
      "conv2d_16 (Conv2D)              (None, 39, 39, 8)    584         max_pooling2d_13[0][0]           \n",
      "__________________________________________________________________________________________________\n",
      "max_pooling2d_14 (MaxPooling2D) (None, 19, 19, 8)    0           conv2d_16[0][0]                  \n",
      "__________________________________________________________________________________________________\n",
      "conv2d_17 (Conv2D)              (None, 17, 17, 16)   1168        max_pooling2d_14[0][0]           \n",
      "__________________________________________________________________________________________________\n",
      "max_pooling2d_15 (MaxPooling2D) (None, 8, 8, 16)     0           conv2d_17[0][0]                  \n",
      "__________________________________________________________________________________________________\n",
      "conv2d_18 (Conv2D)              (None, 6, 6, 16)     2320        max_pooling2d_15[0][0]           \n",
      "__________________________________________________________________________________________________\n",
      "max_pooling2d_16 (MaxPooling2D) (None, 3, 3, 16)     0           conv2d_18[0][0]                  \n",
      "__________________________________________________________________________________________________\n",
      "conv2d_19 (Conv2D)              (None, 1, 1, 32)     4640        max_pooling2d_16[0][0]           \n",
      "__________________________________________________________________________________________________\n",
      "flatten_2 (Flatten)             (None, 32)           0           conv2d_19[0][0]                  \n",
      "__________________________________________________________________________________________________\n",
      "speed (InputLayer)              [(None, 3)]          0                                            \n",
      "__________________________________________________________________________________________________\n",
      "previous_action (InputLayer)    [(None, 6)]          0                                            \n",
      "__________________________________________________________________________________________________\n",
      "concatenate_2 (Concatenate)     (None, 41)           0           flatten_2[0][0]                  \n",
      "                                                                 speed[0][0]                      \n",
      "                                                                 previous_action[0][0]            \n",
      "__________________________________________________________________________________________________\n",
      "dense_2 (Dense)                 (None, 16)           672         concatenate_2[0][0]              \n",
      "__________________________________________________________________________________________________\n",
      "action_move (Dense)             (None, 3)            51          dense_2[0][0]                    \n",
      "__________________________________________________________________________________________________\n",
      "action_rotate (Dense)           (None, 3)            51          dense_2[0][0]                    \n",
      "==================================================================================================\n",
      "Total params: 9,710\n",
      "Trainable params: 9,710\n",
      "Non-trainable params: 0\n",
      "__________________________________________________________________________________________________\n",
      "Train on 30592 samples, validate on 8312 samples\n",
      "Epoch 1/500\n",
      "30592/30592 [==============================] - 7s 243us/sample - loss: 1.0593 - action_move_loss: 0.4507 - action_rotate_loss: 0.6086 - action_move_acc: 0.8204 - action_rotate_acc: 0.7947 - val_loss: 0.6464 - val_action_move_loss: 0.2811 - val_action_rotate_loss: 0.3651 - val_action_move_acc: 0.9003 - val_action_rotate_acc: 0.8902\n",
      "Epoch 2/500\n",
      "30592/30592 [==============================] - 7s 240us/sample - loss: 0.6990 - action_move_loss: 0.3103 - action_rotate_loss: 0.3887 - action_move_acc: 0.8847 - action_rotate_acc: 0.8736 - val_loss: 0.5446 - val_action_move_loss: 0.2515 - val_action_rotate_loss: 0.2928 - val_action_move_acc: 0.9100 - val_action_rotate_acc: 0.9034\n",
      "Epoch 3/500\n",
      "30592/30592 [==============================] - 7s 216us/sample - loss: 0.6299 - action_move_loss: 0.2860 - action_rotate_loss: 0.3440 - action_move_acc: 0.8911 - action_rotate_acc: 0.8828 - val_loss: 0.5401 - val_action_move_loss: 0.2532 - val_action_rotate_loss: 0.2868 - val_action_move_acc: 0.9103 - val_action_rotate_acc: 0.9028\n",
      "Epoch 4/500\n",
      "30592/30592 [==============================] - 6s 212us/sample - loss: 0.6026 - action_move_loss: 0.2759 - action_rotate_loss: 0.3267 - action_move_acc: 0.8944 - action_rotate_acc: 0.8858 - val_loss: 0.5071 - val_action_move_loss: 0.2354 - val_action_rotate_loss: 0.2717 - val_action_move_acc: 0.9178 - val_action_rotate_acc: 0.9066\n",
      "Epoch 5/500\n",
      "30592/30592 [==============================] - 7s 217us/sample - loss: 0.5907 - action_move_loss: 0.2710 - action_rotate_loss: 0.3196 - action_move_acc: 0.8955 - action_rotate_acc: 0.8874 - val_loss: 0.5167 - val_action_move_loss: 0.2400 - val_action_rotate_loss: 0.2764 - val_action_move_acc: 0.9166 - val_action_rotate_acc: 0.9078\n",
      "Epoch 6/500\n",
      "30592/30592 [==============================] - 7s 240us/sample - loss: 0.5822 - action_move_loss: 0.2671 - action_rotate_loss: 0.3151 - action_move_acc: 0.8976 - action_rotate_acc: 0.8894 - val_loss: 0.4988 - val_action_move_loss: 0.2293 - val_action_rotate_loss: 0.2694 - val_action_move_acc: 0.9201 - val_action_rotate_acc: 0.9110\n",
      "Epoch 7/500\n",
      "30592/30592 [==============================] - 7s 236us/sample - loss: 0.5724 - action_move_loss: 0.2617 - action_rotate_loss: 0.3107 - action_move_acc: 0.8989 - action_rotate_acc: 0.8904 - val_loss: 0.4933 - val_action_move_loss: 0.2289 - val_action_rotate_loss: 0.2647 - val_action_move_acc: 0.9179 - val_action_rotate_acc: 0.9099\n",
      "Epoch 8/500\n",
      "30592/30592 [==============================] - 7s 242us/sample - loss: 0.5664 - action_move_loss: 0.2577 - action_rotate_loss: 0.3087 - action_move_acc: 0.8988 - action_rotate_acc: 0.8909 - val_loss: 0.4897 - val_action_move_loss: 0.2266 - val_action_rotate_loss: 0.2629 - val_action_move_acc: 0.9176 - val_action_rotate_acc: 0.9122\n",
      "Epoch 9/500\n",
      "30592/30592 [==============================] - 8s 245us/sample - loss: 0.5624 - action_move_loss: 0.2557 - action_rotate_loss: 0.3067 - action_move_acc: 0.9004 - action_rotate_acc: 0.8907 - val_loss: 0.4835 - val_action_move_loss: 0.2213 - val_action_rotate_loss: 0.2622 - val_action_move_acc: 0.9199 - val_action_rotate_acc: 0.9118\n",
      "Epoch 10/500\n",
      "30592/30592 [==============================] - 8s 249us/sample - loss: 0.5576 - action_move_loss: 0.2534 - action_rotate_loss: 0.3042 - action_move_acc: 0.9019 - action_rotate_acc: 0.8925 - val_loss: 0.4840 - val_action_move_loss: 0.2221 - val_action_rotate_loss: 0.2619 - val_action_move_acc: 0.9208 - val_action_rotate_acc: 0.9124\n",
      "Epoch 11/500\n",
      "30592/30592 [==============================] - 7s 244us/sample - loss: 0.5565 - action_move_loss: 0.2530 - action_rotate_loss: 0.3036 - action_move_acc: 0.9014 - action_rotate_acc: 0.8926 - val_loss: 0.4905 - val_action_move_loss: 0.2242 - val_action_rotate_loss: 0.2664 - val_action_move_acc: 0.9212 - val_action_rotate_acc: 0.9113\n",
      "Epoch 12/500\n",
      "30592/30592 [==============================] - 7s 243us/sample - loss: 0.5518 - action_move_loss: 0.2505 - action_rotate_loss: 0.3012 - action_move_acc: 0.9016 - action_rotate_acc: 0.8927 - val_loss: 0.4916 - val_action_move_loss: 0.2269 - val_action_rotate_loss: 0.2643 - val_action_move_acc: 0.9189 - val_action_rotate_acc: 0.9103\n"
     ]
    },
    {
     "name": "stdout",
     "output_type": "stream",
     "text": [
      "Epoch 13/500\n",
      "30592/30592 [==============================] - 7s 244us/sample - loss: 0.5492 - action_move_loss: 0.2495 - action_rotate_loss: 0.2997 - action_move_acc: 0.9026 - action_rotate_acc: 0.8946 - val_loss: 0.4770 - val_action_move_loss: 0.2187 - val_action_rotate_loss: 0.2581 - val_action_move_acc: 0.9214 - val_action_rotate_acc: 0.9137\n",
      "Epoch 14/500\n",
      "30592/30592 [==============================] - 7s 238us/sample - loss: 0.5455 - action_move_loss: 0.2479 - action_rotate_loss: 0.2975 - action_move_acc: 0.9032 - action_rotate_acc: 0.8961 - val_loss: 0.4742 - val_action_move_loss: 0.2179 - val_action_rotate_loss: 0.2562 - val_action_move_acc: 0.9200 - val_action_rotate_acc: 0.9136\n",
      "Epoch 15/500\n",
      "30592/30592 [==============================] - 7s 243us/sample - loss: 0.5441 - action_move_loss: 0.2472 - action_rotate_loss: 0.2969 - action_move_acc: 0.9045 - action_rotate_acc: 0.8966 - val_loss: 0.4770 - val_action_move_loss: 0.2173 - val_action_rotate_loss: 0.2595 - val_action_move_acc: 0.9210 - val_action_rotate_acc: 0.9131\n",
      "Epoch 16/500\n",
      "30592/30592 [==============================] - 7s 245us/sample - loss: 0.5416 - action_move_loss: 0.2459 - action_rotate_loss: 0.2957 - action_move_acc: 0.9043 - action_rotate_acc: 0.8960 - val_loss: 0.4754 - val_action_move_loss: 0.2178 - val_action_rotate_loss: 0.2579 - val_action_move_acc: 0.9220 - val_action_rotate_acc: 0.9129\n",
      "Epoch 17/500\n",
      "30592/30592 [==============================] - 7s 242us/sample - loss: 0.5398 - action_move_loss: 0.2451 - action_rotate_loss: 0.2946 - action_move_acc: 0.9042 - action_rotate_acc: 0.8971 - val_loss: 0.4785 - val_action_move_loss: 0.2193 - val_action_rotate_loss: 0.2592 - val_action_move_acc: 0.9211 - val_action_rotate_acc: 0.9136\n",
      "Epoch 18/500\n",
      "30592/30592 [==============================] - 7s 243us/sample - loss: 0.5377 - action_move_loss: 0.2443 - action_rotate_loss: 0.2934 - action_move_acc: 0.9050 - action_rotate_acc: 0.8973 - val_loss: 0.4887 - val_action_move_loss: 0.2237 - val_action_rotate_loss: 0.2656 - val_action_move_acc: 0.9220 - val_action_rotate_acc: 0.9137\n",
      "Epoch 19/500\n",
      "30592/30592 [==============================] - 8s 253us/sample - loss: 0.5356 - action_move_loss: 0.2430 - action_rotate_loss: 0.2926 - action_move_acc: 0.9053 - action_rotate_acc: 0.8971 - val_loss: 0.4783 - val_action_move_loss: 0.2195 - val_action_rotate_loss: 0.2591 - val_action_move_acc: 0.9211 - val_action_rotate_acc: 0.9149\n",
      "Epoch 20/500\n",
      "30592/30592 [==============================] - 7s 242us/sample - loss: 0.5335 - action_move_loss: 0.2422 - action_rotate_loss: 0.2913 - action_move_acc: 0.9052 - action_rotate_acc: 0.8979 - val_loss: 0.4808 - val_action_move_loss: 0.2203 - val_action_rotate_loss: 0.2603 - val_action_move_acc: 0.9210 - val_action_rotate_acc: 0.9134\n",
      "Epoch 21/500\n",
      "30592/30592 [==============================] - 7s 245us/sample - loss: 0.5321 - action_move_loss: 0.2415 - action_rotate_loss: 0.2907 - action_move_acc: 0.9063 - action_rotate_acc: 0.8988 - val_loss: 0.4811 - val_action_move_loss: 0.2207 - val_action_rotate_loss: 0.2602 - val_action_move_acc: 0.9225 - val_action_rotate_acc: 0.9151\n",
      "Epoch 22/500\n",
      "30592/30592 [==============================] - 7s 243us/sample - loss: 0.5298 - action_move_loss: 0.2403 - action_rotate_loss: 0.2894 - action_move_acc: 0.9060 - action_rotate_acc: 0.8992 - val_loss: 0.4823 - val_action_move_loss: 0.2207 - val_action_rotate_loss: 0.2616 - val_action_move_acc: 0.9211 - val_action_rotate_acc: 0.9146\n",
      "Epoch 23/500\n",
      "30592/30592 [==============================] - 7s 243us/sample - loss: 0.5284 - action_move_loss: 0.2399 - action_rotate_loss: 0.2885 - action_move_acc: 0.9072 - action_rotate_acc: 0.8998 - val_loss: 0.4783 - val_action_move_loss: 0.2188 - val_action_rotate_loss: 0.2596 - val_action_move_acc: 0.9228 - val_action_rotate_acc: 0.9159\n",
      "Epoch 24/500\n",
      "30592/30592 [==============================] - 7s 243us/sample - loss: 0.5248 - action_move_loss: 0.2383 - action_rotate_loss: 0.2865 - action_move_acc: 0.9068 - action_rotate_acc: 0.9006 - val_loss: 0.4877 - val_action_move_loss: 0.2236 - val_action_rotate_loss: 0.2641 - val_action_move_acc: 0.9192 - val_action_rotate_acc: 0.9127\n",
      "Epoch 25/500\n",
      "30592/30592 [==============================] - 7s 245us/sample - loss: 0.5232 - action_move_loss: 0.2376 - action_rotate_loss: 0.2856 - action_move_acc: 0.9069 - action_rotate_acc: 0.9009 - val_loss: 0.4857 - val_action_move_loss: 0.2223 - val_action_rotate_loss: 0.2636 - val_action_move_acc: 0.9218 - val_action_rotate_acc: 0.9121\n",
      "Epoch 26/500\n",
      "30592/30592 [==============================] - 7s 242us/sample - loss: 0.5214 - action_move_loss: 0.2367 - action_rotate_loss: 0.2847 - action_move_acc: 0.9080 - action_rotate_acc: 0.9010 - val_loss: 0.4878 - val_action_move_loss: 0.2231 - val_action_rotate_loss: 0.2646 - val_action_move_acc: 0.9202 - val_action_rotate_acc: 0.9130\n",
      "Epoch 27/500\n",
      "30592/30592 [==============================] - 7s 240us/sample - loss: 0.5180 - action_move_loss: 0.2351 - action_rotate_loss: 0.2828 - action_move_acc: 0.9082 - action_rotate_acc: 0.9018 - val_loss: 0.4868 - val_action_move_loss: 0.2230 - val_action_rotate_loss: 0.2639 - val_action_move_acc: 0.9207 - val_action_rotate_acc: 0.9152\n",
      "Epoch 28/500\n",
      "30592/30592 [==============================] - 8s 247us/sample - loss: 0.5157 - action_move_loss: 0.2342 - action_rotate_loss: 0.2815 - action_move_acc: 0.9093 - action_rotate_acc: 0.9028 - val_loss: 0.4909 - val_action_move_loss: 0.2247 - val_action_rotate_loss: 0.2663 - val_action_move_acc: 0.9192 - val_action_rotate_acc: 0.9128\n",
      "Epoch 29/500\n",
      "30592/30592 [==============================] - 7s 239us/sample - loss: 0.5120 - action_move_loss: 0.2323 - action_rotate_loss: 0.2797 - action_move_acc: 0.9093 - action_rotate_acc: 0.9028 - val_loss: 0.4923 - val_action_move_loss: 0.2256 - val_action_rotate_loss: 0.2664 - val_action_move_acc: 0.9212 - val_action_rotate_acc: 0.9125\n",
      "Epoch 30/500\n",
      "30592/30592 [==============================] - 7s 239us/sample - loss: 0.5131 - action_move_loss: 0.2329 - action_rotate_loss: 0.2802 - action_move_acc: 0.9092 - action_rotate_acc: 0.9028 - val_loss: 0.4979 - val_action_move_loss: 0.2270 - val_action_rotate_loss: 0.2712 - val_action_move_acc: 0.9196 - val_action_rotate_acc: 0.9118\n",
      "Epoch 31/500\n",
      "30592/30592 [==============================] - 7s 239us/sample - loss: 0.5093 - action_move_loss: 0.2311 - action_rotate_loss: 0.2782 - action_move_acc: 0.9097 - action_rotate_acc: 0.9035 - val_loss: 0.5187 - val_action_move_loss: 0.2382 - val_action_rotate_loss: 0.2806 - val_action_move_acc: 0.9177 - val_action_rotate_acc: 0.9121\n",
      "Epoch 32/500\n",
      "30592/30592 [==============================] - 7s 240us/sample - loss: 0.5059 - action_move_loss: 0.2293 - action_rotate_loss: 0.2766 - action_move_acc: 0.9108 - action_rotate_acc: 0.9041 - val_loss: 0.4836 - val_action_move_loss: 0.2214 - val_action_rotate_loss: 0.2625 - val_action_move_acc: 0.9192 - val_action_rotate_acc: 0.9136\n",
      "Epoch 33/500\n",
      "30592/30592 [==============================] - 7s 240us/sample - loss: 0.5034 - action_move_loss: 0.2280 - action_rotate_loss: 0.2753 - action_move_acc: 0.9111 - action_rotate_acc: 0.9051 - val_loss: 0.4933 - val_action_move_loss: 0.2256 - val_action_rotate_loss: 0.2676 - val_action_move_acc: 0.9198 - val_action_rotate_acc: 0.9139\n",
      "Epoch 34/500\n",
      "30560/30592 [============================>.] - ETA: 0s - loss: 0.5025 - action_move_loss: 0.2279 - action_rotate_loss: 0.2746 - action_move_acc: 0.9108 - action_rotate_acc: 0.9049Restoring model weights from the end of the best epoch.\n",
      "30592/30592 [==============================] - 7s 242us/sample - loss: 0.5025 - action_move_loss: 0.2279 - action_rotate_loss: 0.2746 - action_move_acc: 0.9108 - action_rotate_acc: 0.9049 - val_loss: 0.4981 - val_action_move_loss: 0.2277 - val_action_rotate_loss: 0.2709 - val_action_move_acc: 0.9182 - val_action_rotate_acc: 0.9103\n",
      "Epoch 00034: early stopping\n",
      "loss 0.5025\n",
      "val_loss 0.4742\n"
     ]
    },
    {
     "data": {
      "image/png": "[encoded data removed]",
      "text/plain": [
       "<Figure size 432x288 with 1 Axes>"
      ]
     },
     "metadata": {
      "needs_background": "light"
     },
     "output_type": "display_data"
    }
   ],
   "source": [
    "args = [8, 8, 16, 16, 32], [16]\n",
    "model = train_model(*args)\n",
    "model.save('/media/guillermo/Data/Kaggle/animalai/agents/003_less_games/model_%s.hdf' % str(args))"
   ]
  },
  {
   "cell_type": "code",
   "execution_count": 34,
   "metadata": {
    "ExecuteTime": {
     "end_time": "2019-07-19T17:29:41.869243Z",
     "start_time": "2019-07-19T17:26:06.782833Z"
    }
   },
   "outputs": [
    {
     "name": "stdout",
     "output_type": "stream",
     "text": [
      "Model: \"model_3\"\n",
      "__________________________________________________________________________________________________\n",
      "Layer (type)                    Output Shape         Param #     Connected to                     \n",
      "==================================================================================================\n",
      "frame (InputLayer)              [(None, 84, 84, 3)]  0                                            \n",
      "__________________________________________________________________________________________________\n",
      "conv2d_20 (Conv2D)              (None, 82, 82, 8)    224         frame[0][0]                      \n",
      "__________________________________________________________________________________________________\n",
      "max_pooling2d_17 (MaxPooling2D) (None, 41, 41, 8)    0           conv2d_20[0][0]                  \n",
      "__________________________________________________________________________________________________\n",
      "conv2d_21 (Conv2D)              (None, 39, 39, 16)   1168        max_pooling2d_17[0][0]           \n",
      "__________________________________________________________________________________________________\n",
      "max_pooling2d_18 (MaxPooling2D) (None, 19, 19, 16)   0           conv2d_21[0][0]                  \n",
      "__________________________________________________________________________________________________\n",
      "conv2d_22 (Conv2D)              (None, 17, 17, 32)   4640        max_pooling2d_18[0][0]           \n",
      "__________________________________________________________________________________________________\n",
      "max_pooling2d_19 (MaxPooling2D) (None, 8, 8, 32)     0           conv2d_22[0][0]                  \n",
      "__________________________________________________________________________________________________\n",
      "conv2d_23 (Conv2D)              (None, 6, 6, 64)     18496       max_pooling2d_19[0][0]           \n",
      "__________________________________________________________________________________________________\n",
      "max_pooling2d_20 (MaxPooling2D) (None, 3, 3, 64)     0           conv2d_23[0][0]                  \n",
      "__________________________________________________________________________________________________\n",
      "conv2d_24 (Conv2D)              (None, 1, 1, 128)    73856       max_pooling2d_20[0][0]           \n",
      "__________________________________________________________________________________________________\n",
      "flatten_3 (Flatten)             (None, 128)          0           conv2d_24[0][0]                  \n",
      "__________________________________________________________________________________________________\n",
      "speed (InputLayer)              [(None, 3)]          0                                            \n",
      "__________________________________________________________________________________________________\n",
      "previous_action (InputLayer)    [(None, 6)]          0                                            \n",
      "__________________________________________________________________________________________________\n",
      "concatenate_3 (Concatenate)     (None, 137)          0           flatten_3[0][0]                  \n",
      "                                                                 speed[0][0]                      \n",
      "                                                                 previous_action[0][0]            \n",
      "__________________________________________________________________________________________________\n",
      "dense_3 (Dense)                 (None, 16)           2208        concatenate_3[0][0]              \n",
      "__________________________________________________________________________________________________\n",
      "action_move (Dense)             (None, 3)            51          dense_3[0][0]                    \n",
      "__________________________________________________________________________________________________\n",
      "action_rotate (Dense)           (None, 3)            51          dense_3[0][0]                    \n",
      "==================================================================================================\n",
      "Total params: 100,694\n",
      "Trainable params: 100,694\n",
      "Non-trainable params: 0\n",
      "__________________________________________________________________________________________________\n",
      "Train on 30592 samples, validate on 8312 samples\n",
      "Epoch 1/500\n",
      "30592/30592 [==============================] - 8s 264us/sample - loss: 0.8294 - action_move_loss: 0.3637 - action_rotate_loss: 0.4657 - action_move_acc: 0.8652 - action_rotate_acc: 0.8545 - val_loss: 0.5311 - val_action_move_loss: 0.2445 - val_action_rotate_loss: 0.2869 - val_action_move_acc: 0.9111 - val_action_rotate_acc: 0.9046\n",
      "Epoch 2/500\n",
      "30592/30592 [==============================] - 7s 245us/sample - loss: 0.6005 - action_move_loss: 0.2730 - action_rotate_loss: 0.3275 - action_move_acc: 0.8925 - action_rotate_acc: 0.8876 - val_loss: 0.4943 - val_action_move_loss: 0.2266 - val_action_rotate_loss: 0.2678 - val_action_move_acc: 0.9207 - val_action_rotate_acc: 0.9100\n",
      "Epoch 3/500\n",
      "30592/30592 [==============================] - 7s 244us/sample - loss: 0.5715 - action_move_loss: 0.2592 - action_rotate_loss: 0.3123 - action_move_acc: 0.9004 - action_rotate_acc: 0.8915 - val_loss: 0.4891 - val_action_move_loss: 0.2239 - val_action_rotate_loss: 0.2654 - val_action_move_acc: 0.9212 - val_action_rotate_acc: 0.9118\n",
      "Epoch 4/500\n",
      "30592/30592 [==============================] - 8s 246us/sample - loss: 0.5613 - action_move_loss: 0.2548 - action_rotate_loss: 0.3065 - action_move_acc: 0.9014 - action_rotate_acc: 0.8925 - val_loss: 0.4761 - val_action_move_loss: 0.2179 - val_action_rotate_loss: 0.2580 - val_action_move_acc: 0.9228 - val_action_rotate_acc: 0.9128\n",
      "Epoch 5/500\n",
      "30592/30592 [==============================] - 8s 247us/sample - loss: 0.5549 - action_move_loss: 0.2518 - action_rotate_loss: 0.3030 - action_move_acc: 0.9022 - action_rotate_acc: 0.8924 - val_loss: 0.4828 - val_action_move_loss: 0.2197 - val_action_rotate_loss: 0.2627 - val_action_move_acc: 0.9206 - val_action_rotate_acc: 0.9128\n",
      "Epoch 6/500\n",
      "30592/30592 [==============================] - 8s 253us/sample - loss: 0.5490 - action_move_loss: 0.2497 - action_rotate_loss: 0.2993 - action_move_acc: 0.9033 - action_rotate_acc: 0.8953 - val_loss: 0.4874 - val_action_move_loss: 0.2221 - val_action_rotate_loss: 0.2651 - val_action_move_acc: 0.9195 - val_action_rotate_acc: 0.9140\n",
      "Epoch 7/500\n",
      "30592/30592 [==============================] - 8s 246us/sample - loss: 0.5453 - action_move_loss: 0.2479 - action_rotate_loss: 0.2974 - action_move_acc: 0.9027 - action_rotate_acc: 0.8952 - val_loss: 0.4917 - val_action_move_loss: 0.2250 - val_action_rotate_loss: 0.2671 - val_action_move_acc: 0.9178 - val_action_rotate_acc: 0.9094\n",
      "Epoch 8/500\n",
      "30592/30592 [==============================] - 8s 246us/sample - loss: 0.5400 - action_move_loss: 0.2453 - action_rotate_loss: 0.2948 - action_move_acc: 0.9042 - action_rotate_acc: 0.8969 - val_loss: 0.4705 - val_action_move_loss: 0.2152 - val_action_rotate_loss: 0.2553 - val_action_move_acc: 0.9211 - val_action_rotate_acc: 0.9148\n",
      "Epoch 9/500\n",
      "30592/30592 [==============================] - 8s 246us/sample - loss: 0.5336 - action_move_loss: 0.2423 - action_rotate_loss: 0.2913 - action_move_acc: 0.9051 - action_rotate_acc: 0.8973 - val_loss: 0.4728 - val_action_move_loss: 0.2169 - val_action_rotate_loss: 0.2562 - val_action_move_acc: 0.9206 - val_action_rotate_acc: 0.9125\n",
      "Epoch 10/500\n",
      "30592/30592 [==============================] - 8s 247us/sample - loss: 0.5291 - action_move_loss: 0.2405 - action_rotate_loss: 0.2885 - action_move_acc: 0.9058 - action_rotate_acc: 0.8988 - val_loss: 0.4776 - val_action_move_loss: 0.2177 - val_action_rotate_loss: 0.2600 - val_action_move_acc: 0.9199 - val_action_rotate_acc: 0.9125\n",
      "Epoch 11/500\n",
      "30592/30592 [==============================] - 8s 249us/sample - loss: 0.5237 - action_move_loss: 0.2381 - action_rotate_loss: 0.2856 - action_move_acc: 0.9066 - action_rotate_acc: 0.8992 - val_loss: 0.4784 - val_action_move_loss: 0.2197 - val_action_rotate_loss: 0.2588 - val_action_move_acc: 0.9200 - val_action_rotate_acc: 0.9140\n",
      "Epoch 12/500\n",
      "30592/30592 [==============================] - 8s 249us/sample - loss: 0.5202 - action_move_loss: 0.2366 - action_rotate_loss: 0.2837 - action_move_acc: 0.9076 - action_rotate_acc: 0.9011 - val_loss: 0.4751 - val_action_move_loss: 0.2176 - val_action_rotate_loss: 0.2573 - val_action_move_acc: 0.9196 - val_action_rotate_acc: 0.9129\n"
     ]
    },
    {
     "name": "stdout",
     "output_type": "stream",
     "text": [
      "Epoch 13/500\n",
      "30592/30592 [==============================] - 7s 242us/sample - loss: 0.5115 - action_move_loss: 0.2323 - action_rotate_loss: 0.2792 - action_move_acc: 0.9094 - action_rotate_acc: 0.9025 - val_loss: 0.4820 - val_action_move_loss: 0.2199 - val_action_rotate_loss: 0.2619 - val_action_move_acc: 0.9177 - val_action_rotate_acc: 0.9104\n",
      "Epoch 14/500\n",
      "30592/30592 [==============================] - 7s 245us/sample - loss: 0.5011 - action_move_loss: 0.2280 - action_rotate_loss: 0.2731 - action_move_acc: 0.9102 - action_rotate_acc: 0.9036 - val_loss: 0.4981 - val_action_move_loss: 0.2286 - val_action_rotate_loss: 0.2693 - val_action_move_acc: 0.9143 - val_action_rotate_acc: 0.9112\n",
      "Epoch 15/500\n",
      "30592/30592 [==============================] - 8s 252us/sample - loss: 0.4903 - action_move_loss: 0.2232 - action_rotate_loss: 0.2671 - action_move_acc: 0.9118 - action_rotate_acc: 0.9057 - val_loss: 0.5310 - val_action_move_loss: 0.2455 - val_action_rotate_loss: 0.2852 - val_action_move_acc: 0.9096 - val_action_rotate_acc: 0.9044\n",
      "Epoch 16/500\n",
      "30592/30592 [==============================] - 8s 258us/sample - loss: 0.4828 - action_move_loss: 0.2197 - action_rotate_loss: 0.2631 - action_move_acc: 0.9131 - action_rotate_acc: 0.9073 - val_loss: 0.5070 - val_action_move_loss: 0.2333 - val_action_rotate_loss: 0.2740 - val_action_move_acc: 0.9160 - val_action_rotate_acc: 0.9113\n",
      "Epoch 17/500\n",
      "30592/30592 [==============================] - 8s 252us/sample - loss: 0.4715 - action_move_loss: 0.2145 - action_rotate_loss: 0.2570 - action_move_acc: 0.9156 - action_rotate_acc: 0.9102 - val_loss: 0.5348 - val_action_move_loss: 0.2481 - val_action_rotate_loss: 0.2867 - val_action_move_acc: 0.9048 - val_action_rotate_acc: 0.9019\n",
      "Epoch 18/500\n",
      "30592/30592 [==============================] - 8s 256us/sample - loss: 0.4565 - action_move_loss: 0.2072 - action_rotate_loss: 0.2493 - action_move_acc: 0.9181 - action_rotate_acc: 0.9135 - val_loss: 0.5241 - val_action_move_loss: 0.2421 - val_action_rotate_loss: 0.2823 - val_action_move_acc: 0.9104 - val_action_rotate_acc: 0.9068\n",
      "Epoch 19/500\n",
      "30592/30592 [==============================] - 8s 253us/sample - loss: 0.4423 - action_move_loss: 0.2004 - action_rotate_loss: 0.2419 - action_move_acc: 0.9205 - action_rotate_acc: 0.9156 - val_loss: 0.5399 - val_action_move_loss: 0.2508 - val_action_rotate_loss: 0.2892 - val_action_move_acc: 0.9124 - val_action_rotate_acc: 0.9083\n",
      "Epoch 20/500\n",
      "30592/30592 [==============================] - 8s 247us/sample - loss: 0.4269 - action_move_loss: 0.1932 - action_rotate_loss: 0.2337 - action_move_acc: 0.9237 - action_rotate_acc: 0.9175 - val_loss: 0.5701 - val_action_move_loss: 0.2637 - val_action_rotate_loss: 0.3067 - val_action_move_acc: 0.9040 - val_action_rotate_acc: 0.8999\n",
      "Epoch 21/500\n",
      "30592/30592 [==============================] - 8s 249us/sample - loss: 0.4103 - action_move_loss: 0.1854 - action_rotate_loss: 0.2248 - action_move_acc: 0.9262 - action_rotate_acc: 0.9212 - val_loss: 0.5928 - val_action_move_loss: 0.2763 - val_action_rotate_loss: 0.3162 - val_action_move_acc: 0.9050 - val_action_rotate_acc: 0.8999\n",
      "Epoch 22/500\n",
      "30592/30592 [==============================] - 8s 248us/sample - loss: 0.3930 - action_move_loss: 0.1773 - action_rotate_loss: 0.2157 - action_move_acc: 0.9297 - action_rotate_acc: 0.9249 - val_loss: 0.6306 - val_action_move_loss: 0.2946 - val_action_rotate_loss: 0.3355 - val_action_move_acc: 0.8988 - val_action_rotate_acc: 0.8951\n",
      "Epoch 23/500\n",
      "30592/30592 [==============================] - 7s 243us/sample - loss: 0.3742 - action_move_loss: 0.1682 - action_rotate_loss: 0.2060 - action_move_acc: 0.9330 - action_rotate_acc: 0.9273 - val_loss: 0.6513 - val_action_move_loss: 0.3070 - val_action_rotate_loss: 0.3440 - val_action_move_acc: 0.9021 - val_action_rotate_acc: 0.8977\n",
      "Epoch 24/500\n",
      "30592/30592 [==============================] - 8s 251us/sample - loss: 0.3598 - action_move_loss: 0.1619 - action_rotate_loss: 0.1979 - action_move_acc: 0.9353 - action_rotate_acc: 0.9301 - val_loss: 0.7154 - val_action_move_loss: 0.3345 - val_action_rotate_loss: 0.3804 - val_action_move_acc: 0.8939 - val_action_rotate_acc: 0.8888\n",
      "Epoch 25/500\n",
      "30592/30592 [==============================] - 8s 245us/sample - loss: 0.3348 - action_move_loss: 0.1504 - action_rotate_loss: 0.1844 - action_move_acc: 0.9401 - action_rotate_acc: 0.9350 - val_loss: 0.7002 - val_action_move_loss: 0.3291 - val_action_rotate_loss: 0.3713 - val_action_move_acc: 0.8940 - val_action_rotate_acc: 0.8911\n",
      "Epoch 26/500\n",
      "30592/30592 [==============================] - 8s 247us/sample - loss: 0.3136 - action_move_loss: 0.1401 - action_rotate_loss: 0.1735 - action_move_acc: 0.9429 - action_rotate_acc: 0.9373 - val_loss: 0.7721 - val_action_move_loss: 0.3663 - val_action_rotate_loss: 0.4055 - val_action_move_acc: 0.8905 - val_action_rotate_acc: 0.8885\n",
      "Epoch 27/500\n",
      "30592/30592 [==============================] - 8s 248us/sample - loss: 0.2979 - action_move_loss: 0.1324 - action_rotate_loss: 0.1655 - action_move_acc: 0.9463 - action_rotate_acc: 0.9397 - val_loss: 0.8274 - val_action_move_loss: 0.3918 - val_action_rotate_loss: 0.4355 - val_action_move_acc: 0.8908 - val_action_rotate_acc: 0.8864\n",
      "Epoch 28/500\n",
      "30432/30592 [============================>.] - ETA: 0s - loss: 0.2760 - action_move_loss: 0.1228 - action_rotate_loss: 0.1533 - action_move_acc: 0.9507 - action_rotate_acc: 0.9441Restoring model weights from the end of the best epoch.\n",
      "30592/30592 [==============================] - 8s 257us/sample - loss: 0.2762 - action_move_loss: 0.1229 - action_rotate_loss: 0.1533 - action_move_acc: 0.9506 - action_rotate_acc: 0.9441 - val_loss: 0.8810 - val_action_move_loss: 0.4211 - val_action_rotate_loss: 0.4601 - val_action_move_acc: 0.8893 - val_action_rotate_acc: 0.8869\n",
      "Epoch 00028: early stopping\n",
      "loss 0.2762\n",
      "val_loss 0.4705\n"
     ]
    },
    {
     "data": {
      "image/png": "[encoded data removed]",
      "text/plain": [
       "<Figure size 432x288 with 1 Axes>"
      ]
     },
     "metadata": {
      "needs_background": "light"
     },
     "output_type": "display_data"
    }
   ],
   "source": [
    "args = [8, 16, 32, 64, 128], [16]\n",
    "model = train_model(*args)\n",
    "model.save('/media/guillermo/Data/Kaggle/animalai/agents/003_less_games/model_%s.hdf' % str(args))"
   ]
  },
  {
   "cell_type": "code",
   "execution_count": 35,
   "metadata": {
    "ExecuteTime": {
     "end_time": "2019-07-19T17:34:32.919042Z",
     "start_time": "2019-07-19T17:30:31.959201Z"
    }
   },
   "outputs": [
    {
     "name": "stdout",
     "output_type": "stream",
     "text": [
      "Model: \"model_4\"\n",
      "__________________________________________________________________________________________________\n",
      "Layer (type)                    Output Shape         Param #     Connected to                     \n",
      "==================================================================================================\n",
      "frame (InputLayer)              [(None, 84, 84, 3)]  0                                            \n",
      "__________________________________________________________________________________________________\n",
      "conv2d_25 (Conv2D)              (None, 82, 82, 8)    224         frame[0][0]                      \n",
      "__________________________________________________________________________________________________\n",
      "max_pooling2d_21 (MaxPooling2D) (None, 41, 41, 8)    0           conv2d_25[0][0]                  \n",
      "__________________________________________________________________________________________________\n",
      "conv2d_26 (Conv2D)              (None, 39, 39, 16)   1168        max_pooling2d_21[0][0]           \n",
      "__________________________________________________________________________________________________\n",
      "max_pooling2d_22 (MaxPooling2D) (None, 19, 19, 16)   0           conv2d_26[0][0]                  \n",
      "__________________________________________________________________________________________________\n",
      "conv2d_27 (Conv2D)              (None, 17, 17, 32)   4640        max_pooling2d_22[0][0]           \n",
      "__________________________________________________________________________________________________\n",
      "max_pooling2d_23 (MaxPooling2D) (None, 8, 8, 32)     0           conv2d_27[0][0]                  \n",
      "__________________________________________________________________________________________________\n",
      "conv2d_28 (Conv2D)              (None, 6, 6, 64)     18496       max_pooling2d_23[0][0]           \n",
      "__________________________________________________________________________________________________\n",
      "max_pooling2d_24 (MaxPooling2D) (None, 3, 3, 64)     0           conv2d_28[0][0]                  \n",
      "__________________________________________________________________________________________________\n",
      "conv2d_29 (Conv2D)              (None, 1, 1, 64)     36928       max_pooling2d_24[0][0]           \n",
      "__________________________________________________________________________________________________\n",
      "flatten_4 (Flatten)             (None, 64)           0           conv2d_29[0][0]                  \n",
      "__________________________________________________________________________________________________\n",
      "speed (InputLayer)              [(None, 3)]          0                                            \n",
      "__________________________________________________________________________________________________\n",
      "previous_action (InputLayer)    [(None, 6)]          0                                            \n",
      "__________________________________________________________________________________________________\n",
      "concatenate_4 (Concatenate)     (None, 73)           0           flatten_4[0][0]                  \n",
      "                                                                 speed[0][0]                      \n",
      "                                                                 previous_action[0][0]            \n",
      "__________________________________________________________________________________________________\n",
      "dense_4 (Dense)                 (None, 16)           1184        concatenate_4[0][0]              \n",
      "__________________________________________________________________________________________________\n",
      "dense_5 (Dense)                 (None, 16)           272         dense_4[0][0]                    \n",
      "__________________________________________________________________________________________________\n",
      "action_move (Dense)             (None, 3)            51          dense_5[0][0]                    \n",
      "__________________________________________________________________________________________________\n",
      "action_rotate (Dense)           (None, 3)            51          dense_5[0][0]                    \n",
      "==================================================================================================\n",
      "Total params: 63,014\n",
      "Trainable params: 63,014\n",
      "Non-trainable params: 0\n",
      "__________________________________________________________________________________________________\n",
      "Train on 30592 samples, validate on 8312 samples\n",
      "Epoch 1/500\n",
      "30592/30592 [==============================] - 8s 274us/sample - loss: 1.0425 - action_move_loss: 0.4303 - action_rotate_loss: 0.6122 - action_move_acc: 0.8115 - action_rotate_acc: 0.7728 - val_loss: 0.5935 - val_action_move_loss: 0.2667 - val_action_rotate_loss: 0.3268 - val_action_move_acc: 0.9093 - val_action_rotate_acc: 0.9005\n",
      "Epoch 2/500\n",
      "30592/30592 [==============================] - 8s 257us/sample - loss: 0.6498 - action_move_loss: 0.2948 - action_rotate_loss: 0.3550 - action_move_acc: 0.8870 - action_rotate_acc: 0.8822 - val_loss: 0.5207 - val_action_move_loss: 0.2423 - val_action_rotate_loss: 0.2787 - val_action_move_acc: 0.9115 - val_action_rotate_acc: 0.9054\n",
      "Epoch 3/500\n",
      "30592/30592 [==============================] - 8s 253us/sample - loss: 0.6084 - action_move_loss: 0.2796 - action_rotate_loss: 0.3288 - action_move_acc: 0.8908 - action_rotate_acc: 0.8867 - val_loss: 0.5438 - val_action_move_loss: 0.2536 - val_action_rotate_loss: 0.2905 - val_action_move_acc: 0.9124 - val_action_rotate_acc: 0.9053\n",
      "Epoch 4/500\n",
      "30592/30592 [==============================] - 8s 255us/sample - loss: 0.5894 - action_move_loss: 0.2694 - action_rotate_loss: 0.3200 - action_move_acc: 0.8944 - action_rotate_acc: 0.8876 - val_loss: 0.4833 - val_action_move_loss: 0.2216 - val_action_rotate_loss: 0.2615 - val_action_move_acc: 0.9179 - val_action_rotate_acc: 0.9112\n",
      "Epoch 5/500\n",
      "30592/30592 [==============================] - 8s 257us/sample - loss: 0.5762 - action_move_loss: 0.2616 - action_rotate_loss: 0.3146 - action_move_acc: 0.8988 - action_rotate_acc: 0.8893 - val_loss: 0.4831 - val_action_move_loss: 0.2212 - val_action_rotate_loss: 0.2617 - val_action_move_acc: 0.9178 - val_action_rotate_acc: 0.9100\n",
      "Epoch 6/500\n",
      "30592/30592 [==============================] - 8s 260us/sample - loss: 0.5689 - action_move_loss: 0.2569 - action_rotate_loss: 0.3120 - action_move_acc: 0.9013 - action_rotate_acc: 0.8911 - val_loss: 0.4783 - val_action_move_loss: 0.2168 - val_action_rotate_loss: 0.2613 - val_action_move_acc: 0.9201 - val_action_rotate_acc: 0.9107\n",
      "Epoch 7/500\n",
      "30592/30592 [==============================] - 8s 258us/sample - loss: 0.5616 - action_move_loss: 0.2535 - action_rotate_loss: 0.3081 - action_move_acc: 0.9012 - action_rotate_acc: 0.8920 - val_loss: 0.4856 - val_action_move_loss: 0.2223 - val_action_rotate_loss: 0.2635 - val_action_move_acc: 0.9237 - val_action_rotate_acc: 0.9128\n",
      "Epoch 8/500\n",
      "30592/30592 [==============================] - 8s 250us/sample - loss: 0.5590 - action_move_loss: 0.2522 - action_rotate_loss: 0.3068 - action_move_acc: 0.9017 - action_rotate_acc: 0.8915 - val_loss: 0.4900 - val_action_move_loss: 0.2236 - val_action_rotate_loss: 0.2663 - val_action_move_acc: 0.9210 - val_action_rotate_acc: 0.9090\n",
      "Epoch 9/500\n",
      "30592/30592 [==============================] - 7s 244us/sample - loss: 0.5549 - action_move_loss: 0.2507 - action_rotate_loss: 0.3042 - action_move_acc: 0.9018 - action_rotate_acc: 0.8919 - val_loss: 0.4796 - val_action_move_loss: 0.2160 - val_action_rotate_loss: 0.2633 - val_action_move_acc: 0.9225 - val_action_rotate_acc: 0.9109\n",
      "Epoch 10/500\n",
      "30592/30592 [==============================] - 7s 242us/sample - loss: 0.5510 - action_move_loss: 0.2493 - action_rotate_loss: 0.3017 - action_move_acc: 0.9040 - action_rotate_acc: 0.8941 - val_loss: 0.4949 - val_action_move_loss: 0.2227 - val_action_rotate_loss: 0.2723 - val_action_move_acc: 0.9228 - val_action_rotate_acc: 0.9109\n",
      "Epoch 11/500\n",
      "30592/30592 [==============================] - 8s 261us/sample - loss: 0.5501 - action_move_loss: 0.2483 - action_rotate_loss: 0.3018 - action_move_acc: 0.9036 - action_rotate_acc: 0.8938 - val_loss: 0.4678 - val_action_move_loss: 0.2108 - val_action_rotate_loss: 0.2568 - val_action_move_acc: 0.9232 - val_action_rotate_acc: 0.9127\n",
      "Epoch 12/500\n"
     ]
    },
    {
     "name": "stdout",
     "output_type": "stream",
     "text": [
      "30592/30592 [==============================] - 8s 252us/sample - loss: 0.5451 - action_move_loss: 0.2463 - action_rotate_loss: 0.2988 - action_move_acc: 0.9037 - action_rotate_acc: 0.8939 - val_loss: 0.4703 - val_action_move_loss: 0.2126 - val_action_rotate_loss: 0.2574 - val_action_move_acc: 0.9230 - val_action_rotate_acc: 0.9145\n",
      "Epoch 13/500\n",
      "30592/30592 [==============================] - 8s 252us/sample - loss: 0.5429 - action_move_loss: 0.2454 - action_rotate_loss: 0.2975 - action_move_acc: 0.9036 - action_rotate_acc: 0.8940 - val_loss: 0.4807 - val_action_move_loss: 0.2193 - val_action_rotate_loss: 0.2614 - val_action_move_acc: 0.9223 - val_action_rotate_acc: 0.9110\n",
      "Epoch 14/500\n",
      "30592/30592 [==============================] - 8s 250us/sample - loss: 0.5394 - action_move_loss: 0.2436 - action_rotate_loss: 0.2958 - action_move_acc: 0.9052 - action_rotate_acc: 0.8952 - val_loss: 0.4711 - val_action_move_loss: 0.2131 - val_action_rotate_loss: 0.2578 - val_action_move_acc: 0.9238 - val_action_rotate_acc: 0.9145\n",
      "Epoch 15/500\n",
      "30592/30592 [==============================] - 8s 251us/sample - loss: 0.5384 - action_move_loss: 0.2435 - action_rotate_loss: 0.2949 - action_move_acc: 0.9059 - action_rotate_acc: 0.8967 - val_loss: 0.4736 - val_action_move_loss: 0.2140 - val_action_rotate_loss: 0.2599 - val_action_move_acc: 0.9222 - val_action_rotate_acc: 0.9125\n",
      "Epoch 16/500\n",
      "30592/30592 [==============================] - 8s 255us/sample - loss: 0.5347 - action_move_loss: 0.2419 - action_rotate_loss: 0.2928 - action_move_acc: 0.9050 - action_rotate_acc: 0.8946 - val_loss: 0.4735 - val_action_move_loss: 0.2150 - val_action_rotate_loss: 0.2586 - val_action_move_acc: 0.9228 - val_action_rotate_acc: 0.9159\n",
      "Epoch 17/500\n",
      "30592/30592 [==============================] - 8s 253us/sample - loss: 0.5316 - action_move_loss: 0.2406 - action_rotate_loss: 0.2910 - action_move_acc: 0.9061 - action_rotate_acc: 0.8972 - val_loss: 0.4751 - val_action_move_loss: 0.2155 - val_action_rotate_loss: 0.2594 - val_action_move_acc: 0.9218 - val_action_rotate_acc: 0.9136\n",
      "Epoch 18/500\n",
      "30592/30592 [==============================] - 8s 254us/sample - loss: 0.5280 - action_move_loss: 0.2388 - action_rotate_loss: 0.2892 - action_move_acc: 0.9056 - action_rotate_acc: 0.8977 - val_loss: 0.4778 - val_action_move_loss: 0.2165 - val_action_rotate_loss: 0.2613 - val_action_move_acc: 0.9223 - val_action_rotate_acc: 0.9152\n",
      "Epoch 19/500\n",
      "30592/30592 [==============================] - 7s 242us/sample - loss: 0.5237 - action_move_loss: 0.2367 - action_rotate_loss: 0.2870 - action_move_acc: 0.9080 - action_rotate_acc: 0.8991 - val_loss: 0.4787 - val_action_move_loss: 0.2167 - val_action_rotate_loss: 0.2619 - val_action_move_acc: 0.9223 - val_action_rotate_acc: 0.9143\n",
      "Epoch 20/500\n",
      "30592/30592 [==============================] - 7s 242us/sample - loss: 0.5204 - action_move_loss: 0.2360 - action_rotate_loss: 0.2844 - action_move_acc: 0.9074 - action_rotate_acc: 0.8998 - val_loss: 0.4750 - val_action_move_loss: 0.2155 - val_action_rotate_loss: 0.2595 - val_action_move_acc: 0.9228 - val_action_rotate_acc: 0.9131\n",
      "Epoch 21/500\n",
      "30592/30592 [==============================] - 7s 242us/sample - loss: 0.5175 - action_move_loss: 0.2346 - action_rotate_loss: 0.2828 - action_move_acc: 0.9077 - action_rotate_acc: 0.9005 - val_loss: 0.4787 - val_action_move_loss: 0.2162 - val_action_rotate_loss: 0.2624 - val_action_move_acc: 0.9220 - val_action_rotate_acc: 0.9140\n",
      "Epoch 22/500\n",
      "30592/30592 [==============================] - 7s 242us/sample - loss: 0.5137 - action_move_loss: 0.2330 - action_rotate_loss: 0.2807 - action_move_acc: 0.9082 - action_rotate_acc: 0.9009 - val_loss: 0.4809 - val_action_move_loss: 0.2160 - val_action_rotate_loss: 0.2652 - val_action_move_acc: 0.9212 - val_action_rotate_acc: 0.9112\n",
      "Epoch 23/500\n",
      "30592/30592 [==============================] - 7s 240us/sample - loss: 0.5115 - action_move_loss: 0.2317 - action_rotate_loss: 0.2798 - action_move_acc: 0.9089 - action_rotate_acc: 0.9016 - val_loss: 0.4841 - val_action_move_loss: 0.2201 - val_action_rotate_loss: 0.2643 - val_action_move_acc: 0.9217 - val_action_rotate_acc: 0.9125\n",
      "Epoch 24/500\n",
      "30592/30592 [==============================] - 7s 239us/sample - loss: 0.5053 - action_move_loss: 0.2291 - action_rotate_loss: 0.2761 - action_move_acc: 0.9095 - action_rotate_acc: 0.9016 - val_loss: 0.4859 - val_action_move_loss: 0.2205 - val_action_rotate_loss: 0.2657 - val_action_move_acc: 0.9216 - val_action_rotate_acc: 0.9151\n",
      "Epoch 25/500\n",
      "30592/30592 [==============================] - 8s 249us/sample - loss: 0.4996 - action_move_loss: 0.2267 - action_rotate_loss: 0.2729 - action_move_acc: 0.9107 - action_rotate_acc: 0.9043 - val_loss: 0.4950 - val_action_move_loss: 0.2266 - val_action_rotate_loss: 0.2686 - val_action_move_acc: 0.9166 - val_action_rotate_acc: 0.9078\n",
      "Epoch 26/500\n",
      "30592/30592 [==============================] - 8s 256us/sample - loss: 0.4983 - action_move_loss: 0.2258 - action_rotate_loss: 0.2725 - action_move_acc: 0.9113 - action_rotate_acc: 0.9040 - val_loss: 0.4947 - val_action_move_loss: 0.2248 - val_action_rotate_loss: 0.2703 - val_action_move_acc: 0.9195 - val_action_rotate_acc: 0.9130\n",
      "Epoch 27/500\n",
      "30592/30592 [==============================] - 8s 256us/sample - loss: 0.4926 - action_move_loss: 0.2233 - action_rotate_loss: 0.2692 - action_move_acc: 0.9119 - action_rotate_acc: 0.9052 - val_loss: 0.5095 - val_action_move_loss: 0.2304 - val_action_rotate_loss: 0.2791 - val_action_move_acc: 0.9188 - val_action_rotate_acc: 0.9106\n",
      "Epoch 28/500\n",
      "30592/30592 [==============================] - 8s 257us/sample - loss: 0.4878 - action_move_loss: 0.2210 - action_rotate_loss: 0.2668 - action_move_acc: 0.9126 - action_rotate_acc: 0.9076 - val_loss: 0.4973 - val_action_move_loss: 0.2257 - val_action_rotate_loss: 0.2715 - val_action_move_acc: 0.9207 - val_action_rotate_acc: 0.9140\n",
      "Epoch 29/500\n",
      "30592/30592 [==============================] - 8s 257us/sample - loss: 0.4830 - action_move_loss: 0.2191 - action_rotate_loss: 0.2639 - action_move_acc: 0.9124 - action_rotate_acc: 0.9069 - val_loss: 0.5025 - val_action_move_loss: 0.2293 - val_action_rotate_loss: 0.2731 - val_action_move_acc: 0.9184 - val_action_rotate_acc: 0.9123\n",
      "Epoch 30/500\n",
      "30592/30592 [==============================] - 8s 253us/sample - loss: 0.4753 - action_move_loss: 0.2159 - action_rotate_loss: 0.2594 - action_move_acc: 0.9147 - action_rotate_acc: 0.9088 - val_loss: 0.5206 - val_action_move_loss: 0.2376 - val_action_rotate_loss: 0.2831 - val_action_move_acc: 0.9153 - val_action_rotate_acc: 0.9074\n",
      "Epoch 31/500\n",
      "30400/30592 [============================>.] - ETA: 0s - loss: 0.4695 - action_move_loss: 0.2129 - action_rotate_loss: 0.2566 - action_move_acc: 0.9151 - action_rotate_acc: 0.9085Restoring model weights from the end of the best epoch.\n",
      "30592/30592 [==============================] - 8s 257us/sample - loss: 0.4692 - action_move_loss: 0.2127 - action_rotate_loss: 0.2565 - action_move_acc: 0.9152 - action_rotate_acc: 0.9086 - val_loss: 0.5163 - val_action_move_loss: 0.2362 - val_action_rotate_loss: 0.2802 - val_action_move_acc: 0.9141 - val_action_rotate_acc: 0.9088\n",
      "Epoch 00031: early stopping\n",
      "loss 0.4692\n",
      "val_loss 0.4678\n"
     ]
    },
    {
     "data": {
      "image/png": "[encoded data removed]",
      "text/plain": [
       "<Figure size 432x288 with 1 Axes>"
      ]
     },
     "metadata": {
      "needs_background": "light"
     },
     "output_type": "display_data"
    }
   ],
   "source": [
    "args = [8, 16, 32, 64, 64], [16, 16]\n",
    "model = train_model(*args)\n",
    "model.save('/media/guillermo/Data/Kaggle/animalai/agents/003_less_games/model_%s.hdf' % str(args))"
   ]
  },
  {
   "cell_type": "code",
   "execution_count": 36,
   "metadata": {
    "ExecuteTime": {
     "end_time": "2019-07-19T17:38:55.322358Z",
     "start_time": "2019-07-19T17:34:42.129408Z"
    }
   },
   "outputs": [
    {
     "name": "stdout",
     "output_type": "stream",
     "text": [
      "Model: \"model_5\"\n",
      "__________________________________________________________________________________________________\n",
      "Layer (type)                    Output Shape         Param #     Connected to                     \n",
      "==================================================================================================\n",
      "frame (InputLayer)              [(None, 84, 84, 3)]  0                                            \n",
      "__________________________________________________________________________________________________\n",
      "conv2d_30 (Conv2D)              (None, 82, 82, 8)    224         frame[0][0]                      \n",
      "__________________________________________________________________________________________________\n",
      "max_pooling2d_25 (MaxPooling2D) (None, 41, 41, 8)    0           conv2d_30[0][0]                  \n",
      "__________________________________________________________________________________________________\n",
      "conv2d_31 (Conv2D)              (None, 39, 39, 16)   1168        max_pooling2d_25[0][0]           \n",
      "__________________________________________________________________________________________________\n",
      "max_pooling2d_26 (MaxPooling2D) (None, 19, 19, 16)   0           conv2d_31[0][0]                  \n",
      "__________________________________________________________________________________________________\n",
      "conv2d_32 (Conv2D)              (None, 17, 17, 32)   4640        max_pooling2d_26[0][0]           \n",
      "__________________________________________________________________________________________________\n",
      "max_pooling2d_27 (MaxPooling2D) (None, 8, 8, 32)     0           conv2d_32[0][0]                  \n",
      "__________________________________________________________________________________________________\n",
      "conv2d_33 (Conv2D)              (None, 6, 6, 64)     18496       max_pooling2d_27[0][0]           \n",
      "__________________________________________________________________________________________________\n",
      "max_pooling2d_28 (MaxPooling2D) (None, 3, 3, 64)     0           conv2d_33[0][0]                  \n",
      "__________________________________________________________________________________________________\n",
      "conv2d_34 (Conv2D)              (None, 1, 1, 64)     36928       max_pooling2d_28[0][0]           \n",
      "__________________________________________________________________________________________________\n",
      "flatten_5 (Flatten)             (None, 64)           0           conv2d_34[0][0]                  \n",
      "__________________________________________________________________________________________________\n",
      "speed (InputLayer)              [(None, 3)]          0                                            \n",
      "__________________________________________________________________________________________________\n",
      "previous_action (InputLayer)    [(None, 6)]          0                                            \n",
      "__________________________________________________________________________________________________\n",
      "concatenate_5 (Concatenate)     (None, 73)           0           flatten_5[0][0]                  \n",
      "                                                                 speed[0][0]                      \n",
      "                                                                 previous_action[0][0]            \n",
      "__________________________________________________________________________________________________\n",
      "dense_6 (Dense)                 (None, 32)           2368        concatenate_5[0][0]              \n",
      "__________________________________________________________________________________________________\n",
      "dense_7 (Dense)                 (None, 32)           1056        dense_6[0][0]                    \n",
      "__________________________________________________________________________________________________\n",
      "action_move (Dense)             (None, 3)            99          dense_7[0][0]                    \n",
      "__________________________________________________________________________________________________\n",
      "action_rotate (Dense)           (None, 3)            99          dense_7[0][0]                    \n",
      "==================================================================================================\n",
      "Total params: 65,078\n",
      "Trainable params: 65,078\n",
      "Non-trainable params: 0\n",
      "__________________________________________________________________________________________________\n",
      "Train on 30592 samples, validate on 8312 samples\n",
      "Epoch 1/500\n",
      "30592/30592 [==============================] - 8s 274us/sample - loss: 0.8041 - action_move_loss: 0.3489 - action_rotate_loss: 0.4553 - action_move_acc: 0.8639 - action_rotate_acc: 0.8522 - val_loss: 0.5333 - val_action_move_loss: 0.2502 - val_action_rotate_loss: 0.2827 - val_action_move_acc: 0.9047 - val_action_rotate_acc: 0.9057\n",
      "Epoch 2/500\n",
      "30592/30592 [==============================] - 8s 254us/sample - loss: 0.5961 - action_move_loss: 0.2709 - action_rotate_loss: 0.3252 - action_move_acc: 0.8943 - action_rotate_acc: 0.8881 - val_loss: 0.4933 - val_action_move_loss: 0.2254 - val_action_rotate_loss: 0.2680 - val_action_move_acc: 0.9187 - val_action_rotate_acc: 0.9086\n",
      "Epoch 3/500\n",
      "30592/30592 [==============================] - 8s 248us/sample - loss: 0.5772 - action_move_loss: 0.2609 - action_rotate_loss: 0.3163 - action_move_acc: 0.8996 - action_rotate_acc: 0.8900 - val_loss: 0.5113 - val_action_move_loss: 0.2321 - val_action_rotate_loss: 0.2790 - val_action_move_acc: 0.9188 - val_action_rotate_acc: 0.9090\n",
      "Epoch 4/500\n",
      "30592/30592 [==============================] - 8s 249us/sample - loss: 0.5679 - action_move_loss: 0.2574 - action_rotate_loss: 0.3106 - action_move_acc: 0.9010 - action_rotate_acc: 0.8921 - val_loss: 0.4798 - val_action_move_loss: 0.2185 - val_action_rotate_loss: 0.2614 - val_action_move_acc: 0.9206 - val_action_rotate_acc: 0.9131\n",
      "Epoch 5/500\n",
      "30592/30592 [==============================] - 7s 243us/sample - loss: 0.5590 - action_move_loss: 0.2534 - action_rotate_loss: 0.3056 - action_move_acc: 0.9013 - action_rotate_acc: 0.8927 - val_loss: 0.4792 - val_action_move_loss: 0.2173 - val_action_rotate_loss: 0.2616 - val_action_move_acc: 0.9216 - val_action_rotate_acc: 0.9118\n",
      "Epoch 6/500\n",
      "30592/30592 [==============================] - 8s 245us/sample - loss: 0.5533 - action_move_loss: 0.2512 - action_rotate_loss: 0.3021 - action_move_acc: 0.9023 - action_rotate_acc: 0.8946 - val_loss: 0.4997 - val_action_move_loss: 0.2301 - val_action_rotate_loss: 0.2696 - val_action_move_acc: 0.9198 - val_action_rotate_acc: 0.9098\n",
      "Epoch 7/500\n",
      "30592/30592 [==============================] - 8s 248us/sample - loss: 0.5507 - action_move_loss: 0.2500 - action_rotate_loss: 0.3006 - action_move_acc: 0.9027 - action_rotate_acc: 0.8947 - val_loss: 0.4729 - val_action_move_loss: 0.2143 - val_action_rotate_loss: 0.2585 - val_action_move_acc: 0.9202 - val_action_rotate_acc: 0.9115\n",
      "Epoch 8/500\n",
      "30592/30592 [==============================] - 8s 249us/sample - loss: 0.5454 - action_move_loss: 0.2479 - action_rotate_loss: 0.2976 - action_move_acc: 0.9030 - action_rotate_acc: 0.8949 - val_loss: 0.4779 - val_action_move_loss: 0.2173 - val_action_rotate_loss: 0.2607 - val_action_move_acc: 0.9218 - val_action_rotate_acc: 0.9145\n",
      "Epoch 9/500\n",
      "30592/30592 [==============================] - 8s 246us/sample - loss: 0.5412 - action_move_loss: 0.2455 - action_rotate_loss: 0.2957 - action_move_acc: 0.9045 - action_rotate_acc: 0.8956 - val_loss: 0.4959 - val_action_move_loss: 0.2256 - val_action_rotate_loss: 0.2701 - val_action_move_acc: 0.9198 - val_action_rotate_acc: 0.9106\n",
      "Epoch 10/500\n",
      "30592/30592 [==============================] - 7s 242us/sample - loss: 0.5372 - action_move_loss: 0.2438 - action_rotate_loss: 0.2935 - action_move_acc: 0.9050 - action_rotate_acc: 0.8969 - val_loss: 0.4736 - val_action_move_loss: 0.2164 - val_action_rotate_loss: 0.2571 - val_action_move_acc: 0.9214 - val_action_rotate_acc: 0.9130\n",
      "Epoch 11/500\n",
      "30592/30592 [==============================] - 7s 243us/sample - loss: 0.5354 - action_move_loss: 0.2433 - action_rotate_loss: 0.2922 - action_move_acc: 0.9062 - action_rotate_acc: 0.8980 - val_loss: 0.4815 - val_action_move_loss: 0.2195 - val_action_rotate_loss: 0.2618 - val_action_move_acc: 0.9189 - val_action_rotate_acc: 0.9111\n",
      "Epoch 12/500\n"
     ]
    },
    {
     "name": "stdout",
     "output_type": "stream",
     "text": [
      "30592/30592 [==============================] - 7s 245us/sample - loss: 0.5297 - action_move_loss: 0.2408 - action_rotate_loss: 0.2890 - action_move_acc: 0.9061 - action_rotate_acc: 0.8989 - val_loss: 0.5022 - val_action_move_loss: 0.2303 - val_action_rotate_loss: 0.2715 - val_action_move_acc: 0.9139 - val_action_rotate_acc: 0.9084\n",
      "Epoch 13/500\n",
      "30592/30592 [==============================] - 8s 248us/sample - loss: 0.5254 - action_move_loss: 0.2388 - action_rotate_loss: 0.2866 - action_move_acc: 0.9069 - action_rotate_acc: 0.8991 - val_loss: 0.4700 - val_action_move_loss: 0.2127 - val_action_rotate_loss: 0.2573 - val_action_move_acc: 0.9230 - val_action_rotate_acc: 0.9157\n",
      "Epoch 14/500\n",
      "30592/30592 [==============================] - 7s 245us/sample - loss: 0.5185 - action_move_loss: 0.2357 - action_rotate_loss: 0.2828 - action_move_acc: 0.9081 - action_rotate_acc: 0.9021 - val_loss: 0.5020 - val_action_move_loss: 0.2295 - val_action_rotate_loss: 0.2723 - val_action_move_acc: 0.9187 - val_action_rotate_acc: 0.9109\n",
      "Epoch 15/500\n",
      "30592/30592 [==============================] - 7s 242us/sample - loss: 0.5157 - action_move_loss: 0.2346 - action_rotate_loss: 0.2811 - action_move_acc: 0.9084 - action_rotate_acc: 0.9020 - val_loss: 0.4778 - val_action_move_loss: 0.2166 - val_action_rotate_loss: 0.2610 - val_action_move_acc: 0.9228 - val_action_rotate_acc: 0.9151\n",
      "Epoch 16/500\n",
      "30592/30592 [==============================] - 7s 243us/sample - loss: 0.5099 - action_move_loss: 0.2319 - action_rotate_loss: 0.2780 - action_move_acc: 0.9086 - action_rotate_acc: 0.9023 - val_loss: 0.4839 - val_action_move_loss: 0.2193 - val_action_rotate_loss: 0.2647 - val_action_move_acc: 0.9178 - val_action_rotate_acc: 0.9112\n",
      "Epoch 17/500\n",
      "30592/30592 [==============================] - 7s 240us/sample - loss: 0.5008 - action_move_loss: 0.2276 - action_rotate_loss: 0.2733 - action_move_acc: 0.9115 - action_rotate_acc: 0.9042 - val_loss: 0.4853 - val_action_move_loss: 0.2208 - val_action_rotate_loss: 0.2644 - val_action_move_acc: 0.9212 - val_action_rotate_acc: 0.9137\n",
      "Epoch 18/500\n",
      "30592/30592 [==============================] - 7s 241us/sample - loss: 0.4947 - action_move_loss: 0.2249 - action_rotate_loss: 0.2699 - action_move_acc: 0.9114 - action_rotate_acc: 0.9060 - val_loss: 0.4994 - val_action_move_loss: 0.2250 - val_action_rotate_loss: 0.2742 - val_action_move_acc: 0.9170 - val_action_rotate_acc: 0.9088\n",
      "Epoch 19/500\n",
      "30592/30592 [==============================] - 7s 238us/sample - loss: 0.4878 - action_move_loss: 0.2215 - action_rotate_loss: 0.2662 - action_move_acc: 0.9129 - action_rotate_acc: 0.9067 - val_loss: 0.4913 - val_action_move_loss: 0.2236 - val_action_rotate_loss: 0.2680 - val_action_move_acc: 0.9175 - val_action_rotate_acc: 0.9109\n",
      "Epoch 20/500\n",
      "30592/30592 [==============================] - 7s 240us/sample - loss: 0.4795 - action_move_loss: 0.2176 - action_rotate_loss: 0.2619 - action_move_acc: 0.9137 - action_rotate_acc: 0.9073 - val_loss: 0.4996 - val_action_move_loss: 0.2283 - val_action_rotate_loss: 0.2711 - val_action_move_acc: 0.9178 - val_action_rotate_acc: 0.9112\n",
      "Epoch 21/500\n",
      "30592/30592 [==============================] - 7s 238us/sample - loss: 0.4698 - action_move_loss: 0.2133 - action_rotate_loss: 0.2565 - action_move_acc: 0.9157 - action_rotate_acc: 0.9103 - val_loss: 0.5106 - val_action_move_loss: 0.2336 - val_action_rotate_loss: 0.2773 - val_action_move_acc: 0.9159 - val_action_rotate_acc: 0.9096\n",
      "Epoch 22/500\n",
      "30592/30592 [==============================] - 8s 250us/sample - loss: 0.4581 - action_move_loss: 0.2079 - action_rotate_loss: 0.2502 - action_move_acc: 0.9174 - action_rotate_acc: 0.9117 - val_loss: 0.5315 - val_action_move_loss: 0.2431 - val_action_rotate_loss: 0.2883 - val_action_move_acc: 0.9083 - val_action_rotate_acc: 0.9041\n",
      "Epoch 23/500\n",
      "30592/30592 [==============================] - 8s 256us/sample - loss: 0.4487 - action_move_loss: 0.2035 - action_rotate_loss: 0.2452 - action_move_acc: 0.9173 - action_rotate_acc: 0.9111 - val_loss: 0.5242 - val_action_move_loss: 0.2398 - val_action_rotate_loss: 0.2840 - val_action_move_acc: 0.9105 - val_action_rotate_acc: 0.9074\n",
      "Epoch 24/500\n",
      "30592/30592 [==============================] - 8s 254us/sample - loss: 0.4346 - action_move_loss: 0.1964 - action_rotate_loss: 0.2382 - action_move_acc: 0.9206 - action_rotate_acc: 0.9147 - val_loss: 0.5261 - val_action_move_loss: 0.2396 - val_action_rotate_loss: 0.2872 - val_action_move_acc: 0.9135 - val_action_rotate_acc: 0.9087\n",
      "Epoch 25/500\n",
      "30592/30592 [==============================] - 8s 252us/sample - loss: 0.4256 - action_move_loss: 0.1923 - action_rotate_loss: 0.2332 - action_move_acc: 0.9212 - action_rotate_acc: 0.9162 - val_loss: 0.5525 - val_action_move_loss: 0.2538 - val_action_rotate_loss: 0.2983 - val_action_move_acc: 0.9081 - val_action_rotate_acc: 0.9052\n",
      "Epoch 26/500\n",
      "30592/30592 [==============================] - 8s 256us/sample - loss: 0.4100 - action_move_loss: 0.1847 - action_rotate_loss: 0.2253 - action_move_acc: 0.9246 - action_rotate_acc: 0.9189 - val_loss: 0.5756 - val_action_move_loss: 0.2636 - val_action_rotate_loss: 0.3116 - val_action_move_acc: 0.9063 - val_action_rotate_acc: 0.9023\n",
      "Epoch 27/500\n",
      "30592/30592 [==============================] - 8s 254us/sample - loss: 0.3916 - action_move_loss: 0.1764 - action_rotate_loss: 0.2151 - action_move_acc: 0.9273 - action_rotate_acc: 0.9223 - val_loss: 0.6416 - val_action_move_loss: 0.2947 - val_action_rotate_loss: 0.3465 - val_action_move_acc: 0.9013 - val_action_rotate_acc: 0.8949\n",
      "Epoch 28/500\n",
      "30592/30592 [==============================] - 8s 252us/sample - loss: 0.3859 - action_move_loss: 0.1735 - action_rotate_loss: 0.2123 - action_move_acc: 0.9298 - action_rotate_acc: 0.9238 - val_loss: 0.6347 - val_action_move_loss: 0.2959 - val_action_rotate_loss: 0.3387 - val_action_move_acc: 0.8903 - val_action_rotate_acc: 0.8942\n",
      "Epoch 29/500\n",
      "30592/30592 [==============================] - 8s 251us/sample - loss: 0.3707 - action_move_loss: 0.1666 - action_rotate_loss: 0.2041 - action_move_acc: 0.9319 - action_rotate_acc: 0.9261 - val_loss: 0.6321 - val_action_move_loss: 0.2917 - val_action_rotate_loss: 0.3414 - val_action_move_acc: 0.8959 - val_action_rotate_acc: 0.8905\n",
      "Epoch 30/500\n",
      "30592/30592 [==============================] - 8s 252us/sample - loss: 0.3526 - action_move_loss: 0.1576 - action_rotate_loss: 0.1950 - action_move_acc: 0.9340 - action_rotate_acc: 0.9285 - val_loss: 0.6790 - val_action_move_loss: 0.3121 - val_action_rotate_loss: 0.3664 - val_action_move_acc: 0.8953 - val_action_rotate_acc: 0.8928\n",
      "Epoch 31/500\n",
      "30592/30592 [==============================] - 8s 250us/sample - loss: 0.3437 - action_move_loss: 0.1532 - action_rotate_loss: 0.1905 - action_move_acc: 0.9368 - action_rotate_acc: 0.9309 - val_loss: 0.6647 - val_action_move_loss: 0.3087 - val_action_rotate_loss: 0.3564 - val_action_move_acc: 0.9047 - val_action_rotate_acc: 0.9019\n",
      "Epoch 32/500\n",
      "30592/30592 [==============================] - 8s 250us/sample - loss: 0.3262 - action_move_loss: 0.1446 - action_rotate_loss: 0.1816 - action_move_acc: 0.9398 - action_rotate_acc: 0.9334 - val_loss: 0.7169 - val_action_move_loss: 0.3313 - val_action_rotate_loss: 0.3859 - val_action_move_acc: 0.8942 - val_action_rotate_acc: 0.8916\n",
      "Epoch 33/500\n",
      "30400/30592 [============================>.] - ETA: 0s - loss: 0.3152 - action_move_loss: 0.1395 - action_rotate_loss: 0.1757 - action_move_acc: 0.9405 - action_rotate_acc: 0.9341Restoring model weights from the end of the best epoch.\n",
      "30592/30592 [==============================] - 8s 258us/sample - loss: 0.3155 - action_move_loss: 0.1397 - action_rotate_loss: 0.1758 - action_move_acc: 0.9406 - action_rotate_acc: 0.9342 - val_loss: 0.7555 - val_action_move_loss: 0.3510 - val_action_rotate_loss: 0.4041 - val_action_move_acc: 0.8942 - val_action_rotate_acc: 0.8904\n",
      "Epoch 00033: early stopping\n",
      "loss 0.3155\n",
      "val_loss 0.4700\n"
     ]
    },
    {
     "data": {
      "image/png": "[encoded data removed]",
      "text/plain": [
       "<Figure size 432x288 with 1 Axes>"
      ]
     },
     "metadata": {
      "needs_background": "light"
     },
     "output_type": "display_data"
    }
   ],
   "source": [
    "args = [8, 16, 32, 64, 64], [32, 32]\n",
    "model = train_model(*args)\n",
    "model.save('/media/guillermo/Data/Kaggle/animalai/agents/003_less_games/model_%s.hdf' % str(args))"
   ]
  },
  {
   "cell_type": "code",
   "execution_count": 41,
   "metadata": {
    "ExecuteTime": {
     "end_time": "2019-07-19T17:48:22.790010Z",
     "start_time": "2019-07-19T17:44:19.349292Z"
    }
   },
   "outputs": [
    {
     "name": "stdout",
     "output_type": "stream",
     "text": [
      "Model: \"model_6\"\n",
      "__________________________________________________________________________________________________\n",
      "Layer (type)                    Output Shape         Param #     Connected to                     \n",
      "==================================================================================================\n",
      "frame (InputLayer)              [(None, 84, 84, 3)]  0                                            \n",
      "__________________________________________________________________________________________________\n",
      "conv2d_35 (Conv2D)              (None, 82, 82, 8)    224         frame[0][0]                      \n",
      "__________________________________________________________________________________________________\n",
      "max_pooling2d_29 (MaxPooling2D) (None, 41, 41, 8)    0           conv2d_35[0][0]                  \n",
      "__________________________________________________________________________________________________\n",
      "conv2d_36 (Conv2D)              (None, 39, 39, 16)   1168        max_pooling2d_29[0][0]           \n",
      "__________________________________________________________________________________________________\n",
      "max_pooling2d_30 (MaxPooling2D) (None, 19, 19, 16)   0           conv2d_36[0][0]                  \n",
      "__________________________________________________________________________________________________\n",
      "conv2d_37 (Conv2D)              (None, 17, 17, 32)   4640        max_pooling2d_30[0][0]           \n",
      "__________________________________________________________________________________________________\n",
      "max_pooling2d_31 (MaxPooling2D) (None, 8, 8, 32)     0           conv2d_37[0][0]                  \n",
      "__________________________________________________________________________________________________\n",
      "conv2d_38 (Conv2D)              (None, 6, 6, 64)     18496       max_pooling2d_31[0][0]           \n",
      "__________________________________________________________________________________________________\n",
      "max_pooling2d_32 (MaxPooling2D) (None, 3, 3, 64)     0           conv2d_38[0][0]                  \n",
      "__________________________________________________________________________________________________\n",
      "conv2d_39 (Conv2D)              (None, 1, 1, 64)     36928       max_pooling2d_32[0][0]           \n",
      "__________________________________________________________________________________________________\n",
      "flatten_6 (Flatten)             (None, 64)           0           conv2d_39[0][0]                  \n",
      "__________________________________________________________________________________________________\n",
      "speed (InputLayer)              [(None, 3)]          0                                            \n",
      "__________________________________________________________________________________________________\n",
      "previous_action (InputLayer)    [(None, 6)]          0                                            \n",
      "__________________________________________________________________________________________________\n",
      "concatenate_6 (Concatenate)     (None, 73)           0           flatten_6[0][0]                  \n",
      "                                                                 speed[0][0]                      \n",
      "                                                                 previous_action[0][0]            \n",
      "__________________________________________________________________________________________________\n",
      "dense_8 (Dense)                 (None, 16)           1184        concatenate_6[0][0]              \n",
      "__________________________________________________________________________________________________\n",
      "dense_9 (Dense)                 (None, 32)           544         dense_8[0][0]                    \n",
      "__________________________________________________________________________________________________\n",
      "action_move (Dense)             (None, 3)            99          dense_9[0][0]                    \n",
      "__________________________________________________________________________________________________\n",
      "action_rotate (Dense)           (None, 3)            99          dense_9[0][0]                    \n",
      "==================================================================================================\n",
      "Total params: 63,382\n",
      "Trainable params: 63,382\n",
      "Non-trainable params: 0\n",
      "__________________________________________________________________________________________________\n",
      "Train on 30592 samples, validate on 8312 samples\n",
      "Epoch 1/500\n",
      "30592/30592 [==============================] - 8s 274us/sample - loss: 0.8383 - action_move_loss: 0.3611 - action_rotate_loss: 0.4772 - action_move_acc: 0.8631 - action_rotate_acc: 0.8368 - val_loss: 0.5172 - val_action_move_loss: 0.2350 - val_action_rotate_loss: 0.2819 - val_action_move_acc: 0.9151 - val_action_rotate_acc: 0.9058\n",
      "Epoch 2/500\n",
      "30592/30592 [==============================] - 8s 263us/sample - loss: 0.6000 - action_move_loss: 0.2705 - action_rotate_loss: 0.3295 - action_move_acc: 0.8970 - action_rotate_acc: 0.8860 - val_loss: 0.4988 - val_action_move_loss: 0.2276 - val_action_rotate_loss: 0.2712 - val_action_move_acc: 0.9199 - val_action_rotate_acc: 0.9098\n",
      "Epoch 3/500\n",
      "30592/30592 [==============================] - 8s 264us/sample - loss: 0.5733 - action_move_loss: 0.2587 - action_rotate_loss: 0.3146 - action_move_acc: 0.8992 - action_rotate_acc: 0.8899 - val_loss: 0.4928 - val_action_move_loss: 0.2238 - val_action_rotate_loss: 0.2692 - val_action_move_acc: 0.9182 - val_action_rotate_acc: 0.9078\n",
      "Epoch 4/500\n",
      "30592/30592 [==============================] - 8s 268us/sample - loss: 0.5652 - action_move_loss: 0.2556 - action_rotate_loss: 0.3096 - action_move_acc: 0.9001 - action_rotate_acc: 0.8904 - val_loss: 0.4934 - val_action_move_loss: 0.2252 - val_action_rotate_loss: 0.2684 - val_action_move_acc: 0.9181 - val_action_rotate_acc: 0.9093\n",
      "Epoch 5/500\n",
      "30592/30592 [==============================] - 8s 264us/sample - loss: 0.5594 - action_move_loss: 0.2533 - action_rotate_loss: 0.3061 - action_move_acc: 0.9017 - action_rotate_acc: 0.8926 - val_loss: 0.4843 - val_action_move_loss: 0.2208 - val_action_rotate_loss: 0.2638 - val_action_move_acc: 0.9186 - val_action_rotate_acc: 0.9104\n",
      "Epoch 6/500\n",
      "30592/30592 [==============================] - 8s 263us/sample - loss: 0.5542 - action_move_loss: 0.2508 - action_rotate_loss: 0.3033 - action_move_acc: 0.9029 - action_rotate_acc: 0.8933 - val_loss: 0.4771 - val_action_move_loss: 0.2156 - val_action_rotate_loss: 0.2615 - val_action_move_acc: 0.9193 - val_action_rotate_acc: 0.9088\n",
      "Epoch 7/500\n",
      "30592/30592 [==============================] - 8s 264us/sample - loss: 0.5497 - action_move_loss: 0.2487 - action_rotate_loss: 0.3010 - action_move_acc: 0.9025 - action_rotate_acc: 0.8931 - val_loss: 0.4748 - val_action_move_loss: 0.2155 - val_action_rotate_loss: 0.2591 - val_action_move_acc: 0.9206 - val_action_rotate_acc: 0.9115\n",
      "Epoch 8/500\n",
      "30592/30592 [==============================] - 8s 263us/sample - loss: 0.5447 - action_move_loss: 0.2468 - action_rotate_loss: 0.2980 - action_move_acc: 0.9047 - action_rotate_acc: 0.8962 - val_loss: 0.4968 - val_action_move_loss: 0.2229 - val_action_rotate_loss: 0.2738 - val_action_move_acc: 0.9187 - val_action_rotate_acc: 0.9087\n",
      "Epoch 9/500\n",
      "30592/30592 [==============================] - 8s 265us/sample - loss: 0.5440 - action_move_loss: 0.2469 - action_rotate_loss: 0.2971 - action_move_acc: 0.9032 - action_rotate_acc: 0.8956 - val_loss: 0.4754 - val_action_move_loss: 0.2172 - val_action_rotate_loss: 0.2588 - val_action_move_acc: 0.9207 - val_action_rotate_acc: 0.9123\n",
      "Epoch 10/500\n",
      "30592/30592 [==============================] - 8s 257us/sample - loss: 0.5369 - action_move_loss: 0.2431 - action_rotate_loss: 0.2938 - action_move_acc: 0.9060 - action_rotate_acc: 0.8970 - val_loss: 0.4710 - val_action_move_loss: 0.2158 - val_action_rotate_loss: 0.2550 - val_action_move_acc: 0.9196 - val_action_rotate_acc: 0.9127\n",
      "Epoch 11/500\n",
      "30592/30592 [==============================] - 8s 256us/sample - loss: 0.5364 - action_move_loss: 0.2435 - action_rotate_loss: 0.2929 - action_move_acc: 0.9050 - action_rotate_acc: 0.8976 - val_loss: 0.4710 - val_action_move_loss: 0.2146 - val_action_rotate_loss: 0.2566 - val_action_move_acc: 0.9200 - val_action_rotate_acc: 0.9118\n",
      "Epoch 12/500\n"
     ]
    },
    {
     "name": "stdout",
     "output_type": "stream",
     "text": [
      "30592/30592 [==============================] - 8s 249us/sample - loss: 0.5309 - action_move_loss: 0.2408 - action_rotate_loss: 0.2900 - action_move_acc: 0.9057 - action_rotate_acc: 0.8975 - val_loss: 0.4888 - val_action_move_loss: 0.2222 - val_action_rotate_loss: 0.2663 - val_action_move_acc: 0.9182 - val_action_rotate_acc: 0.9075\n",
      "Epoch 13/500\n",
      "30592/30592 [==============================] - 8s 254us/sample - loss: 0.5273 - action_move_loss: 0.2393 - action_rotate_loss: 0.2881 - action_move_acc: 0.9062 - action_rotate_acc: 0.8983 - val_loss: 0.4717 - val_action_move_loss: 0.2151 - val_action_rotate_loss: 0.2565 - val_action_move_acc: 0.9225 - val_action_rotate_acc: 0.9149\n",
      "Epoch 14/500\n",
      "30592/30592 [==============================] - 8s 260us/sample - loss: 0.5221 - action_move_loss: 0.2371 - action_rotate_loss: 0.2849 - action_move_acc: 0.9084 - action_rotate_acc: 0.9013 - val_loss: 0.4757 - val_action_move_loss: 0.2169 - val_action_rotate_loss: 0.2587 - val_action_move_acc: 0.9204 - val_action_rotate_acc: 0.9130\n",
      "Epoch 15/500\n",
      "30592/30592 [==============================] - 8s 266us/sample - loss: 0.5179 - action_move_loss: 0.2350 - action_rotate_loss: 0.2829 - action_move_acc: 0.9081 - action_rotate_acc: 0.9007 - val_loss: 0.4738 - val_action_move_loss: 0.2161 - val_action_rotate_loss: 0.2576 - val_action_move_acc: 0.9212 - val_action_rotate_acc: 0.9128\n",
      "Epoch 16/500\n",
      "30592/30592 [==============================] - 8s 271us/sample - loss: 0.5123 - action_move_loss: 0.2328 - action_rotate_loss: 0.2795 - action_move_acc: 0.9083 - action_rotate_acc: 0.9019 - val_loss: 0.4789 - val_action_move_loss: 0.2188 - val_action_rotate_loss: 0.2598 - val_action_move_acc: 0.9200 - val_action_rotate_acc: 0.9136\n",
      "Epoch 17/500\n",
      "30592/30592 [==============================] - 8s 269us/sample - loss: 0.5049 - action_move_loss: 0.2296 - action_rotate_loss: 0.2753 - action_move_acc: 0.9090 - action_rotate_acc: 0.9025 - val_loss: 0.4810 - val_action_move_loss: 0.2189 - val_action_rotate_loss: 0.2622 - val_action_move_acc: 0.9182 - val_action_rotate_acc: 0.9124\n",
      "Epoch 18/500\n",
      "30592/30592 [==============================] - 8s 263us/sample - loss: 0.5007 - action_move_loss: 0.2271 - action_rotate_loss: 0.2736 - action_move_acc: 0.9103 - action_rotate_acc: 0.9034 - val_loss: 0.4875 - val_action_move_loss: 0.2244 - val_action_rotate_loss: 0.2631 - val_action_move_acc: 0.9170 - val_action_rotate_acc: 0.9124\n",
      "Epoch 19/500\n",
      "30592/30592 [==============================] - 8s 264us/sample - loss: 0.4922 - action_move_loss: 0.2239 - action_rotate_loss: 0.2683 - action_move_acc: 0.9119 - action_rotate_acc: 0.9060 - val_loss: 0.4981 - val_action_move_loss: 0.2263 - val_action_rotate_loss: 0.2716 - val_action_move_acc: 0.9167 - val_action_rotate_acc: 0.9095\n",
      "Epoch 20/500\n",
      "30592/30592 [==============================] - 8s 263us/sample - loss: 0.4854 - action_move_loss: 0.2203 - action_rotate_loss: 0.2651 - action_move_acc: 0.9130 - action_rotate_acc: 0.9059 - val_loss: 0.4939 - val_action_move_loss: 0.2256 - val_action_rotate_loss: 0.2682 - val_action_move_acc: 0.9159 - val_action_rotate_acc: 0.9101\n",
      "Epoch 21/500\n",
      "30592/30592 [==============================] - 8s 262us/sample - loss: 0.4751 - action_move_loss: 0.2158 - action_rotate_loss: 0.2592 - action_move_acc: 0.9145 - action_rotate_acc: 0.9093 - val_loss: 0.5042 - val_action_move_loss: 0.2310 - val_action_rotate_loss: 0.2730 - val_action_move_acc: 0.9147 - val_action_rotate_acc: 0.9095\n",
      "Epoch 22/500\n",
      "30592/30592 [==============================] - 8s 256us/sample - loss: 0.4667 - action_move_loss: 0.2117 - action_rotate_loss: 0.2550 - action_move_acc: 0.9154 - action_rotate_acc: 0.9100 - val_loss: 0.5190 - val_action_move_loss: 0.2372 - val_action_rotate_loss: 0.2818 - val_action_move_acc: 0.9146 - val_action_rotate_acc: 0.9090\n",
      "Epoch 23/500\n",
      "30592/30592 [==============================] - 8s 264us/sample - loss: 0.4561 - action_move_loss: 0.2062 - action_rotate_loss: 0.2499 - action_move_acc: 0.9170 - action_rotate_acc: 0.9109 - val_loss: 0.5158 - val_action_move_loss: 0.2355 - val_action_rotate_loss: 0.2802 - val_action_move_acc: 0.9105 - val_action_rotate_acc: 0.9051\n",
      "Epoch 24/500\n",
      "30592/30592 [==============================] - 8s 257us/sample - loss: 0.4521 - action_move_loss: 0.2046 - action_rotate_loss: 0.2475 - action_move_acc: 0.9177 - action_rotate_acc: 0.9120 - val_loss: 0.5260 - val_action_move_loss: 0.2405 - val_action_rotate_loss: 0.2852 - val_action_move_acc: 0.9121 - val_action_rotate_acc: 0.9092\n",
      "Epoch 25/500\n",
      "30592/30592 [==============================] - 8s 258us/sample - loss: 0.4410 - action_move_loss: 0.1998 - action_rotate_loss: 0.2412 - action_move_acc: 0.9193 - action_rotate_acc: 0.9140 - val_loss: 0.5514 - val_action_move_loss: 0.2526 - val_action_rotate_loss: 0.2985 - val_action_move_acc: 0.9090 - val_action_rotate_acc: 0.9029\n",
      "Epoch 26/500\n",
      "30592/30592 [==============================] - 8s 263us/sample - loss: 0.4306 - action_move_loss: 0.1950 - action_rotate_loss: 0.2356 - action_move_acc: 0.9212 - action_rotate_acc: 0.9163 - val_loss: 0.5266 - val_action_move_loss: 0.2401 - val_action_rotate_loss: 0.2865 - val_action_move_acc: 0.9122 - val_action_rotate_acc: 0.9064\n",
      "Epoch 27/500\n",
      "30592/30592 [==============================] - 8s 264us/sample - loss: 0.4180 - action_move_loss: 0.1887 - action_rotate_loss: 0.2293 - action_move_acc: 0.9231 - action_rotate_acc: 0.9188 - val_loss: 0.5522 - val_action_move_loss: 0.2528 - val_action_rotate_loss: 0.2993 - val_action_move_acc: 0.9096 - val_action_rotate_acc: 0.9040\n",
      "Epoch 28/500\n",
      "30592/30592 [==============================] - 8s 262us/sample - loss: 0.4083 - action_move_loss: 0.1840 - action_rotate_loss: 0.2242 - action_move_acc: 0.9260 - action_rotate_acc: 0.9204 - val_loss: 0.5942 - val_action_move_loss: 0.2742 - val_action_rotate_loss: 0.3197 - val_action_move_acc: 0.9040 - val_action_rotate_acc: 0.9003\n",
      "Epoch 29/500\n",
      "30592/30592 [==============================] - 8s 256us/sample - loss: 0.3961 - action_move_loss: 0.1782 - action_rotate_loss: 0.2178 - action_move_acc: 0.9282 - action_rotate_acc: 0.9228 - val_loss: 0.6088 - val_action_move_loss: 0.2817 - val_action_rotate_loss: 0.3272 - val_action_move_acc: 0.8997 - val_action_rotate_acc: 0.8999\n",
      "Epoch 30/500\n",
      "30560/30592 [============================>.] - ETA: 0s - loss: 0.3860 - action_move_loss: 0.1734 - action_rotate_loss: 0.2127 - action_move_acc: 0.9298 - action_rotate_acc: 0.9239Restoring model weights from the end of the best epoch.\n",
      "30592/30592 [==============================] - 8s 271us/sample - loss: 0.3861 - action_move_loss: 0.1734 - action_rotate_loss: 0.2127 - action_move_acc: 0.9298 - action_rotate_acc: 0.9238 - val_loss: 0.5787 - val_action_move_loss: 0.2671 - val_action_rotate_loss: 0.3114 - val_action_move_acc: 0.9045 - val_action_rotate_acc: 0.9006\n",
      "Epoch 00030: early stopping\n",
      "loss 0.3861\n",
      "val_loss 0.4710\n"
     ]
    },
    {
     "data": {
      "image/png": "[encoded data removed]",
      "text/plain": [
       "<Figure size 1800x360 with 2 Axes>"
      ]
     },
     "metadata": {
      "needs_background": "light"
     },
     "output_type": "display_data"
    }
   ],
   "source": [
    "args = [8, 16, 32, 64, 64], [16, 32]\n",
    "model = train_model(*args)\n",
    "model.save('/media/guillermo/Data/Kaggle/animalai/agents/003_less_games/model_%s.hdf' % str(args))"
   ]
  },
  {
   "cell_type": "markdown",
   "metadata": {},
   "source": [
    "#### Summary of trainings"
   ]
  },
  {
   "cell_type": "raw",
   "metadata": {},
   "source": [
    "0.4742     [8, 8, 16, 16], [16]     \n",
    "0.4742     [8, 8, 16, 16, 32], [16]\n",
    "0.4705     [8, 16, 32, 64, 128], [16]\n",
    "0.4678     [8, 16, 32, 64, 64], [16, 16]\n",
    "0.4700     [8, 16, 32, 64, 64], [32, 32]\n",
    "0.4710     [8, 16, 32, 64, 64], [16, 32]"
   ]
  },
  {
   "cell_type": "markdown",
   "metadata": {},
   "source": [
    "There is no big differen between models."
   ]
  },
  {
   "cell_type": "code",
   "execution_count": 75,
   "metadata": {
    "ExecuteTime": {
     "end_time": "2019-07-18T15:28:28.174983Z",
     "start_time": "2019-07-18T15:28:28.163386Z"
    }
   },
   "outputs": [
    {
     "ename": "RuntimeError",
     "evalue": "No active exception to reraise",
     "output_type": "error",
     "traceback": [
      "\u001b[0;31m---------------------------------------------------------------------------\u001b[0m",
      "\u001b[0;31mRuntimeError\u001b[0m                              Traceback (most recent call last)",
      "\u001b[0;32m<ipython-input-75-9c9a2cba73bf>\u001b[0m in \u001b[0;36m<module>\u001b[0;34m\u001b[0m\n\u001b[0;32m----> 1\u001b[0;31m \u001b[0;32mraise\u001b[0m\u001b[0;34m\u001b[0m\u001b[0;34m\u001b[0m\u001b[0m\n\u001b[0m",
      "\u001b[0;31mRuntimeError\u001b[0m: No active exception to reraise"
     ]
    }
   ],
   "source": [
    "raise"
   ]
  },
  {
   "cell_type": "markdown",
   "metadata": {},
   "source": [
    "## Visualizing agent play"
   ]
  },
  {
   "cell_type": "code",
   "execution_count": 50,
   "metadata": {
    "ExecuteTime": {
     "end_time": "2019-07-19T17:51:21.529322Z",
     "start_time": "2019-07-19T17:51:19.628610Z"
    }
   },
   "outputs": [
    {
     "name": "stderr",
     "output_type": "stream",
     "text": [
      "W0719 19:51:19.642918 140311670503232 deprecation.py:506] From /home/guillermo/miniconda3/envs/animal/lib/python3.6/site-packages/tensorflow/python/ops/init_ops.py:97: calling GlorotUniform.__init__ (from tensorflow.python.ops.init_ops) with dtype is deprecated and will be removed in a future version.\n",
      "Instructions for updating:\n",
      "Call initializer instance with the dtype argument instead of passing it to the constructor\n",
      "W0719 19:51:19.644972 140311670503232 deprecation.py:506] From /home/guillermo/miniconda3/envs/animal/lib/python3.6/site-packages/tensorflow/python/ops/init_ops.py:97: calling Zeros.__init__ (from tensorflow.python.ops.init_ops) with dtype is deprecated and will be removed in a future version.\n",
      "Instructions for updating:\n",
      "Call initializer instance with the dtype argument instead of passing it to the constructor\n"
     ]
    }
   ],
   "source": [
    "model = load_model('/media/guillermo/Data/Kaggle/animalai/agents/003_less_games/model_([8, 16, 32, 64, 64], [16, 16]).hdf')"
   ]
  },
  {
   "cell_type": "code",
   "execution_count": 42,
   "metadata": {
    "ExecuteTime": {
     "end_time": "2019-07-19T17:48:45.699294Z",
     "start_time": "2019-07-19T17:48:45.671139Z"
    },
    "code_folding": []
   },
   "outputs": [],
   "source": [
    "class Agent():\n",
    "    def __init__(self, model):\n",
    "        self._n_rotations = 0\n",
    "        self.model = model\n",
    "\n",
    "    def get_action_from_model(self, info):\n",
    "        frame = info.visual_observations[0][0]\n",
    "        speed = info.vector_observations.round(2)\n",
    "        previous_action = info.previous_vector_actions[0]\n",
    "\n",
    "        model_input = {\n",
    "            'frame': np.expand_dims(frame, axis=0),\n",
    "            'speed': speed/10,\n",
    "        }\n",
    "        previous_move, previous_rotate = np.zeros(3), np.zeros(3)\n",
    "        previous_move[int(previous_action[0])] = 1\n",
    "        previous_rotate[int(previous_action[1])] = 1\n",
    "        previous_action = np.concatenate([previous_move, previous_rotate])\n",
    "        model_input['previous_action'] = np.expand_dims(previous_action, axis=0)\n",
    "        ret = self.model.predict(model_input, batch_size=1)\n",
    "        action_move = ret[self.model.output_names.index('action_move')]\n",
    "        action_rotate = ret[self.model.output_names.index('action_rotate')]\n",
    "        action = [np.argmax(action_move), np.argmax(action_rotate)]\n",
    "        if action == [0, 0]:\n",
    "            action = [1, 0]\n",
    "        if action[0] == 0:\n",
    "            self._n_rotations += 1\n",
    "        else:\n",
    "            self._n_rotations = 0\n",
    "        if self._n_rotations > 60:\n",
    "            action = [1, 0]\n",
    "        return action\n",
    "    \n",
    "    def reset(self):\n",
    "        self._n_rotations = 0"
   ]
  },
  {
   "cell_type": "code",
   "execution_count": 51,
   "metadata": {
    "ExecuteTime": {
     "end_time": "2019-07-19T17:52:32.275076Z",
     "start_time": "2019-07-19T17:51:25.180272Z"
    }
   },
   "outputs": [
    {
     "data": {
      "text/plain": [
       "-1"
      ]
     },
     "execution_count": 51,
     "metadata": {},
     "output_type": "execute_result"
    }
   ],
   "source": [
    "info = env.reset()['Learner']\n",
    "level_idx = 0\n",
    "n_steps = 0\n",
    "cv2.namedWindow('img', cv2.WINDOW_NORMAL)\n",
    "agent = Agent(model)\n",
    "\n",
    "while 1:\n",
    "    frame = info.visual_observations[0][0]\n",
    "    speed = info.vector_observations.round(2)\n",
    "    previous_action = info.previous_vector_actions[0]\n",
    "    \n",
    "    cv2.imshow('img', frame[:, :, [2, 1, 0]])\n",
    "    msg = 'Level: %i     n_steps: %i   Reward: %.2f   Speed: %s Text observations: %s' % (\n",
    "        level_idx,\n",
    "        n_steps,\n",
    "        info.rewards[0],\n",
    "        speed,\n",
    "        info.text_observations[0])\n",
    "    cv2.displayOverlay('img', msg)\n",
    "    key = cv2.waitKey(1)\n",
    "    if key == ord('o'):\n",
    "        break\n",
    "    action = agent.get_action_from_model(info)\n",
    "    \n",
    "    info = env.step(vector_action=action)['Learner']\n",
    "    n_steps += 1\n",
    "    is_level_ended = info.max_reached[0] or info.local_done[0]\n",
    "    if is_level_ended:\n",
    "        level_idx += 1\n",
    "        n_steps = 0\n",
    "        agent.reset()\n",
    "        \n",
    "cv2.destroyAllWindows()\n",
    "cv2.waitKey(1)"
   ]
  },
  {
   "cell_type": "markdown",
   "metadata": {},
   "source": [
    "I think that collection of goals has worsened, hopefully it will improve in other categories."
   ]
  },
  {
   "cell_type": "markdown",
   "metadata": {},
   "source": [
    "## Summary"
   ]
  },
  {
   "cell_type": "code",
   "execution_count": null,
   "metadata": {},
   "outputs": [],
   "source": []
  }
 ],
 "metadata": {
  "hide_input": false,
  "kernelspec": {
   "display_name": "Python (animal)",
   "language": "python",
   "name": "animal"
  },
  "language_info": {
   "codemirror_mode": {
    "name": "ipython",
    "version": 3
   },
   "file_extension": ".py",
   "mimetype": "text/x-python",
   "name": "python",
   "nbconvert_exporter": "python",
   "pygments_lexer": "ipython3",
   "version": "3.6.8"
  },
  "toc": {
   "base_numbering": 1,
   "nav_menu": {},
   "number_sections": false,
   "sideBar": true,
   "skip_h1_title": false,
   "title_cell": "Table of Contents",
   "title_sidebar": "Contents",
   "toc_cell": true,
   "toc_position": {},
   "toc_section_display": true,
   "toc_window_display": false
  },
  "varInspector": {
   "cols": {
    "lenName": 16,
    "lenType": 16,
    "lenVar": 40
   },
   "kernels_config": {
    "python": {
     "delete_cmd_postfix": "",
     "delete_cmd_prefix": "del ",
     "library": "var_list.py",
     "varRefreshCmd": "print(var_dic_list())"
    },
    "r": {
     "delete_cmd_postfix": ") ",
     "delete_cmd_prefix": "rm(",
     "library": "var_list.r",
     "varRefreshCmd": "cat(var_dic_list()) "
    }
   },
   "types_to_exclude": [
    "module",
    "function",
    "builtin_function_or_method",
    "instance",
    "_Feature"
   ],
   "window_display": false
  }
 },
 "nbformat": 4,
 "nbformat_minor": 2
}
